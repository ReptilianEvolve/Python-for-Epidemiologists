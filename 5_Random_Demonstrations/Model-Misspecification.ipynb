{
 "cells": [
  {
   "cell_type": "markdown",
   "metadata": {},
   "source": [
    "# Demonstration of Model Misspecification\n",
    "Demonstrates model misspecification for the g-formula. Also highlights the benefit of flexible models\n",
    "\n",
    "Data generating mechanism\n",
    "$$L \\sim N(10, 2)$$\n",
    "$$C \\sim B(0.384)$$\n",
    "$$R \\sim M(0.5, 0.3, 0.2)$$\n",
    "$$W \\sim 0.5L + 0.001L^2 - 3C + 5I(R=1) + \\epsilon$$\n",
    "\n",
    "$$A = expit(-3.2 + 0.454L + 2.1C + 1.3I(R=1) - 2.3W - 0.5C\\times I(R=1) + 1.3W\\times I(R=2))$$\n",
    "\n",
    "$$Y = 50.3 - 10.4 A - 5.1 A \\times C + I(L < 6.7)\\left(\\left(\\frac{L - 10}{5}\\right)^2 + 2\\right) - 0.5 I(L \\ge 6.7)L + 2.4 W - 0.03 W^2 - 5.1 I(R=1) - 20 I(R=2) - 3.1 I(R=1)\\times W + 4 I(R=2) \\times A \\times C$$\n",
    "\n",
    "Below is 1000 simulations of $n=600$, which the curse of dimensionality limits the flexibility we can have in the associated models\n",
    "\n",
    "This data generating mechanism was originally created for a class I was a teaching assistant for. It is a particularly tricky mechanism because $L$ is part step-function and part continuous. This makes it difficult to model correctly (even for machine learning algorithms). The models I chose to include were a variety of potential models that students might try. Students used different flexible models that were fairly close to the truth (< 0.9 off) "
   ]
  },
  {
   "cell_type": "code",
   "execution_count": 1,
   "metadata": {},
   "outputs": [],
   "source": [
    "import numpy as np\n",
    "import pandas as pd\n",
    "from scipy.stats import logistic\n",
    "import matplotlib.pyplot as plt\n",
    "%matplotlib inline\n",
    "\n",
    "from zepid import spline\n",
    "from zepid.causal.gformula import TimeFixedGFormula"
   ]
  },
  {
   "cell_type": "code",
   "execution_count": 2,
   "metadata": {},
   "outputs": [],
   "source": [
    "# Global parameters\n",
    "n = 600\n",
    "sims = 2000\n",
    "np.random.seed(252809532)\n",
    "\n",
    "truth = -12.04989"
   ]
  },
  {
   "cell_type": "code",
   "execution_count": 3,
   "metadata": {},
   "outputs": [],
   "source": [
    "# Containers for results\n",
    "bias_truth = []\n",
    "bias_crude = []\n",
    "bias_main = []\n",
    "bias_quad = []\n",
    "bias_cubic = []\n",
    "bias_compl = []\n",
    "bias_spline = []\n",
    "bias_inter = []\n",
    "bias_sqint = []"
   ]
  },
  {
   "cell_type": "code",
   "execution_count": 4,
   "metadata": {},
   "outputs": [],
   "source": [
    "# Generating background data\n",
    "for s in range(sims):\n",
    "    df = pd.DataFrame()\n",
    "    df['L'] = np.random.normal(loc=10, scale=2, size=n)\n",
    "    df['C'] = np.random.binomial(n=1, p=0.384, size=n)\n",
    "    df[['R0', 'R1', 'R2']] = pd.DataFrame(np.random.multinomial(n=1, pvals=[0.5, 0.3, 0.2], size=n))\n",
    "    df['R'] = np.where(df['R0'] == 1, 0, np.nan)\n",
    "    df['R'] = np.where(df['R1'] == 1, 1, df['R'])\n",
    "    df['R'] = np.where(df['R2'] == 1, 2, df['R'])\n",
    "    df['W'] = 0.5*df['L'] + 0.001*df['L']*df['L'] - 3*df['C'] + 5*df['R1'] + np.random.normal(size=n)\n",
    "\n",
    "    # Generating treatment assignment mechanism\n",
    "    df['A'] = np.random.binomial(1,\n",
    "                                 p=logistic.cdf(-3.2 + 0.454*df['L'] + 2.1*df['C'] + 1.3*df['R1'] - 2.3*df['W'] -\n",
    "                                                0.5*df['C']*df['R1'] + 1.3*df['W']*df['R2']),\n",
    "                                 size=n)\n",
    "\n",
    "    # Generating counterfactuals\n",
    "    df['Ya1'] = (50.3 - 10.4*1 - 5.1*1*df['C'] + np.where(df['L'] < 6.7, 1, 0)*(((df['L'] - 10)/5)**2 + 2) -\n",
    "                 0.5*np.where(df['L'] >= 6.7, 1, 0)*df['L'] + 2.4*df['W'] - 0.03*df['W']*df['W']\n",
    "                 - 5.1*df['R1'] - 20*df['R2'] - 3.1*df['R1']*df['W'] + 4*1*df['C']*df['R2']\n",
    "                 + np.random.normal(size=n))\n",
    "    df['Ya0'] = (50.3 - 10.4*0 - 5.1*0*df['C'] + np.where(df['L'] < 6.7, 1, 0)*(((df['L'] - 10)/5)**2 + 2) -\n",
    "                 0.5*np.where(df['L'] >= 6.7, 1, 0)*df['L'] + 2.4*df['W'] - 0.03*df['W']*df['W']\n",
    "                 - 5.1*df['R1'] - 20*df['R2'] - 3.1*df['R1']*df['W'] + 4*0*df['C']*df['R2']\n",
    "                 + np.random.normal(size=n))\n",
    "    df['Y'] = df['A']*df['Ya1'] + df['Ya0']*(1-df['A'])\n",
    "\n",
    "\n",
    "    # True specification\n",
    "    df['W_sq'] = df['W']**2\n",
    "    df['L_le'] = np.where(df['L'] < 6.7, 1, 0)*(((df['L'] - 10)/5)**2 + 2)\n",
    "    df['L_up'] = np.where(df['L'] >= 6.7, 1, 0)*df['L']\n",
    "    gf = TimeFixedGFormula(df, exposure='A', outcome='Y', outcome_type='normal')\n",
    "    gf.outcome_model(model='A + A:C + L_le + L_up + W + W_sq + R1 + R2 + R1:W + R2:C:A', print_results=False)\n",
    "    gf.fit(treatment='all')\n",
    "    r1 = gf.marginal_outcome\n",
    "    gf.fit(treatment='none')\n",
    "    r0 = gf.marginal_outcome\n",
    "    bias_truth.append(r1 - r0 - truth)\n",
    "\n",
    "    # Crude Model\n",
    "    gf = TimeFixedGFormula(df, exposure='A', outcome='Y', outcome_type='normal')\n",
    "    gf.outcome_model(model='A', print_results=False)\n",
    "    gf.fit(treatment='all')\n",
    "    r1 = gf.marginal_outcome\n",
    "    gf.fit(treatment='none')\n",
    "    r0 = gf.marginal_outcome\n",
    "    bias_crude.append(r1 - r0 - truth)\n",
    "\n",
    "    # Main-Effects Model\n",
    "    gf = TimeFixedGFormula(df, exposure='A', outcome='Y', outcome_type='normal')\n",
    "    gf.outcome_model(model='A + C + W + L + R1 + R2', print_results=False)\n",
    "    gf.fit(treatment='all')\n",
    "    r1 = gf.marginal_outcome\n",
    "    gf.fit(treatment='none')\n",
    "    r0 = gf.marginal_outcome\n",
    "    bias_main.append(r1 - r0 - truth)\n",
    "\n",
    "    # Quadratic\n",
    "    df['W_sq'] = df['W']**2\n",
    "    df['L_sq'] = df['L']**2\n",
    "    gf = TimeFixedGFormula(df, exposure='A', outcome='Y', outcome_type='normal')\n",
    "    gf.outcome_model(model='A + R1 + R2 + C + W + W_sq + L + L_sq', print_results=False)\n",
    "    gf.fit(treatment='all')\n",
    "    r1 = gf.marginal_outcome\n",
    "    gf.fit(treatment='none')\n",
    "    r0 = gf.marginal_outcome\n",
    "    bias_quad.append(r1 - r0 - truth)\n",
    "\n",
    "    # Cubic\n",
    "    df['W_cu'] = df['W']**3\n",
    "    df['L_cu'] = df['L']**3\n",
    "    gf = TimeFixedGFormula(df, exposure='A', outcome='Y', outcome_type='normal')\n",
    "    gf.outcome_model(model='A + R1 + R2 + C + W + W_sq + W_cu + L + L_sq + L_cu', print_results=False)\n",
    "    gf.fit(treatment='all')\n",
    "    r1 = gf.marginal_outcome\n",
    "    gf.fit(treatment='none')\n",
    "    r0 = gf.marginal_outcome\n",
    "    bias_cubic.append(r1 - r0 - truth)\n",
    "\n",
    "    df[['L_rs1', 'L_rs2', 'L_rs3']] = spline(df, var='L', term=3, n_knots=4, restricted=True)\n",
    "    df[['W_rs1', 'W_rs2', 'W_rs3']] = spline(df, var='W', term=3, n_knots=4, restricted=True)\n",
    "\n",
    "    # The Splines\n",
    "    gf = TimeFixedGFormula(df, exposure='A', outcome='Y', outcome_type='normal')\n",
    "    gf.outcome_model(model='A + C + W + W_rs1 + W_rs2 + W_rs3 + '\n",
    "                           'L + L_rs1 + L_rs2 + L_rs3 + R1 + R2', print_results=False)\n",
    "    gf.fit(treatment='all')\n",
    "    r1 = gf.marginal_outcome\n",
    "    gf.fit(treatment='none')\n",
    "    r0 = gf.marginal_outcome\n",
    "    bias_spline.append(r1 - r0 - truth)\n",
    "\n",
    "    # The Interactor Model\n",
    "    gf = TimeFixedGFormula(df, exposure='A', outcome='Y', outcome_type='normal')\n",
    "    gf.outcome_model(model='A + C + W + L + R1 + R2 + A:C + A:W + A:L + A:R1 + A:R2', print_results=False)\n",
    "    gf.fit(treatment='all')\n",
    "    r1 = gf.marginal_outcome\n",
    "    gf.fit(treatment='none')\n",
    "    r0 = gf.marginal_outcome\n",
    "    bias_inter.append(r1 - r0 - truth)\n",
    "\n",
    "    # The Square-Interactor Model\n",
    "    gf = TimeFixedGFormula(df, exposure='A', outcome='Y', outcome_type='normal')\n",
    "    gf.outcome_model(model='A + C + W + W_sq + L + L_sq + R1 + R2 + A:C + A:R1 + A:R2 + A:W + A:W_sq + A:L +''\n",
    "                     'A:L_sq', print_results=False)\n",
    "    gf.fit(treatment='all')\n",
    "    r1 = gf.marginal_outcome\n",
    "    gf.fit(treatment='none')\n",
    "    r0 = gf.marginal_outcome\n",
    "    bias_sqint.append(r1 - r0 - truth)\n"
   ]
  },
  {
   "cell_type": "markdown",
   "metadata": {},
   "source": [
    "## True outcome model\n",
    "Results for the correctly specified g-formula outcome model"
   ]
  },
  {
   "cell_type": "code",
   "execution_count": 5,
   "metadata": {},
   "outputs": [
    {
     "name": "stdout",
     "output_type": "stream",
     "text": [
      "Bias: 0.10878081168457855\n",
      "ESE: 0.5991897515453527\n"
     ]
    },
    {
     "data": {
      "image/png": "[encoded data removed]",
      "text/plain": [
       "<Figure size 432x288 with 1 Axes>"
      ]
     },
     "metadata": {},
     "output_type": "display_data"
    }
   ],
   "source": [
    "print('Bias:', np.mean(bias_truth))\n",
    "print('ESE:', np.std(bias_truth, ddof=1))\n",
    "\n",
    "plt.hist(bias_truth, bins=50)\n",
    "plt.show()"
   ]
  },
  {
   "cell_type": "markdown",
   "metadata": {},
   "source": [
    "## Crude model\n",
    "Outcome model assumes that treatment was randomly assigned\n",
    "$$Y = A$$"
   ]
  },
  {
   "cell_type": "code",
   "execution_count": 6,
   "metadata": {},
   "outputs": [
    {
     "name": "stdout",
     "output_type": "stream",
     "text": [
      "Bias: -6.215899292264532\n",
      "ESE: 0.9994403491926713\n"
     ]
    },
    {
     "data": {
      "image/png": "[encoded data removed]",
      "text/plain": [
       "<Figure size 432x288 with 1 Axes>"
      ]
     },
     "metadata": {},
     "output_type": "display_data"
    }
   ],
   "source": [
    "print('Bias:', np.mean(bias_crude))\n",
    "print('ESE:', np.std(bias_crude, ddof=1))\n",
    "\n",
    "plt.hist(bias_crude, bins=50)\n",
    "plt.show()"
   ]
  },
  {
   "cell_type": "markdown",
   "metadata": {},
   "source": [
    "## Main-effects model\n",
    "Outcome model that only includes the main effects\n",
    "$$Y = A + C + W + L + R_1 + R_2$$"
   ]
  },
  {
   "cell_type": "code",
   "execution_count": 7,
   "metadata": {},
   "outputs": [
    {
     "name": "stdout",
     "output_type": "stream",
     "text": [
      "Bias: -6.423121264762753\n",
      "ESE: 0.6012625450177383\n"
     ]
    },
    {
     "data": {
      "image/png": "[encoded data removed]",
      "text/plain": [
       "<Figure size 432x288 with 1 Axes>"
      ]
     },
     "metadata": {},
     "output_type": "display_data"
    }
   ],
   "source": [
    "print('Bias:', np.mean(bias_main))\n",
    "print('ESE:', np.std(bias_main, ddof=1))\n",
    "\n",
    "plt.hist(bias_main, bins=50)\n",
    "plt.show()"
   ]
  },
  {
   "cell_type": "markdown",
   "metadata": {},
   "source": [
    "## Quadratic model\n",
    "Outcome model that includes all confounders and quadratic terms for continuous variables\n",
    "$$Y = A + R_1 + R_2 + C + W + W^2 + L + L^2$$"
   ]
  },
  {
   "cell_type": "code",
   "execution_count": 8,
   "metadata": {},
   "outputs": [
    {
     "name": "stdout",
     "output_type": "stream",
     "text": [
      "Bias: -0.9009706961769193\n",
      "ESE: 0.37351032146408475\n"
     ]
    },
    {
     "data": {
      "image/png": "[encoded data removed]",
      "text/plain": [
       "<Figure size 432x288 with 1 Axes>"
      ]
     },
     "metadata": {},
     "output_type": "display_data"
    }
   ],
   "source": [
    "print('Bias:', np.mean(bias_quad))\n",
    "print('ESE:', np.std(bias_quad, ddof=1))\n",
    "\n",
    "plt.hist(bias_quad, bins=50)\n",
    "plt.show()"
   ]
  },
  {
   "cell_type": "markdown",
   "metadata": {},
   "source": [
    "## Cubic model\n",
    "Model including cubic terms for continuous variables\n",
    "$$Y = A + R_1 + R_2 + C + W + W^2 + W^3 + L + L^2 + L^3$$"
   ]
  },
  {
   "cell_type": "code",
   "execution_count": 9,
   "metadata": {},
   "outputs": [
    {
     "name": "stdout",
     "output_type": "stream",
     "text": [
      "Bias: -1.261056097131276\n",
      "ESE: 0.3653616711431794\n"
     ]
    },
    {
     "data": {
      "image/png": "[encoded data removed]",
      "text/plain": [
       "<Figure size 432x288 with 1 Axes>"
      ]
     },
     "metadata": {},
     "output_type": "display_data"
    }
   ],
   "source": [
    "print('Bias:', np.mean(bias_cubic))\n",
    "print('ESE:', np.std(bias_cubic, ddof=1))\n",
    "\n",
    "plt.hist(bias_cubic, bins=50)\n",
    "plt.show()"
   ]
  },
  {
   "cell_type": "markdown",
   "metadata": {},
   "source": [
    "## Restricted cubic spline model\n",
    "Model including restricted cubic spline terms for continuous variables\n",
    "$$Y = A + C + W + g(W) + L + g(L) + R_1 + R_2$$"
   ]
  },
  {
   "cell_type": "code",
   "execution_count": 10,
   "metadata": {},
   "outputs": [
    {
     "name": "stdout",
     "output_type": "stream",
     "text": [
      "Bias: -1.4122900092488717\n",
      "ESE: 0.3336099467288711\n"
     ]
    },
    {
     "data": {
      "image/png": "[encoded data removed]",
      "text/plain": [
       "<Figure size 432x288 with 1 Axes>"
      ]
     },
     "metadata": {},
     "output_type": "display_data"
    }
   ],
   "source": [
    "print('Bias:', np.mean(bias_spline))\n",
    "print('ESE:', np.std(bias_spline, ddof=1))\n",
    "\n",
    "plt.hist(bias_spline, bins=50)\n",
    "plt.show()"
   ]
  },
  {
   "cell_type": "markdown",
   "metadata": {},
   "source": [
    "## Interaction model\n",
    "Model including treatment interactions with all variables\n",
    "$$Y = A + C + W + L + R_1 + R_2 + AC + AW + AL + AR_1 + AR_2$$"
   ]
  },
  {
   "cell_type": "code",
   "execution_count": 11,
   "metadata": {},
   "outputs": [
    {
     "name": "stdout",
     "output_type": "stream",
     "text": [
      "Bias: 0.35544312313869897\n",
      "ESE: 1.8789248052235366\n"
     ]
    },
    {
     "data": {
      "image/png": "[encoded data removed]",
      "text/plain": [
       "<Figure size 432x288 with 1 Axes>"
      ]
     },
     "metadata": {},
     "output_type": "display_data"
    }
   ],
   "source": [
    "print('Bias:', np.mean(bias_inter))\n",
    "print('ESE:', np.std(bias_inter, ddof=1))\n",
    "\n",
    "plt.hist(bias_inter, bins=50)\n",
    "plt.show()"
   ]
  },
  {
   "cell_type": "markdown",
   "metadata": {},
   "source": [
    "## Square interaction model\n",
    "Model including square terms and treatment interactions with all variables\n",
    "$$Y = A + C + W + W^2 + L + L^2 + R_1 + R_2 + AC + AR_1 + AR_2$$"
   ]
  },
  {
   "cell_type": "code",
   "execution_count": 12,
   "metadata": {},
   "outputs": [
    {
     "name": "stdout",
     "output_type": "stream",
     "text": [
      "Bias: 0.14308522977383512\n",
      "ESE: 2.214599561143243\n"
     ]
    },
    {
     "data": {
      "image/png": "[encoded data removed]",
      "text/plain": [
       "<Figure size 432x288 with 1 Axes>"
      ]
     },
     "metadata": {},
     "output_type": "display_data"
    }
   ],
   "source": [
    "print('Bias:', np.mean(bias_sqint))\n",
    "print('ESE:', np.std(bias_sqint, ddof=1))\n",
    "\n",
    "plt.hist(bias_sqint, bins=50)\n",
    "plt.show()"
   ]
  }
 ],
 "metadata": {
  "kernelspec": {
   "display_name": "Python 3",
   "language": "python",
   "name": "python3"
  },
  "language_info": {
   "codemirror_mode": {
    "name": "ipython",
    "version": 3
   },
   "file_extension": ".py",
   "mimetype": "text/x-python",
   "name": "python",
   "nbconvert_exporter": "python",
   "pygments_lexer": "ipython3",
   "version": "3.6.3"
  }
 },
 "nbformat": 4,
 "nbformat_minor": 2
}
