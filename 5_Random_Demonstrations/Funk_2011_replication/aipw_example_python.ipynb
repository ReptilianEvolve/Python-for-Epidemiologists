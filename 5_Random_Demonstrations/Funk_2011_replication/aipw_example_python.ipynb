{
 "cells": [
  {
   "cell_type": "markdown",
   "metadata": {},
   "source": [
    "# Demonstration of AIPW with a single sample\n",
    "Data generating mechanism comes from Funk et al. AJE (2011). See online supplementary information for details (or the `dgm.py` file)"
   ]
  },
  {
   "cell_type": "code",
   "execution_count": 1,
   "metadata": {},
   "outputs": [],
   "source": [
    "import numpy as np\n",
    "import pandas as pd\n",
    "import statsmodels.api as sm\n",
    "import statsmodels.formula.api as smf"
   ]
  },
  {
   "cell_type": "markdown",
   "metadata": {},
   "source": [
    "### Loading the data"
   ]
  },
  {
   "cell_type": "code",
   "execution_count": 2,
   "metadata": {},
   "outputs": [
    {
     "name": "stdout",
     "output_type": "stream",
     "text": [
      "<class 'pandas.core.frame.DataFrame'>\n",
      "RangeIndex: 5000 entries, 0 to 4999\n",
      "Data columns (total 5 columns):\n",
      "Z1    5000 non-null float64\n",
      "Z2    5000 non-null float64\n",
      "Z3    5000 non-null int64\n",
      "X     5000 non-null int64\n",
      "Y     5000 non-null float64\n",
      "dtypes: float64(3), int64(2)\n",
      "memory usage: 195.4 KB\n"
     ]
    }
   ],
   "source": [
    "df = pd.read_csv(\"dr_data.csv\")\n",
    "df.info()"
   ]
  },
  {
   "cell_type": "markdown",
   "metadata": {},
   "source": [
    "The exposure is `X`, the outcome is `Y`, and `Z`'s indicate potential confounders. \n",
    "\n",
    "### Estimating Propensity Score (IPW)"
   ]
  },
  {
   "cell_type": "code",
   "execution_count": 3,
   "metadata": {},
   "outputs": [
    {
     "data": {
      "text/html": [
       "<table class=\"simpletable\">\n",
       "<caption>Generalized Linear Model Regression Results</caption>\n",
       "<tr>\n",
       "  <th>Dep. Variable:</th>          <td>X</td>        <th>  No. Observations:  </th>  <td>  5000</td>  \n",
       "</tr>\n",
       "<tr>\n",
       "  <th>Model:</th>                 <td>GLM</td>       <th>  Df Residuals:      </th>  <td>  4997</td>  \n",
       "</tr>\n",
       "<tr>\n",
       "  <th>Model Family:</th>       <td>Binomial</td>     <th>  Df Model:          </th>  <td>     2</td>  \n",
       "</tr>\n",
       "<tr>\n",
       "  <th>Link Function:</th>        <td>logit</td>      <th>  Scale:             </th> <td>  1.0000</td> \n",
       "</tr>\n",
       "<tr>\n",
       "  <th>Method:</th>               <td>IRLS</td>       <th>  Log-Likelihood:    </th> <td> -2992.3</td> \n",
       "</tr>\n",
       "<tr>\n",
       "  <th>Date:</th>           <td>Wed, 13 May 2020</td> <th>  Deviance:          </th> <td>  5984.6</td> \n",
       "</tr>\n",
       "<tr>\n",
       "  <th>Time:</th>               <td>10:24:50</td>     <th>  Pearson chi2:      </th> <td>4.95e+03</td> \n",
       "</tr>\n",
       "<tr>\n",
       "  <th>No. Iterations:</th>         <td>4</td>        <th>  Covariance Type:   </th> <td>nonrobust</td>\n",
       "</tr>\n",
       "</table>\n",
       "<table class=\"simpletable\">\n",
       "<tr>\n",
       "      <td></td>         <th>coef</th>     <th>std err</th>      <th>z</th>      <th>P>|z|</th>  <th>[0.025</th>    <th>0.975]</th>  \n",
       "</tr>\n",
       "<tr>\n",
       "  <th>Intercept</th> <td>    0.7613</td> <td>    0.039</td> <td>   19.672</td> <td> 0.000</td> <td>    0.685</td> <td>    0.837</td>\n",
       "</tr>\n",
       "<tr>\n",
       "  <th>Z1</th>        <td>   -0.7860</td> <td>    0.035</td> <td>  -22.160</td> <td> 0.000</td> <td>   -0.856</td> <td>   -0.716</td>\n",
       "</tr>\n",
       "<tr>\n",
       "  <th>Z3</th>        <td>   -0.9347</td> <td>    0.067</td> <td>  -13.863</td> <td> 0.000</td> <td>   -1.067</td> <td>   -0.803</td>\n",
       "</tr>\n",
       "</table>"
      ],
      "text/plain": [
       "<class 'statsmodels.iolib.summary.Summary'>\n",
       "\"\"\"\n",
       "                 Generalized Linear Model Regression Results                  \n",
       "==============================================================================\n",
       "Dep. Variable:                      X   No. Observations:                 5000\n",
       "Model:                            GLM   Df Residuals:                     4997\n",
       "Model Family:                Binomial   Df Model:                            2\n",
       "Link Function:                  logit   Scale:                          1.0000\n",
       "Method:                          IRLS   Log-Likelihood:                -2992.3\n",
       "Date:                Wed, 13 May 2020   Deviance:                       5984.6\n",
       "Time:                        10:24:50   Pearson chi2:                 4.95e+03\n",
       "No. Iterations:                     4   Covariance Type:             nonrobust\n",
       "==============================================================================\n",
       "                 coef    std err          z      P>|z|      [0.025      0.975]\n",
       "------------------------------------------------------------------------------\n",
       "Intercept      0.7613      0.039     19.672      0.000       0.685       0.837\n",
       "Z1            -0.7860      0.035    -22.160      0.000      -0.856      -0.716\n",
       "Z3            -0.9347      0.067    -13.863      0.000      -1.067      -0.803\n",
       "==============================================================================\n",
       "\"\"\""
      ]
     },
     "execution_count": 3,
     "metadata": {},
     "output_type": "execute_result"
    }
   ],
   "source": [
    "f = sm.families.family.Binomial()\n",
    "propensity_model = smf.glm(\"X ~ Z1 + Z3\", df, family=f).fit()\n",
    "propensity_model.summary()"
   ]
  },
  {
   "cell_type": "code",
   "execution_count": 4,
   "metadata": {},
   "outputs": [],
   "source": [
    "ps = propensity_model.predict(df)"
   ]
  },
  {
   "cell_type": "markdown",
   "metadata": {},
   "source": [
    "### Estimating Outcome Model (g-formula)"
   ]
  },
  {
   "cell_type": "code",
   "execution_count": 5,
   "metadata": {},
   "outputs": [
    {
     "data": {
      "text/html": [
       "<table class=\"simpletable\">\n",
       "<caption>OLS Regression Results</caption>\n",
       "<tr>\n",
       "  <th>Dep. Variable:</th>            <td>Y</td>        <th>  R-squared:         </th> <td>   0.220</td> \n",
       "</tr>\n",
       "<tr>\n",
       "  <th>Model:</th>                   <td>OLS</td>       <th>  Adj. R-squared:    </th> <td>   0.219</td> \n",
       "</tr>\n",
       "<tr>\n",
       "  <th>Method:</th>             <td>Least Squares</td>  <th>  F-statistic:       </th> <td>   468.7</td> \n",
       "</tr>\n",
       "<tr>\n",
       "  <th>Date:</th>             <td>Wed, 13 May 2020</td> <th>  Prob (F-statistic):</th> <td>2.45e-268</td>\n",
       "</tr>\n",
       "<tr>\n",
       "  <th>Time:</th>                 <td>10:24:50</td>     <th>  Log-Likelihood:    </th> <td> -10554.</td> \n",
       "</tr>\n",
       "<tr>\n",
       "  <th>No. Observations:</th>      <td>  5000</td>      <th>  AIC:               </th> <td>2.112e+04</td>\n",
       "</tr>\n",
       "<tr>\n",
       "  <th>Df Residuals:</th>          <td>  4996</td>      <th>  BIC:               </th> <td>2.114e+04</td>\n",
       "</tr>\n",
       "<tr>\n",
       "  <th>Df Model:</th>              <td>     3</td>      <th>                     </th>     <td> </td>    \n",
       "</tr>\n",
       "<tr>\n",
       "  <th>Covariance Type:</th>      <td>nonrobust</td>    <th>                     </th>     <td> </td>    \n",
       "</tr>\n",
       "</table>\n",
       "<table class=\"simpletable\">\n",
       "<tr>\n",
       "      <td></td>         <th>coef</th>     <th>std err</th>      <th>t</th>      <th>P>|t|</th>  <th>[0.025</th>    <th>0.975]</th>  \n",
       "</tr>\n",
       "<tr>\n",
       "  <th>Intercept</th> <td>    0.0969</td> <td>    0.053</td> <td>    1.819</td> <td> 0.069</td> <td>   -0.008</td> <td>    0.201</td>\n",
       "</tr>\n",
       "<tr>\n",
       "  <th>X</th>         <td>   -0.0682</td> <td>    0.062</td> <td>   -1.097</td> <td> 0.273</td> <td>   -0.190</td> <td>    0.054</td>\n",
       "</tr>\n",
       "<tr>\n",
       "  <th>Z1</th>        <td>    0.9565</td> <td>    0.030</td> <td>   31.682</td> <td> 0.000</td> <td>    0.897</td> <td>    1.016</td>\n",
       "</tr>\n",
       "<tr>\n",
       "  <th>Z3</th>        <td>    1.0055</td> <td>    0.063</td> <td>   16.018</td> <td> 0.000</td> <td>    0.882</td> <td>    1.129</td>\n",
       "</tr>\n",
       "</table>\n",
       "<table class=\"simpletable\">\n",
       "<tr>\n",
       "  <th>Omnibus:</th>       <td> 1.810</td> <th>  Durbin-Watson:     </th> <td>   2.011</td>\n",
       "</tr>\n",
       "<tr>\n",
       "  <th>Prob(Omnibus):</th> <td> 0.405</td> <th>  Jarque-Bera (JB):  </th> <td>   1.838</td>\n",
       "</tr>\n",
       "<tr>\n",
       "  <th>Skew:</th>          <td> 0.045</td> <th>  Prob(JB):          </th> <td>   0.399</td>\n",
       "</tr>\n",
       "<tr>\n",
       "  <th>Kurtosis:</th>      <td> 2.975</td> <th>  Cond. No.          </th> <td>    3.66</td>\n",
       "</tr>\n",
       "</table><br/><br/>Warnings:<br/>[1] Standard Errors assume that the covariance matrix of the errors is correctly specified."
      ],
      "text/plain": [
       "<class 'statsmodels.iolib.summary.Summary'>\n",
       "\"\"\"\n",
       "                            OLS Regression Results                            \n",
       "==============================================================================\n",
       "Dep. Variable:                      Y   R-squared:                       0.220\n",
       "Model:                            OLS   Adj. R-squared:                  0.219\n",
       "Method:                 Least Squares   F-statistic:                     468.7\n",
       "Date:                Wed, 13 May 2020   Prob (F-statistic):          2.45e-268\n",
       "Time:                        10:24:50   Log-Likelihood:                -10554.\n",
       "No. Observations:                5000   AIC:                         2.112e+04\n",
       "Df Residuals:                    4996   BIC:                         2.114e+04\n",
       "Df Model:                           3                                         \n",
       "Covariance Type:            nonrobust                                         \n",
       "==============================================================================\n",
       "                 coef    std err          t      P>|t|      [0.025      0.975]\n",
       "------------------------------------------------------------------------------\n",
       "Intercept      0.0969      0.053      1.819      0.069      -0.008       0.201\n",
       "X             -0.0682      0.062     -1.097      0.273      -0.190       0.054\n",
       "Z1             0.9565      0.030     31.682      0.000       0.897       1.016\n",
       "Z3             1.0055      0.063     16.018      0.000       0.882       1.129\n",
       "==============================================================================\n",
       "Omnibus:                        1.810   Durbin-Watson:                   2.011\n",
       "Prob(Omnibus):                  0.405   Jarque-Bera (JB):                1.838\n",
       "Skew:                           0.045   Prob(JB):                        0.399\n",
       "Kurtosis:                       2.975   Cond. No.                         3.66\n",
       "==============================================================================\n",
       "\n",
       "Warnings:\n",
       "[1] Standard Errors assume that the covariance matrix of the errors is correctly specified.\n",
       "\"\"\""
      ]
     },
     "execution_count": 5,
     "metadata": {},
     "output_type": "execute_result"
    }
   ],
   "source": [
    "outcome_model = smf.ols(\"Y ~ X + Z1 + Z3\", df).fit()\n",
    "outcome_model.summary()"
   ]
  },
  {
   "cell_type": "code",
   "execution_count": 6,
   "metadata": {},
   "outputs": [],
   "source": [
    "dfx = df.copy()\n",
    "dfx[\"X\"] = 1\n",
    "y_x1 = outcome_model.predict(dfx)\n",
    "\n",
    "dfx = df.copy()\n",
    "dfx[\"X\"] = 0\n",
    "y_x0 = outcome_model.predict(dfx)"
   ]
  },
  {
   "cell_type": "markdown",
   "metadata": {},
   "source": [
    "### Generating Pseudo-Outcomes"
   ]
  },
  {
   "cell_type": "code",
   "execution_count": 7,
   "metadata": {},
   "outputs": [],
   "source": [
    "y_obs = np.asarray(df['Y'])\n",
    "x_obs = np.asarray(df['X'])\n",
    "\n",
    "y_x1_star = (y_obs*x_obs)/(ps) + (y_x1*(ps-x_obs))/(ps)\n",
    "y_x0_star = (y_obs*(1-x_obs))/(1-ps) + (y_x0*(x_obs - ps))/(1-ps)"
   ]
  },
  {
   "cell_type": "markdown",
   "metadata": {},
   "source": [
    "## AIPW Estimates"
   ]
  },
  {
   "cell_type": "code",
   "execution_count": 8,
   "metadata": {},
   "outputs": [],
   "source": [
    "pseudo_y = y_x1_star - y_x0_star\n",
    "\n",
    "# Point estimate:\n",
    "ate = np.mean(pseudo_y)\n",
    "\n",
    "# Variance:\n",
    "var_ate = np.var(pseudo_y - ate, ddof=1) / df.shape[0]\n",
    "\n",
    "# Confidence intervals:\n",
    "ci_ate = (ate - 1.96*np.sqrt(var_ate), \n",
    "          ate + 1.96*np.sqrt(var_ate))"
   ]
  },
  {
   "cell_type": "code",
   "execution_count": 9,
   "metadata": {},
   "outputs": [
    {
     "name": "stdout",
     "output_type": "stream",
     "text": [
      "-0.07010393035825216\n",
      "(-0.1953023549707608, 0.05509449425425647)\n"
     ]
    }
   ],
   "source": [
    "print(ate)\n",
    "print(ci_ate)"
   ]
  },
  {
   "cell_type": "markdown",
   "metadata": {},
   "source": [
    "For comparison, the g-formula and IPW estimates are provided below"
   ]
  },
  {
   "cell_type": "code",
   "execution_count": 10,
   "metadata": {},
   "outputs": [
    {
     "data": {
      "text/plain": [
       "-0.06816575398930338"
      ]
     },
     "execution_count": 10,
     "metadata": {},
     "output_type": "execute_result"
    }
   ],
   "source": [
    "# G-computation\n",
    "np.mean(y_x1 - y_x0)"
   ]
  },
  {
   "cell_type": "code",
   "execution_count": 11,
   "metadata": {},
   "outputs": [
    {
     "data": {
      "text/plain": [
       "-0.1144067889068286"
      ]
     },
     "execution_count": 11,
     "metadata": {},
     "output_type": "execute_result"
    }
   ],
   "source": [
    "# IPW\n",
    "np.mean((y_obs*x_obs)/ps - (y_obs*(1-x_obs))/(1-ps))"
   ]
  }
 ],
 "metadata": {
  "kernelspec": {
   "display_name": "Python 3",
   "language": "python",
   "name": "python3"
  },
  "language_info": {
   "codemirror_mode": {
    "name": "ipython",
    "version": 3
   },
   "file_extension": ".py",
   "mimetype": "text/x-python",
   "name": "python",
   "nbconvert_exporter": "python",
   "pygments_lexer": "ipython3",
   "version": "3.6.3"
  }
 },
 "nbformat": 4,
 "nbformat_minor": 2
}
