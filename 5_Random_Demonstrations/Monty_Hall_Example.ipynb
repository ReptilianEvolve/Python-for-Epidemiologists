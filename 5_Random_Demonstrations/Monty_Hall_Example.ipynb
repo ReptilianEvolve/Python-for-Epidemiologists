{
 "cells": [
  {
   "cell_type": "markdown",
   "metadata": {},
   "source": [
    "# Monty Hall Problem\n",
    "\n",
    "The Monty Hall problem is a fun probability problem that can be counterintuitive. Pulling from Parade 1990 (vos Savant, Marilyn (9 September 1990). \"Ask Marilyn\". Parade Magazine: 16.) the problem is phrased as:\n",
    "> Suppose you're on a game show, and you're given the choice of three doors: Behind one door is a car; behind the others, goats. You pick a door, say No. 1, and the host, who knows what's behind the doors, opens another door, say No. 3, which has a goat. He then says to you, \"Do you want to pick door No. 2?\" Is it to your advantage to switch your choice?\n",
    "\n",
    "The solution is to always switch your choice. You probability of winning goes from 1/3 to 2/3. There has been a variety of mathematical proofs and other demonstrations of this.\n",
    "\n",
    "That is not to reduce the counterintuitiveness of this answer. For example, Paul Erdos (a famous mathematician) was unconvinced until he say computer simulations demonstrating this. I wrote this program as a simple way to mess around with the problem and explore how switching your choice is always preferred\n",
    "\n",
    "While the original problem is interesting itself, the real fun demonstrations start when you explore more door options. Specifically, a scenario with 5 options is interesting. You can adapt my code to various other scenarios (10 doors / 20 doors / etc.). There are two options to set options and trials. trials controls the number of simulations to run. It is recommended to keep this as a high number. As a default, I have trials=100000."
   ]
  },
  {
   "cell_type": "code",
   "execution_count": 3,
   "metadata": {},
   "outputs": [],
   "source": [
    "import random\n",
    "\n",
    "def monty_hall_simulation(options, trials = 100000):\n",
    "    s1_results = []\n",
    "    s2_results = []\n",
    "\n",
    "    for t in range(trials):\n",
    "        # Setting up the doors/choices\n",
    "        true = random.choice(options)\n",
    "        wrong = [x for x in options if x != true]\n",
    "\n",
    "        # First decision can't be better than a random guess...\n",
    "        choice = random.choice(options)\n",
    "\n",
    "        # Revealing a false door\n",
    "        if choice not in wrong:\n",
    "            reveal = random.choice(wrong)\n",
    "        else:\n",
    "            reveal = [x for x in wrong if x != choice][0]\n",
    "        updated_options = [x for x in options if x != reveal]\n",
    "\n",
    "        # Strategy 1: Keeping same door choice\n",
    "        strategy1 = choice\n",
    "        # Strategy 2: Switching your door choice to another randomly selected door (that is not your original door)\n",
    "        strategy2 = random.choice([x for x in updated_options if x != choice])\n",
    "\n",
    "        # Recording each strategy result\n",
    "        if strategy1 == true:\n",
    "            s1_results.append(1)\n",
    "        if strategy2 == true:\n",
    "            s2_results.append(1)\n",
    "        \n",
    "    print('=================================')\n",
    "    print('Strategy 1: keep original choice')\n",
    "    print('Strategy 2: switch door selection')\n",
    "    print('---------------------------------')\n",
    "    print('Strategy 1 results:', round(len(s1_results) / trials, 5))\n",
    "    print('Strategy 2 results:', round(len(s2_results) / trials, 5))\n",
    "    print('=================================')\n"
   ]
  },
  {
   "cell_type": "markdown",
   "metadata": {},
   "source": [
    "## Three-Door Problem\n",
    "First, we will start with the problem as originally stated, with three doors. The prize is only behind one door. Is keeping the original choice (Strategy 1) better than changing your choice (randomly) to another door (Strategy 2)?"
   ]
  },
  {
   "cell_type": "code",
   "execution_count": 4,
   "metadata": {},
   "outputs": [
    {
     "name": "stdout",
     "output_type": "stream",
     "text": [
      "=================================\n",
      "Strategy 1: keep original choice\n",
      "Strategy 2: switch door selection\n",
      "---------------------------------\n",
      "Strategy 1 results: 0.33209\n",
      "Strategy 2 results: 0.66791\n",
      "=================================\n"
     ]
    }
   ],
   "source": [
    "monty_hall_simulation(options=[1, 2, 3])"
   ]
  },
  {
   "cell_type": "markdown",
   "metadata": {},
   "source": [
    "As we can see, strategy 2 outperforms strategy 1\n",
    "\n",
    "## Five-Door Problem\n",
    "We can now expand the problem to have five doors instead of three. Is switching choices still better? (yes it is)"
   ]
  },
  {
   "cell_type": "code",
   "execution_count": 5,
   "metadata": {},
   "outputs": [
    {
     "name": "stdout",
     "output_type": "stream",
     "text": [
      "=================================\n",
      "Strategy 1: keep original choice\n",
      "Strategy 2: switch door selection\n",
      "---------------------------------\n",
      "Strategy 1 results: 0.20205\n",
      "Strategy 2 results: 0.26546\n",
      "=================================\n"
     ]
    }
   ],
   "source": [
    "monty_hall_simulation(options=[1, 2, 3, 4, 5])"
   ]
  }
 ],
 "metadata": {
  "kernelspec": {
   "display_name": "Python 3",
   "language": "python",
   "name": "python3"
  },
  "language_info": {
   "codemirror_mode": {
    "name": "ipython",
    "version": 3
   },
   "file_extension": ".py",
   "mimetype": "text/x-python",
   "name": "python",
   "nbconvert_exporter": "python",
   "pygments_lexer": "ipython3",
   "version": "3.6.3"
  }
 },
 "nbformat": 4,
 "nbformat_minor": 2
}
