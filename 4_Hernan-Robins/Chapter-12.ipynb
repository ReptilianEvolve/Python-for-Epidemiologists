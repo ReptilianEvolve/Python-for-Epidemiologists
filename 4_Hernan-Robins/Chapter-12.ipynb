{
 "cells": [
  {
   "cell_type": "markdown",
   "metadata": {},
   "source": [
    "# Chapter 12: IPW and Marginal Structural Models\n",
    "This notebook goes through Chapter 12 of “Hernán MA, Robins JM (2019). Causal Inference. Boca Raton: Chapman & Hall/CRC, forthcoming”, which details the use of inverse probability weights for causal inference using models. Within this notebook, I will use *zEpid* to recreate the analyses detailed in chapter 12. As an introduction to causal inference and the associated methods, I highly recommend reviewing this book, which the preprint is available for free at: https://www.hsph.harvard.edu/miguel-hernan/causal-inference-book/\n",
    "\n",
    "### Data Preparation\n",
    "Data comes from the National Health and Nutrition Examination Survey Data I Epidemiologic\n",
    "Follow-up Study (NHEFS). The NHEFS was jointly initiated by the National Center for Health Statistics and the\n",
    "National Institute on Aging in collaboration with other agencies of the United States Public Health Service. A\n",
    "detailed description of the NHEFS, together with publicly available data sets and documentation, can be found at\n",
    "wwwn.cdc.gov/nchs/nhanes/nhefs/ \n",
    "\n",
    "The data set used in the book and this tutorial is a subset of the full NHEFS. First, we will load the data and run some basic variable manipulations. We are interested in estimating the average causal effect ($E[Y^{a=1}] - E[Y^{a=0}]$) of stopping smoking (`qsmk`) on 10-year weight change (`wt82_71`). See Fine Point 12.2 for details on problems with this example (specifically, there is selection bias induced by how our treatment variable is defined)"
   ]
  },
  {
   "cell_type": "code",
   "execution_count": 1,
   "metadata": {},
   "outputs": [],
   "source": [
    "%matplotlib inline\n",
    "\n",
    "import numpy as np\n",
    "import pandas as pd\n",
    "import statsmodels.api as sm\n",
    "import statsmodels.formula.api as smf\n",
    "import matplotlib.pyplot as plt\n",
    "\n",
    "from zepid.causal.ipw import IPTW, IPMW\n",
    "\n",
    "df = pd.read_csv('Data/nhefs.csv')\n",
    "df.dropna(subset=['sex', 'age', 'race', 'wt82', 'ht', \n",
    "                  'school', 'alcoholpy', 'smokeintensity'], \n",
    "         inplace=True)\n",
    "\n",
    "# recoding some variables\n",
    "df['inactive'] = np.where(df['active'] == 2, 1, 0)\n",
    "df['no_exercise'] = np.where(df['exercise'] == 2, 1, 0)\n",
    "df['university'] = np.where(df['education'] == 5, 1, 0)\n",
    "\n",
    "# creating quadratic terms\n",
    "for col in ['age', 'wt71', 'smokeintensity', 'smokeyrs']:\n",
    "    df[col+'_sq'] = df[col] * df[col]\n",
    "\n"
   ]
  },
  {
   "cell_type": "markdown",
   "metadata": {},
   "source": [
    "## Section 12.1\n",
    "We can calculate the average associational measure as $\\hat{E}[Y|A=1] - \\hat{E}[Y|A=0]$. However, we will be unable to (or unwilling) to interpret this as a causal effect. We can calculate this using ordinary least squares to calculate the associational measure. For this, we will only use `statsmodels` implementation via `ols`. `ols`, unlike `OLS`, automatically adds an intercept to our model and looks more like R's regression implementations. I mention this distinction since jfiedler uses `OLS` while I will use `ols`. Other than this distinction, the approaches are equivalent"
   ]
  },
  {
   "cell_type": "code",
   "execution_count": 2,
   "metadata": {},
   "outputs": [
    {
     "name": "stdout",
     "output_type": "stream",
     "text": [
      "Estimation of association\n",
      "--------------------------------------\n",
      "Weight change (kg) among quitters\n",
      "E[Y|A=1] =  4.53 \n",
      "\n",
      "Weight change (kg) among non-quitters\n",
      "E[Y|A=1] =  1.98\n",
      "--------------------------------------\n"
     ]
    }
   ],
   "source": [
    "print('Estimation of association')\n",
    "print('--------------------------------------')\n",
    "print('Weight change (kg) among quitters')\n",
    "print('E[Y|A=1] = ', np.round(np.mean(df.loc[df['qsmk'] == 1, 'wt82_71']), 2), '\\n')\n",
    "print('Weight change (kg) among non-quitters')\n",
    "print('E[Y|A=1] = ', np.round(np.mean(df.loc[df['qsmk'] == 0, 'wt82_71']), 2))\n",
    "print('--------------------------------------')"
   ]
  },
  {
   "cell_type": "code",
   "execution_count": 3,
   "metadata": {},
   "outputs": [
    {
     "name": "stdout",
     "output_type": "stream",
     "text": [
      "Associational Difference\n",
      "--------------------------------------\n",
      "E[Y|A=1] - E[Y|A=0] =  2.54\n",
      "95% CL: 1.66, 3.43\n",
      "--------------------------------------\n"
     ]
    }
   ],
   "source": [
    "m = smf.ols('wt82_71 ~ qsmk', df).fit()\n",
    "beta = m.params[1]\n",
    "lcl = np.round(m.conf_int()[0]['qsmk'], 2)\n",
    "ucl = np.round(m.conf_int()[1]['qsmk'], 2)\n",
    "\n",
    "print('Associational Difference')\n",
    "print('--------------------------------------')\n",
    "print('E[Y|A=1] - E[Y|A=0] = ', np.round(beta, 2))\n",
    "print('95% CL: '+str(lcl)+', '+str(ucl))\n",
    "print('--------------------------------------')"
   ]
  },
  {
   "cell_type": "markdown",
   "metadata": {},
   "source": [
    "## Section 12.2\n",
    "To estimate the causal effect of quitting smoking on weight change (in kg), we will use inverse probability of treatments weights. Specifically, we will assume $Y^a \\amalg A|L$, where $L$ includes sex, race, age, education, smoking duration, smoking intensity, exercise, recreational activity, and baseline weight. Weights will be constructed via the following formula\n",
    "$$ \\hat{w}_i = \\frac{1}{\\widehat{\\Pr}(A_i=a | L_i)}$$\n",
    "where the probability is estimated using a logistic regression model.\n",
    "\n",
    "To estimate $\\hat{w}$, we can use `IPTW` in *zEpid*. We will initialize `IPTW` with the data set (`df`), treatment (`qsmk`), and we will specify the optional argument `stabilized=False` to request the above $w$ formulation. We then specify the regression model to estimate our weights. We will fit the following regression model\n",
    "$$logit(\\widehat{\\Pr}(A=1|L)) = \\beta_0 + \\beta L$$\n",
    "where $L$ is a matrix containing all the variables in our model.  ...\n",
    "\n",
    "One advantage of the R approach to fitting models is that we can use `patsy` magic. Specifically, we will avoid creating indicator (dummy) variables for our categorical variables. Instead we will use `C(...)`, which tells patsy we want that variable to be a categorical variables. We will do this for `active` and `exercise`. "
   ]
  },
  {
   "cell_type": "code",
   "execution_count": 4,
   "metadata": {},
   "outputs": [],
   "source": [
    "# initialize the IPTW and estimate weights\n",
    "iptw = IPTW(df, treatment='qsmk', stabilized=False)\n",
    "iptw.regression_models('sex + race + age + age_sq + C(education) + smokeintensity + ' + \n",
    "                       'smokeintensity_sq + smokeyrs + smokeyrs_sq + C(exercise) + ' + \n",
    "                       'C(active) + wt71 + wt71_sq', \n",
    "                       print_results=False)\n",
    "iptw.fit()"
   ]
  },
  {
   "cell_type": "code",
   "execution_count": 5,
   "metadata": {},
   "outputs": [
    {
     "data": {
      "image/png": "[encoded data removed]",
      "text/plain": [
       "<Figure size 432x288 with 1 Axes>"
      ]
     },
     "metadata": {},
     "output_type": "display_data"
    },
    {
     "name": "stdout",
     "output_type": "stream",
     "text": [
      "======================================================================\n",
      "          Inverse Probability of Treatment Weight Diagnostics\n",
      "======================================================================\n",
      "If the mean of the weights is far from either the min or max, this may\n",
      " indicate the model is incorrect or positivity is violated\n",
      "Average weight should be\n",
      "\t1.0 for stabilized\n",
      "\t2.0 for unstabilized\n",
      "Standard deviation can help in IPTW model selection\n",
      "----------------------------------------------------------------------\n",
      "Mean weight:            2.0\n",
      "Standard Deviation:     1.47\n",
      "Minimum weight:         1.05\n",
      "Maximum weight:         16.7\n",
      "======================================================================\n"
     ]
    },
    {
     "data": {
      "image/png": "[encoded data removed]",
      "text/plain": [
       "<Figure size 432x288 with 1 Axes>"
      ]
     },
     "metadata": {},
     "output_type": "display_data"
    }
   ],
   "source": [
    "# diagnostics for weights\n",
    "iptw.plot_love()\n",
    "plt.show()\n",
    "\n",
    "iptw.positivity(decimal=2)\n",
    "\n",
    "iptw.plot_kde()\n",
    "plt.show()"
   ]
  },
  {
   "cell_type": "markdown",
   "metadata": {},
   "source": [
    "I ran some additional diagnostics in addition to what is discussed in the book. I created a Love plot, which assesses covariate balance measured by standardized mean differences. According to this measure, we have good balance by our measured covariates and weights. \n",
    "\n",
    "The IPTW diagnostics match what is described in the book results. The average weight of 2 (as expected) with an min of 1.05 and max of 16.7. \n",
    "\n",
    "Lastly, the density plot suggests there is a fair bit of overlap of propensity scores between treated and untreated. However, there are few treated individuals at the low end of the distribution and few untreated individuals at the higher end of the distribution"
   ]
  },
  {
   "cell_type": "code",
   "execution_count": 6,
   "metadata": {},
   "outputs": [
    {
     "name": "stdout",
     "output_type": "stream",
     "text": [
      "Average Causal Effect\n",
      "--------------------------------------\n",
      "E[Y|A=1] - E[Y|A=0] =  3.44\n",
      "95% CL: 2.41, 4.47\n",
      "--------------------------------------\n"
     ]
    }
   ],
   "source": [
    "# estimation of marginal structural model\n",
    "m = smf.gee('wt82_71 ~ qsmk', df.index, df, weights=iptw.Weight).fit()\n",
    "beta = m.params[1]\n",
    "lcl = np.round(m.conf_int()[0]['qsmk'], 2)\n",
    "ucl = np.round(m.conf_int()[1]['qsmk'], 2)\n",
    "\n",
    "print('Average Causal Effect')\n",
    "print('--------------------------------------')\n",
    "print('E[Y|A=1] - E[Y|A=0] = ', np.round(beta, 2))\n",
    "print('95% CL: '+str(lcl)+', '+str(ucl))\n",
    "print('--------------------------------------')"
   ]
  },
  {
   "cell_type": "markdown",
   "metadata": {},
   "source": [
    "Similar to discussed in the book, we calculate confidence intervals using GEE with an independent correlation structure. This results in valid (but slightly conservative) confidence intervals. For further details see the book.\n",
    "\n",
    "## Section 12.3\n",
    "We will now repeat the analysis described in the previous section but using stabilized weights instead. Weights will now be constructed via the following formula\n",
    "$$ \\hat{w}_i = \\frac{\\widehat{\\Pr}(A_i=a)}{\\widehat{\\Pr}(A_i=a | L_i)}$$\n",
    "where the probability is estimated using a logistic regression model.\n",
    "\n",
    "The only difference we make is that `IPTW` is initialized with `stabilized=True` instead"
   ]
  },
  {
   "cell_type": "code",
   "execution_count": 7,
   "metadata": {},
   "outputs": [],
   "source": [
    "# initialize the IPTW and estimate weights\n",
    "iptw = IPTW(df, treatment='qsmk', stabilized=True)\n",
    "iptw.regression_models('sex + race + age + age_sq + C(education) + smokeintensity + ' + \n",
    "                       'smokeintensity_sq + smokeyrs + smokeyrs_sq + C(exercise) + ' + \n",
    "                       'C(active) + wt71 + wt71_sq', \n",
    "                       print_results=False)\n",
    "iptw.fit()"
   ]
  },
  {
   "cell_type": "code",
   "execution_count": 8,
   "metadata": {},
   "outputs": [
    {
     "data": {
      "image/png": "[encoded data removed]",
      "text/plain": [
       "<Figure size 432x288 with 1 Axes>"
      ]
     },
     "metadata": {},
     "output_type": "display_data"
    },
    {
     "name": "stdout",
     "output_type": "stream",
     "text": [
      "======================================================================\n",
      "          Inverse Probability of Treatment Weight Diagnostics\n",
      "======================================================================\n",
      "If the mean of the weights is far from either the min or max, this may\n",
      " indicate the model is incorrect or positivity is violated\n",
      "Average weight should be\n",
      "\t1.0 for stabilized\n",
      "\t2.0 for unstabilized\n",
      "Standard deviation can help in IPTW model selection\n",
      "----------------------------------------------------------------------\n",
      "Mean weight:            1.0\n",
      "Standard Deviation:     0.29\n",
      "Minimum weight:         0.33\n",
      "Maximum weight:         4.3\n",
      "======================================================================\n"
     ]
    },
    {
     "data": {
      "image/png": "[encoded data removed]",
      "text/plain": [
       "<Figure size 432x288 with 1 Axes>"
      ]
     },
     "metadata": {},
     "output_type": "display_data"
    }
   ],
   "source": [
    "# diagnostics for weights\n",
    "iptw.plot_love()\n",
    "plt.show()\n",
    "\n",
    "iptw.positivity(decimal=2)\n",
    "\n",
    "iptw.plot_kde()\n",
    "plt.show()"
   ]
  },
  {
   "cell_type": "code",
   "execution_count": 9,
   "metadata": {},
   "outputs": [
    {
     "name": "stdout",
     "output_type": "stream",
     "text": [
      "Average Causal Effect\n",
      "--------------------------------------\n",
      "E[Y|A=1] - E[Y|A=0] =  3.44\n",
      "95% CL: 2.41, 4.47\n",
      "--------------------------------------\n"
     ]
    }
   ],
   "source": [
    "# estimation of marginal structural model\n",
    "m = smf.gee('wt82_71 ~ qsmk', df.index, df, weights=iptw.Weight).fit()\n",
    "beta = m.params[1]\n",
    "lcl = np.round(m.conf_int()[0]['qsmk'], 2)\n",
    "ucl = np.round(m.conf_int()[1]['qsmk'], 2)\n",
    "\n",
    "print('Average Causal Effect')\n",
    "print('--------------------------------------')\n",
    "print('E[Y|A=1] - E[Y|A=0] = ', np.round(beta, 2))\n",
    "print('95% CL: '+str(lcl)+', '+str(ucl))\n",
    "print('--------------------------------------')"
   ]
  },
  {
   "cell_type": "markdown",
   "metadata": {},
   "source": [
    "The estimate is the same in the previous section. As long as the marginal structural model is saturated, the unstabilized and stabilized IPTW should produce the same answer. While our results are the same, stabilized weights generally perform better with regards to precision. As such, *zEpid* defaults to calculating stabilized IPTW.\n",
    "\n",
    "The diagnostics of \"well-behaved\" weights changes. Instead of a mean of 2, stabilized weights have a mean of 1.\n",
    "\n",
    "## Section 12.4\n",
    "### Continuous Treatments\n",
    "Currently *zEpid* does not support continuous treatments for `IPTW`. This is a planned addition for the future.\n",
    "\n",
    "The issue I have to work through is allowing sufficient flexibility of modeling choices for treatment. For these models you need the probability density function ($f(A|L)$), which can be hard to estimate correctly"
   ]
  },
  {
   "cell_type": "code",
   "execution_count": null,
   "metadata": {},
   "outputs": [],
   "source": []
  },
  {
   "cell_type": "markdown",
   "metadata": {},
   "source": [
    "### Binary Outcomes\n",
    "Below is a demonstration of estimating the causal effect of quitting smoking (`qsmk`) on the risk of death (`death`). We already have our weights for quitting smoking and will assume the same set $L$ is sufficient for conditional exchangeability. For demonstration purposes, I will re-estimate the weights to keep all the code together"
   ]
  },
  {
   "cell_type": "code",
   "execution_count": 9,
   "metadata": {},
   "outputs": [
    {
     "name": "stdout",
     "output_type": "stream",
     "text": [
      "Causal Odds Ratio\n",
      "--------------------------------------\n",
      "OR =  1.03\n",
      "95% CL: 0.76, 1.4\n",
      "--------------------------------------\n"
     ]
    }
   ],
   "source": [
    "# initialize the IPTW and estimate weights\n",
    "iptw = IPTW(df, treatment='qsmk', stabilized=True)\n",
    "iptw.regression_models('sex + race + age + age_sq + C(education) + smokeintensity + ' + \n",
    "                       'smokeintensity_sq + smokeyrs + smokeyrs_sq + C(exercise) + ' + \n",
    "                       'C(active) + wt71 + wt71_sq', \n",
    "                       print_results=False)\n",
    "iptw.fit()\n",
    "\n",
    "# estimation of marginal structural model\n",
    "m = smf.gee('death ~ qsmk', df.index, df, weights=iptw.Weight, \n",
    "           family=sm.families.Binomial()).fit()\n",
    "beta = np.exp(m.params[1])\n",
    "lcl = np.round(np.exp(m.conf_int()[0]['qsmk']), 2)\n",
    "ucl = np.round(np.exp(m.conf_int()[1]['qsmk']), 2)\n",
    "\n",
    "print('Causal Odds Ratio')\n",
    "print('--------------------------------------')\n",
    "print('OR = ', np.round(beta, 2))\n",
    "print('95% CL: '+str(lcl)+', '+str(ucl))\n",
    "print('--------------------------------------')"
   ]
  },
  {
   "cell_type": "markdown",
   "metadata": {},
   "source": [
    "## Section 12.5\n",
    "Now we will look at how to estimate effect modification. In the example, we are interested in effect modification by sex (`sex`) of quitting smoking (`qsmk`) on 10-year weight change (`wt71_82`). To do this, we will estimate the following marginal structural model\n",
    "$$E[Y^a|V] = \\beta_0 + \\beta_1 a + \\beta_2 V a + \\beta_3 V$$\n",
    "where $V$ is our modifier (sex)\n",
    "\n",
    "We can conclude that there is additive effect modification if $\\beta_2 \\ne 0$. Note that this is no longer a *marginal* structural model, since we are actually conditioning on $V$ in the model. However, we still use the term MSM. For creating the weights, the set $L$ must contain $V$. We will construct the stabilized weights with the following formula. Note that I will write $V$ separate from $L$ to emphasize it is part of both the numerator and denominator\n",
    "$$\\hat{w}_i = \\frac{\\widehat{\\Pr}(A_i=a|V_i)}{\\widehat{\\Pr}(A=a|V_i, L_i)}$$\n",
    "For estimation of these new weights in *zEpid*, we will add another optional argument. This argument is part of the regression model statement. We will specify `model_numerator='sex'`, which tells *zEpid* that we want the conditional probability in the numerator.\n",
    "\n",
    "Lastly, we will use some additional `patsy` magic to reduce the recoding we need to do. Specificially we will use `:` to generate an interaction term in our marginal structural model"
   ]
  },
  {
   "cell_type": "code",
   "execution_count": 10,
   "metadata": {},
   "outputs": [
    {
     "name": "stdout",
     "output_type": "stream",
     "text": [
      "                               GEE Regression Results                              \n",
      "===================================================================================\n",
      "Dep. Variable:                     wt82_71   No. Observations:                 1566\n",
      "Model:                                 GEE   No. clusters:                     1566\n",
      "Method:                        Generalized   Min. cluster size:                   1\n",
      "                      Estimating Equations   Max. cluster size:                   1\n",
      "Family:                           Gaussian   Mean cluster size:                 1.0\n",
      "Dependence structure:         Independence   Num. iterations:                     2\n",
      "Date:                     Tue, 02 Apr 2019   Scale:                          60.953\n",
      "Covariance type:                    robust   Time:                         14:21:40\n",
      "==============================================================================\n",
      "                 coef    std err          z      P>|z|      [0.025      0.975]\n",
      "------------------------------------------------------------------------------\n",
      "Intercept      1.7844      0.310      5.759      0.000       1.177       2.392\n",
      "qsmk           3.5220      0.657      5.360      0.000       2.234       4.810\n",
      "sex           -0.0087      0.449     -0.019      0.984      -0.888       0.871\n",
      "qsmk:sex      -0.1595      1.046     -0.152      0.879      -2.210       1.891\n",
      "==============================================================================\n",
      "Skew:                          0.1114   Kurtosis:                       3.7341\n",
      "Centered skew:                 0.0000   Centered kurtosis:             -3.0000\n",
      "==============================================================================\n"
     ]
    }
   ],
   "source": [
    "# initialize the IPTW and estimate weights\n",
    "iptw = IPTW(df, treatment='qsmk', stabilized=True)\n",
    "iptw.regression_models('sex + race + age + age_sq + C(education) + smokeintensity + ' + \n",
    "                       'smokeintensity_sq + smokeyrs + smokeyrs_sq + C(exercise) + ' + \n",
    "                       'C(active) + wt71 + wt71_sq', \n",
    "                       model_numerator='sex',\n",
    "                       print_results=False)\n",
    "iptw.fit()\n",
    "\n",
    "# estimation of faux marginal structural model\n",
    "m = smf.gee('wt82_71 ~ qsmk + sex + qsmk:sex', df.index, df, weights=iptw.Weight).fit()\n",
    "print(m.summary())"
   ]
  },
  {
   "cell_type": "markdown",
   "metadata": {},
   "source": [
    "The $\\beta$ for interaction was -0.16 (95% CL: -2.21, 1.89), indicating that there is not strong evidence for effect modification by gender\n",
    "\n",
    "## Section 12.6\n",
    "Going back to the start, we excluded 63 individuals with missing weights at 1982. However, this can result in selection bias. We will now use inverse probability of missing weights to relax the current assumption of 1982 weights missing completely at random. We will do this by using `IPMW`.\n",
    "\n",
    "Our new weights (to simultaneously adjust for confounders and accounting for missing at random weights) will have the following form\n",
    "$$\\hat{w}_i^* = \\frac{1}{\\widehat{\\Pr}(M=0|L,A)} \\times \\frac{1}{\\widehat{\\Pr}(A=a|L_i)}$$\n",
    "where $M$ is an indicator whether the person has a missing weight in 1982. We can also calculate stabilized weights via the following\n",
    "$$\\hat{w}_i^* = \\frac{\\widehat{\\Pr}(M=0|A)}{\\widehat{\\Pr}(M=0|L,A)} \\times \\frac{\\widehat{\\Pr}(A_i=a)}{\\widehat{\\Pr}(A=a| L_i)}$$\n",
    "\n",
    "We will estimate IPMW by using `IPMW`. `IPMW` has a similar syntax structure to `IPTW`. One nice thing about `IPMW` is that it automatically detects missing data for us. We only need to provide the variable(s) that have missing data. Not to get sidetracked, but `IPMW` also supports monotonic missing data (with plans to include non-monotonic missing data in the future). Let's demonstrate `IPMW` for a single missing variable with unstabilized weights first"
   ]
  },
  {
   "cell_type": "code",
   "execution_count": 11,
   "metadata": {},
   "outputs": [],
   "source": [
    "# Reloading the data (including 1982 weight missing)\n",
    "df = pd.read_csv('Data/nhefs.csv')\n",
    "df.dropna(subset=['sex', 'age', 'race', 'ht', \n",
    "                  'school', 'alcoholpy', 'smokeintensity'], \n",
    "         inplace=True)\n",
    "\n",
    "# recoding some variables\n",
    "df['inactive'] = np.where(df['active'] == 2, 1, 0)\n",
    "df['no_exercise'] = np.where(df['exercise'] == 2, 1, 0)\n",
    "df['university'] = np.where(df['education'] == 5, 1, 0)\n",
    "\n",
    "# creating quadratic terms\n",
    "for col in ['age', 'wt71', 'smokeintensity', 'smokeyrs']:\n",
    "    df[col+'_sq'] = df[col] * df[col]\n"
   ]
  },
  {
   "cell_type": "code",
   "execution_count": 12,
   "metadata": {},
   "outputs": [
    {
     "name": "stdout",
     "output_type": "stream",
     "text": [
      "Average Causal Effect\n",
      "--------------------------------------\n",
      "E[Y|A=1] - E[Y|A=0] =  3.5\n",
      "95% CL: 2.47, 4.53\n",
      "--------------------------------------\n"
     ]
    }
   ],
   "source": [
    "# Calculating IPMW\n",
    "ipmw = IPMW(df, missing_variable='wt82_71', stabilized=False)\n",
    "ipmw.regression_models('sex + race + age + age_sq + C(education) + smokeintensity + ' + \n",
    "                       'smokeintensity_sq + smokeyrs + smokeyrs_sq + C(exercise) + ' + \n",
    "                       'C(active) + wt71 + wt71_sq + qsmk', \n",
    "                       print_results=False)\n",
    "ipmw.fit()\n",
    "\n",
    "# Calculating IPTW\n",
    "iptw = IPTW(df, treatment='qsmk', stabilized=False)\n",
    "iptw.regression_models('sex + race + age + age_sq + C(education) + smokeintensity + ' + \n",
    "                       'smokeintensity_sq + smokeyrs + smokeyrs_sq + C(exercise) + ' + \n",
    "                       'C(active) + wt71 + wt71_sq', \n",
    "                       print_results=False)\n",
    "iptw.fit()\n",
    "\n",
    "# estimation of marginal structural model\n",
    "m = smf.gee('wt82_71 ~ qsmk', df.index, df, weights=iptw.Weight*ipmw.Weight).fit()\n",
    "beta = m.params[1]\n",
    "lcl = np.round(m.conf_int()[0]['qsmk'], 2)\n",
    "ucl = np.round(m.conf_int()[1]['qsmk'], 2)\n",
    "\n",
    "print('Average Causal Effect')\n",
    "print('--------------------------------------')\n",
    "print('E[Y|A=1] - E[Y|A=0] = ', np.round(beta, 2))\n",
    "print('95% CL: '+str(lcl)+', '+str(ucl))\n",
    "print('--------------------------------------')"
   ]
  },
  {
   "cell_type": "markdown",
   "metadata": {},
   "source": [
    "Now I will repeat the same process, but will use stabilized weights instead"
   ]
  },
  {
   "cell_type": "code",
   "execution_count": 13,
   "metadata": {},
   "outputs": [
    {
     "name": "stdout",
     "output_type": "stream",
     "text": [
      "Average Causal Effect\n",
      "--------------------------------------\n",
      "E[Y|A=1] - E[Y|A=0] =  3.5\n",
      "95% CL: 2.47, 4.53\n",
      "--------------------------------------\n"
     ]
    }
   ],
   "source": [
    "# Calculating IPMW\n",
    "ipmw = IPMW(df, missing_variable='wt82_71', stabilized=True)\n",
    "ipmw.regression_models('sex + race + age + age_sq + C(education) + smokeintensity + ' + \n",
    "                       'smokeintensity_sq + smokeyrs + smokeyrs_sq + C(exercise) + ' + \n",
    "                       'C(active) + wt71 + wt71_sq + qsmk', \n",
    "                       model_numerator='qsmk',\n",
    "                       print_results=False)\n",
    "ipmw.fit()\n",
    "\n",
    "# Calculating IPTW\n",
    "iptw = IPTW(df, treatment='qsmk', stabilized=True)\n",
    "iptw.regression_models('sex + race + age + age_sq + C(education) + smokeintensity + ' + \n",
    "                       'smokeintensity_sq + smokeyrs + smokeyrs_sq + C(exercise) + ' + \n",
    "                       'C(active) + wt71 + wt71_sq', \n",
    "                       print_results=False)\n",
    "iptw.fit()\n",
    "\n",
    "# estimation of marginal structural model\n",
    "m = smf.gee('wt82_71 ~ qsmk', df.index, df, weights=iptw.Weight*ipmw.Weight).fit()\n",
    "beta = m.params[1]\n",
    "lcl = np.round(m.conf_int()[0]['qsmk'], 2)\n",
    "ucl = np.round(m.conf_int()[1]['qsmk'], 2)\n",
    "\n",
    "print('Average Causal Effect')\n",
    "print('--------------------------------------')\n",
    "print('E[Y|A=1] - E[Y|A=0] = ', np.round(beta, 2))\n",
    "print('95% CL: '+str(lcl)+', '+str(ucl))\n",
    "print('--------------------------------------')"
   ]
  },
  {
   "cell_type": "markdown",
   "metadata": {},
   "source": [
    "## Conclusion\n",
    "That concludes chapter 12 of \"Causal Inference\" by Hernan and Robins. Please review the other tutorials on this site for more details and features of `IPTW`, `IPMW`, and other functionalities. In the next tutorial, we will go through the parametric g-formula"
   ]
  }
 ],
 "metadata": {
  "kernelspec": {
   "display_name": "Python 3",
   "language": "python",
   "name": "python3"
  },
  "language_info": {
   "codemirror_mode": {
    "name": "ipython",
    "version": 3
   },
   "file_extension": ".py",
   "mimetype": "text/x-python",
   "name": "python",
   "nbconvert_exporter": "python",
   "pygments_lexer": "ipython3",
   "version": "3.6.3"
  }
 },
 "nbformat": 4,
 "nbformat_minor": 2
}
