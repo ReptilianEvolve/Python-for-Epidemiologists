{
 "cells": [
  {
   "cell_type": "markdown",
   "metadata": {},
   "source": [
    "# Introduction to Python\n",
    "Here I will provide a basic introduction to Python 3.5+. We will review the variable types in Python and some basic functionalities. For learning more about Python, I recommend finding other tutorials. The main purpose of this tutorial is to provide a brief introduction to Python and serve as a refresher for basic functionalities. There are much better introductions than mine. My efforts in these tutorials primarly focus on conducting epidemiology analyses, which are downstream of basic Python functionalities (although necessary). \n",
    "\n",
    "Some other sources I would recommend for introductions are;\n",
    "\n",
    "\n",
    "Last edit: 2019/1/23\n",
    "\n",
    "## Print\n",
    "First we will start with the staple of the first line written in a new software, hello world. To print objects to the console, we use the ``print`` function. Additionally, note that anything following a ``#`` will not be run. These are comments, exactly like R's ``#`` and SAS's ``*;``"
   ]
  },
  {
   "cell_type": "code",
   "execution_count": 1,
   "metadata": {},
   "outputs": [
    {
     "name": "stdout",
     "output_type": "stream",
     "text": [
      "Hello World\n"
     ]
    }
   ],
   "source": [
    "print('Hello World') #Everything afterwards is considered a comment\n",
    "# print('I won't print since I am a comment')"
   ]
  },
  {
   "cell_type": "markdown",
   "metadata": {},
   "source": [
    "## Object types\n",
    "There four basic data types in Python; integers, floats, boolean, and strings. Integers are whole numbers, floats are decimals, boolean is True/False, and strings are text. Below is as example of each and the correspond type. We can use the ``type`` function to ask Python to identify the correspond object's type. This can be a useful function when you need a certain data type for functions"
   ]
  },
  {
   "cell_type": "code",
   "execution_count": 2,
   "metadata": {},
   "outputs": [
    {
     "name": "stdout",
     "output_type": "stream",
     "text": [
      "<class 'int'>\n",
      "<class 'float'>\n",
      "<class 'bool'>\n",
      "<class 'str'>\n"
     ]
    }
   ],
   "source": [
    "x = 2 #integer\n",
    "print(type(x))\n",
    "\n",
    "y = 0.3 #float\n",
    "print(type(y))\n",
    "\n",
    "q = True #Boolean\n",
    "print(type(q))\n",
    "\n",
    "z = 'two' #string\n",
    "print(type(z))"
   ]
  },
  {
   "cell_type": "markdown",
   "metadata": {},
   "source": [
    "Additionally, you can convert between types, like converting floats to integers. Below are some examples of this"
   ]
  },
  {
   "cell_type": "code",
   "execution_count": 3,
   "metadata": {},
   "outputs": [
    {
     "name": "stdout",
     "output_type": "stream",
     "text": [
      "1\n",
      "4.0\n",
      "2\n",
      "True\n",
      "0.0\n"
     ]
    }
   ],
   "source": [
    "# float -> int\n",
    "print(int(1.9))\n",
    "\n",
    "# int -> float\n",
    "print(float(4))\n",
    "\n",
    "# str -> int\n",
    "print(int('2'))\n",
    "\n",
    "# int -> bool\n",
    "print(bool(1))\n",
    "\n",
    "# bool -> int -> float\n",
    "print(float(int(False)))"
   ]
  },
  {
   "cell_type": "markdown",
   "metadata": {},
   "source": [
    "One important item to note is that ``bool`` converts any number besides zero to True. For example, converting 2 to a boolean returns ``True``. The same is true for -1"
   ]
  },
  {
   "cell_type": "code",
   "execution_count": 5,
   "metadata": {},
   "outputs": [
    {
     "name": "stdout",
     "output_type": "stream",
     "text": [
      "True\n",
      "True\n"
     ]
    }
   ],
   "source": [
    "print(bool(2))\n",
    "print(bool(-1))"
   ]
  },
  {
   "cell_type": "markdown",
   "metadata": {},
   "source": [
    "## Containers\n",
    "We can store multiple objects together in a container. I will review lists, sets, tuples, and dictionaries. For indexing, Python starts with ``0``. That mean the first item is in the ``0`` position according to Python. While this may seem weird and take time to get use to, it has some nice features. Notably, you can easily extract the last item in a list easily. Rather than counting up how long the list is then indexing that value, we instead index the ``-1`` item. Similarly the second last item is ``-2``. \n",
    "\n",
    "### Lists\n",
    "Lists are exactly what they sound like, a list of objects. Lists are mutable, meaning that we can edit the items inside a list. For example, let's say you create a list and mistyped the first item. You can edit the list rather than rewriting it\n",
    "\n",
    "Below we will create a list, do some indexing, adding an item to the end of the list, and then change the second item in the list"
   ]
  },
  {
   "cell_type": "code",
   "execution_count": 7,
   "metadata": {},
   "outputs": [
    {
     "name": "stdout",
     "output_type": "stream",
     "text": [
      "<class 'list'>\n",
      "first\n",
      "last\n",
      "['first', 1, 1, 2, 3, 4, 5, 8, 8, 'last', 'add to list']\n",
      "['first', 'second', 1, 2, 3, 4, 5, 8, 8, 'last', 'add to list']\n"
     ]
    }
   ],
   "source": [
    "# Creating list\n",
    "l = ['first',1,1,2,3,4,5,8,8,'last']\n",
    "\n",
    "# Printing the type\n",
    "print(type(l))\n",
    "\n",
    "# Index the first item in the list\n",
    "print(l[0])\n",
    "\n",
    "# Index the last item in the list\n",
    "print(l[-1])\n",
    "\n",
    "# Adding item to the end of a list\n",
    "l.append('add to list')\n",
    "print(l)\n",
    "\n",
    "# Changing second item in list from 1 to 'second'\n",
    "l[1] = 'second'\n",
    "print(l)"
   ]
  },
  {
   "cell_type": "markdown",
   "metadata": {},
   "source": [
    "### Sets\n",
    "Sets are an alternative container type. Unlike a list, sets are immutable and only contain unique values. Immutability is a nice feature if you want to prevent mistakenly changing your list. "
   ]
  },
  {
   "cell_type": "code",
   "execution_count": 11,
   "metadata": {},
   "outputs": [
    {
     "name": "stdout",
     "output_type": "stream",
     "text": [
      "{1, 2, 3, 4, 5, 'second', 8, 'first', 'add to list', 'last'}\n"
     ]
    }
   ],
   "source": [
    "s = set(l)\n",
    "print(s)"
   ]
  },
  {
   "cell_type": "markdown",
   "metadata": {},
   "source": [
    "As you may notice, our set is different from the list (there is only one unique value for each item in our list). So, an easy way to see how many unique items are in a list, is to convert it to a set\n",
    "\n",
    "To show that sets are immutable, let's try to edit a set (we can't)"
   ]
  },
  {
   "cell_type": "code",
   "execution_count": 12,
   "metadata": {},
   "outputs": [
    {
     "ename": "TypeError",
     "evalue": "'set' object does not support item assignment",
     "output_type": "error",
     "traceback": [
      "\u001b[1;31m---------------------------------------------------------------------------\u001b[0m",
      "\u001b[1;31mTypeError\u001b[0m                                 Traceback (most recent call last)",
      "\u001b[1;32m<ipython-input-12-2ff91758f384>\u001b[0m in \u001b[0;36m<module>\u001b[1;34m()\u001b[0m\n\u001b[1;32m----> 1\u001b[1;33m \u001b[0ms\u001b[0m\u001b[1;33m[\u001b[0m\u001b[1;36m3\u001b[0m\u001b[1;33m]\u001b[0m \u001b[1;33m=\u001b[0m \u001b[1;34m'new_value'\u001b[0m\u001b[1;33m\u001b[0m\u001b[0m\n\u001b[0m",
      "\u001b[1;31mTypeError\u001b[0m: 'set' object does not support item assignment"
     ]
    }
   ],
   "source": [
    "s[3] = 'new_value'"
   ]
  },
  {
   "cell_type": "markdown",
   "metadata": {},
   "source": [
    "As you can see we get a ``TypeError``. The error tells us that we cannot assign a new value to a set. This is the immutable property in action\n",
    "\n",
    "### Tuples\n",
    "The next type of containers are tuples. Similar to sets, tuples are immutable. However, tuples allow for multiple duplicate items. "
   ]
  },
  {
   "cell_type": "code",
   "execution_count": 13,
   "metadata": {},
   "outputs": [
    {
     "name": "stdout",
     "output_type": "stream",
     "text": [
      "('first', 'second', 1, 2, 3, 4, 5, 8, 8, 'last', 'add to list')\n"
     ]
    }
   ],
   "source": [
    "t = tuple(l)\n",
    "print(t)"
   ]
  },
  {
   "cell_type": "markdown",
   "metadata": {},
   "source": [
    "Again, let's demonstrate the immutability for tuples"
   ]
  },
  {
   "cell_type": "code",
   "execution_count": 14,
   "metadata": {},
   "outputs": [
    {
     "ename": "TypeError",
     "evalue": "'tuple' object does not support item assignment",
     "output_type": "error",
     "traceback": [
      "\u001b[1;31m---------------------------------------------------------------------------\u001b[0m",
      "\u001b[1;31mTypeError\u001b[0m                                 Traceback (most recent call last)",
      "\u001b[1;32m<ipython-input-14-dcbd7316ac73>\u001b[0m in \u001b[0;36m<module>\u001b[1;34m()\u001b[0m\n\u001b[1;32m----> 1\u001b[1;33m \u001b[0mt\u001b[0m\u001b[1;33m[\u001b[0m\u001b[1;36m3\u001b[0m\u001b[1;33m]\u001b[0m \u001b[1;33m=\u001b[0m \u001b[1;34m'new_value'\u001b[0m\u001b[1;33m\u001b[0m\u001b[0m\n\u001b[0m",
      "\u001b[1;31mTypeError\u001b[0m: 'tuple' object does not support item assignment"
     ]
    }
   ],
   "source": [
    "t[3] = 'new_value'"
   ]
  },
  {
   "cell_type": "markdown",
   "metadata": {},
   "source": [
    "### Dictionary\n",
    "The last container type I will outline is a dictionary. A dictionary is a paired list of keys and values. Unlike a list, there are specific pairs. This is useful if you have an informative key-value, instead of using indexes. Let's look at an example"
   ]
  },
  {
   "cell_type": "code",
   "execution_count": 16,
   "metadata": {},
   "outputs": [
    {
     "name": "stdout",
     "output_type": "stream",
     "text": [
      "{'zero': 0, 'one': 1, 'two': 2, 'three': 3, 'four': 4, 'five': 5}\n"
     ]
    }
   ],
   "source": [
    "d = {'zero':0,'one':1,'two':2,\n",
    "     'three': 3, 'four':4}\n",
    "d['five'] = 5\n",
    "print(d)"
   ]
  },
  {
   "cell_type": "markdown",
   "metadata": {},
   "source": [
    "We created a dictionary linking string of words to the respective integers. We also added a pair to our dictionary (``'five':5``). The strings are referred to as ``keys`` and the corresponds integers are ``values`` in our dictionary. You can access either of those attributes like the following"
   ]
  },
  {
   "cell_type": "code",
   "execution_count": 17,
   "metadata": {},
   "outputs": [
    {
     "name": "stdout",
     "output_type": "stream",
     "text": [
      "dict_keys(['zero', 'one', 'two', 'three', 'four', 'five'])\n",
      "dict_values([0, 1, 2, 3, 4, 5])\n"
     ]
    }
   ],
   "source": [
    "print(d.keys())\n",
    "print(d.values())"
   ]
  },
  {
   "cell_type": "markdown",
   "metadata": {},
   "source": [
    "To index our dictionary, we provide the dictionary object the key we are interested in, like the following"
   ]
  },
  {
   "cell_type": "code",
   "execution_count": 18,
   "metadata": {},
   "outputs": [
    {
     "data": {
      "text/plain": [
       "3"
      ]
     },
     "execution_count": 18,
     "metadata": {},
     "output_type": "execute_result"
    }
   ],
   "source": [
    "d['three']"
   ]
  },
  {
   "cell_type": "markdown",
   "metadata": {},
   "source": [
    "## Mathematical Operations\n",
    "We will now demonstrate some basic mathematical operations with Python. Python is a great calculator and I often use base Python instead of the calculator that comes with the OS. Below are some basic operations"
   ]
  },
  {
   "cell_type": "code",
   "execution_count": 19,
   "metadata": {},
   "outputs": [
    {
     "name": "stdout",
     "output_type": "stream",
     "text": [
      "13\n",
      "-3\n",
      "40\n",
      "0.625\n",
      "390625\n",
      "0\n",
      "5\n"
     ]
    }
   ],
   "source": [
    "print(5+8)  # addition\n",
    "print(5-8)  # subtraction\n",
    "print(5*8)  # multiplication\n",
    "print(5/8)  # division\n",
    "print(5**8)  # exponential\n",
    "print(5//8)  # returns only integer for division\n",
    "print(5%8)  # outputs remainder from division"
   ]
  },
  {
   "cell_type": "markdown",
   "metadata": {},
   "source": [
    "While we can use exponentials do calculate roots, there are more complicated operations we might want to do. For other mathematical operations, you can use the ``math`` library that comes with Python. To use ``math``, we need to import it. We do this by using the import statement. Additionally, when we want to use functions within the ``math`` library, we need to explicitly call that library. This behavior is different from R, which allows you to call functions within a library without having to call that library. \n",
    "\n",
    "In this example, we will load ``math`` and use it to calculate square root, natural log, exponentiate, and factorial"
   ]
  },
  {
   "cell_type": "code",
   "execution_count": 21,
   "metadata": {},
   "outputs": [
    {
     "name": "stdout",
     "output_type": "stream",
     "text": [
      "2.0\n",
      "1.3862943611198906\n",
      "54.598150033144236\n",
      "24\n"
     ]
    }
   ],
   "source": [
    "import math\n",
    "print(math.sqrt(4))  # square root\n",
    "print(math.log(4))  # natural log \n",
    "print(math.exp(4))  # exponentiate (e^x)\n",
    "print(math.factorial(4))  # factorial"
   ]
  },
  {
   "cell_type": "markdown",
   "metadata": {},
   "source": [
    "## Operation on Strings\n",
    "For this I will review a few operations on strings that can be done. We will discuss spacing, addition, and multiplication of strings"
   ]
  },
  {
   "cell_type": "code",
   "execution_count": 23,
   "metadata": {},
   "outputs": [
    {
     "name": "stdout",
     "output_type": "stream",
     "text": [
      "Helloworld!\n",
      "\tHello\n",
      "new\n",
      "line\n",
      "repeat repeat repeat repeat repeat \n"
     ]
    }
   ],
   "source": [
    "print('Hello'+'world!')  # adding strings\n",
    "print('\\tHello')  # adding a tab. Uses \\t as keyword\n",
    "print('new'+'\\n'+'line')  # forcing a new line in the output. Uses \\n as keyword\n",
    "print('repeat '*5)  # multiplying a string"
   ]
  },
  {
   "cell_type": "markdown",
   "metadata": {},
   "source": [
    "## Loops, conditional statements, and functions\n",
    "In this section, we will review how to construct loops, conditional statements, and create your own functions\n",
    "\n",
    "### Loops\n",
    "Loops are a way to go through each item of a container of items. To start out, we will create a ``for`` loop that prints every number from 0 to 4. For this loop, we will use the ``range`` function. When given a single number, the range function counts from 0 to that number. ``range`` is a helpful function for creating loops. Let's look at the example "
   ]
  },
  {
   "cell_type": "code",
   "execution_count": 27,
   "metadata": {},
   "outputs": [
    {
     "name": "stdout",
     "output_type": "stream",
     "text": [
      "0\n",
      "1\n",
      "2\n",
      "3\n",
      "4\n"
     ]
    }
   ],
   "source": [
    "for i in range(5):\n",
    "    print(i)\n"
   ]
  },
  {
   "cell_type": "markdown",
   "metadata": {},
   "source": [
    "Our ``for`` loop counted each item in the range. \n",
    "\n",
    "Another type of loop is the ``while`` loop. This loop keeps executing until the ``while`` condition is satisified. Let's look at an example"
   ]
  },
  {
   "cell_type": "code",
   "execution_count": 28,
   "metadata": {},
   "outputs": [
    {
     "name": "stdout",
     "output_type": "stream",
     "text": [
      "0\n",
      "0.5\n",
      "1.0\n",
      "1.5\n",
      "2.0\n",
      "2.5\n",
      "3.0\n",
      "3.5\n",
      "4.0\n",
      "4.5\n"
     ]
    }
   ],
   "source": [
    "i = 0\n",
    "while i < 5:\n",
    "    print(i)\n",
    "    i += 0.5\n"
   ]
  },
  {
   "cell_type": "markdown",
   "metadata": {},
   "source": [
    "Note, we had to add to ``i`` in each execution of the loop. If we didn't we would get stuck in an infinite loop. When using a ``while`` loop be careful you don't accidentantly trap yourself in an infinite loop! There is no escape\n",
    "\n",
    "### Conditional statements\n",
    "As you are likely accustomed to, Python uses ``if`` statements. We can chain multiple statements together using ``if`` with ``elif`` (meaning else-if) and ``else`` (done if none of the previous is true). Let's talk the syntax of Python's conditional statements. First, you set up the ``if`` statement. If we want see whether two numbers are equal, we use ``a == b``. The ``if`` line then ends with a colon. All statements we want executed if that statement is true, are indented (4 spaces) underneath the ``if`` statement. Let's use an example to make this clear\n",
    "\n",
    "In this example, we will use a conditional statement to tell us where a specific number is 4 or 5. If it is neither of those numbers, the code will not print anything. We will look at `n` which we set equal to 4. Our first if-then statments looks to see if n is equal to 5. If true, then it tells us the number is five and print \"Hello\". Else-if the number is four, it tells us the number is four. If neither of the above is true, then Python does not return anything"
   ]
  },
  {
   "cell_type": "code",
   "execution_count": 30,
   "metadata": {},
   "outputs": [
    {
     "name": "stdout",
     "output_type": "stream",
     "text": [
      "The current number is four\n"
     ]
    }
   ],
   "source": [
    "n = 4\n",
    "if n == 5:  # if n is equal to 5, then execute the below statements\n",
    "    print('The current number is five')\n",
    "    print('Hello')\n",
    "elif n == 4:  # else-if n is equal to 5, then execute the below statements\n",
    "    print('The current number is four')\n",
    "else:  # otherwise, execute the below statements\n",
    "    pass  # pass is a keyword that skips this line"
   ]
  },
  {
   "cell_type": "markdown",
   "metadata": {},
   "source": [
    "Try experimenting with the above code on your own! \n",
    "\n",
    "### Functions\n",
    "Functions are series of operations that can be linked together in one chunk of code. It makes it easy to run a calcuation multiple times or with different numbers. Every library uses functions (or classes) to allow you to perform operations. In this example, we will go over how to create your own function to use in your code.\n",
    "\n",
    "For our example, we will create a function to calculate the risk ratio. The first line begins with 'def' which stands for define. next we provide a function name. We call ours 'risk_ratio'. Next are the paratheses containing the input variables. Our function has four required variables. The inputs designated `a`, `b`, `c`, and `d`. Without them, our function will produce an error. Note that everything below is indented. This tells Python what is included in a function. \n",
    "\n",
    "Next part of the function is documentation. This is to help us remember what this function is used for. When writing this section, be as detailed as possible. How would you improve the documentation? We can view the functions documentation by running help(risk_ratio). This is helpful when trying to see what argument options are available for a function. \n",
    "\n",
    "Lastly, we have a series of statements that our function executes when called. Our function only calculates the risk ratio if all inputs are postive numbers (or zero). We also use `return`, which returns the value calculated. So if we set `x = risk_ratio(...)`, `x` will be set equal to `rr` from our function.\n",
    "\n",
    "Let's dive in"
   ]
  },
  {
   "cell_type": "code",
   "execution_count": 31,
   "metadata": {},
   "outputs": [],
   "source": [
    "def risk_ratio(a, b, c, d):\n",
    "    '''You can add function documentation underneath 'def' statement in triple quotes.\n",
    "    I highly recommend adding documentation in your own code\n",
    "    \n",
    "    This function calculates the Risk Ratio. The inputs are the numbers from a 2x2 table.\n",
    "    All numbers must be positive, otherwise a ValueError will be raised\n",
    "    \n",
    "    Parameters\n",
    "    ----------\n",
    "    a:\n",
    "        exposed and had the outcome\n",
    "    b:\n",
    "        exposed and did not have the outcome\n",
    "    c:\n",
    "        unexposed and had the outcome\n",
    "    d:\n",
    "        unexposed and did not have the outcome\n",
    "    '''\n",
    "    if a < 0 or b < 0 or c < 0 or d < 0:\n",
    "        raise ValueError('All inputs must be positive')\n",
    "    risk_e = a / (a+b)\n",
    "    risk_u = c / (c+d)\n",
    "    rr = risk_e / risk_u\n",
    "    return rr\n"
   ]
  },
  {
   "cell_type": "markdown",
   "metadata": {},
   "source": [
    "Now that we have our function specified, let's try it out!"
   ]
  },
  {
   "cell_type": "code",
   "execution_count": 32,
   "metadata": {},
   "outputs": [
    {
     "name": "stdout",
     "output_type": "stream",
     "text": [
      "RR = 1.8888888888888886\n",
      "RR = 0.9068462401795735\n"
     ]
    }
   ],
   "source": [
    "rratio1 = risk_ratio(5, 10, 3, 14)\n",
    "print('RR =', rratio1)\n",
    "\n",
    "rratio2 = risk_ratio(8, 25, 27, 74)\n",
    "print('RR =', rratio2)"
   ]
  },
  {
   "cell_type": "markdown",
   "metadata": {},
   "source": [
    "That concludes the Python tutorial. This is only a brief outline and is meant as a refresher for Python"
   ]
  }
 ],
 "metadata": {
  "kernelspec": {
   "display_name": "Python 3",
   "language": "python",
   "name": "python3"
  },
  "language_info": {
   "codemirror_mode": {
    "name": "ipython",
    "version": 3
   },
   "file_extension": ".py",
   "mimetype": "text/x-python",
   "name": "python",
   "nbconvert_exporter": "python",
   "pygments_lexer": "ipython3",
   "version": "3.6.3"
  }
 },
 "nbformat": 4,
 "nbformat_minor": 2
}
