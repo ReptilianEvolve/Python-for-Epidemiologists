{
 "cells": [
  {
   "cell_type": "markdown",
   "metadata": {},
   "source": [
    "# G-formula: Monte Carlo Estimator\n",
    "The Monte-Carlo g-formula is specifically meant to address the problem of time-varying confounding. Time-varying confounders are a particular pain for causal inference. Depending on the causal structure of the world, time-varying confounders exist as both a confounder and mediator. As such, conditional models have no solution for time-varying confounding. In 1986, James Robins proposed the brilliant idea of the Monte-Carlo g-formula as a way around this. Essentially, we use regression models to estimate the relationship between variables over time. From these regression models, we take a sample of our data from baseline and simulate their outcomes over time. The g-formula is a key link between two areas of epidemiology; mathematical modeling and phenomenological epidemiology (statistical). The g-formula has always fascinated me and I believe is the fundamental method for causal inference.\n",
    "\n",
    "This tutorial details how to use the g-formula to estimate risks under time-varying treatment regimes. To estimate the marginal risk, we will use g-computation algorithm estimated via a Monte Carlo procedure. For a detailed introduction, please refer to the listed references.\n",
    "\n",
    "In the following example, use a simulated data set that comes with zEpid. For our example, we are interested in the time-varying risk of death under several different treatment strategies. Specifically, our cohort is of HIV-infected individuals and we are interested in different anti-retroviral treatment (ART) strategies. First we will load the time-varying data. "
   ]
  },
  {
   "cell_type": "code",
   "execution_count": 9,
   "metadata": {},
   "outputs": [
    {
     "name": "stdout",
     "output_type": "stream",
     "text": [
      "<class 'pandas.core.frame.DataFrame'>\n",
      "Int64Index: 27382 entries, 0 to 27381\n",
      "Data columns (total 12 columns):\n",
      "id       27382 non-null int64\n",
      "enter    27382 non-null int64\n",
      "out      27382 non-null float64\n",
      "male     27382 non-null int64\n",
      "age0     27382 non-null int64\n",
      "cd40     27382 non-null int64\n",
      "dvl0     27382 non-null int64\n",
      "cd4      27382 non-null int64\n",
      "dvl      27382 non-null int64\n",
      "art      27382 non-null int64\n",
      "drop     27382 non-null int64\n",
      "dead     27382 non-null int64\n",
      "dtypes: float64(1), int64(11)\n",
      "memory usage: 2.7 MB\n",
      "   id  enter   out  art\n",
      "0   2      0   1.0    0\n",
      "1   2      1   2.0    0\n",
      "2   2      2   3.0    0\n",
      "3   2      3   4.0    0\n",
      "4   2      4   5.0    0\n",
      "5   2      5   6.0    0\n",
      "6   2      6   7.0    0\n",
      "7   2      7   8.0    0\n",
      "8   2      8   9.0    0\n",
      "9   2      9  10.0    0\n"
     ]
    }
   ],
   "source": [
    "%matplotlib inline\n",
    "import numpy as np\n",
    "import pandas as pd\n",
    "import matplotlib.pyplot as plt\n",
    "from lifelines import KaplanMeierFitter\n",
    "\n",
    "from zepid import spline, load_sample_data\n",
    "from zepid.graphics import dynamic_risk_plot\n",
    "from zepid.causal.gformula import MonteCarloGFormula\n",
    "\n",
    "df = load_sample_data(True)\n",
    "df.info()\n",
    "print(df[['id', 'enter', 'out', 'art']].head(10))\n",
    "\n",
    "# Background variable preparations\n",
    "df['lag_art'] = df['art'].shift(1)\n",
    "df['lag_art'] = np.where(df.groupby('id').cumcount() == 0, 0, df['lag_art'])\n",
    "df['lag_cd4'] = df['cd4'].shift(1)\n",
    "df['lag_cd4'] = np.where(df.groupby('id').cumcount() == 0, df['cd40'], df['lag_cd4'])\n",
    "df['lag_dvl'] = df['dvl'].shift(1)\n",
    "df['lag_dvl'] = np.where(df.groupby('id').cumcount() == 0, df['dvl0'], df['lag_dvl'])\n",
    "df[['age_rs0', 'age_rs1', 'age_rs2']] = spline(df, 'age0', n_knots=4, term=2, restricted=True)  # age spline\n",
    "df['cd40_sq'] = df['cd40'] ** 2  # cd4 baseline cubic\n",
    "df['cd40_cu'] = df['cd40'] ** 3\n",
    "df['cd4_sq'] = df['cd4'] ** 2  # cd4 current cubic\n",
    "df['cd4_cu'] = df['cd4'] ** 3\n",
    "df['enter_sq'] = df['enter'] ** 2  # entry time cubic\n",
    "df['enter_cu'] = df['enter'] ** 3"
   ]
  },
  {
   "cell_type": "markdown",
   "metadata": {},
   "source": [
    "As you can see from the first few observations, the data set is set up to have multiple rows per individual. Specifically, we row corresponds to and individual over a specific period of time. For example, the first row details ID 2 for the first week (0 - 1) of follow-up. For the Monte-Carlo g-formula, the data set should be broken into these time periods. This allows us to fit successive models to estimate time-varying treatments over time. The division of rows into discrete intervals is left up to the user to decide. More finely divided levels will produce smoother risk curves, but may not be warranted based on the collected data. For our example, we are using week time-periods which will results in somewhat choppy of survival curves\n",
    "\n",
    "Now that we have our data loaded, we will go step-by-step through the Monte Carlo g-formula. As of v0.4.3+, the Monte Carlo g-formula estimator can be implemented through the `MonteCarloGFormula` class. \n",
    "\n",
    "## Initializing the g-formula\n",
    "To start, we initialize the `MonteCarloGFormula` class with the data set (`df`), the indicator for unique observations (`'id'`), the exposure/treatment of interest (`'art'`), the outcome of interest (`'dead'`), the starting time of the interval (`'enter'`) and the end time of the interval (`'out'`)."
   ]
  },
  {
   "cell_type": "code",
   "execution_count": 10,
   "metadata": {},
   "outputs": [],
   "source": [
    "mcgf = MonteCarloGFormula(df, idvar='id', exposure='art', outcome='dead', time_in='enter', time_out='out')"
   ]
  },
  {
   "cell_type": "markdown",
   "metadata": {},
   "source": [
    "## Estimating the Exposure/Treatment Model\n",
    "Next we will estimate the exposure/treatment model. This model predicts when an individual receives treatment. Specfically, this model is used to model the natural course. The natural course is the observation of the world as it is. We will use the natural course predictions to see if any of our models are grossly misspecified. \n",
    "\n",
    "To fit the exposure model, we will call the `MonteCarloGFormula` class and specify the function `exposure_model()` to fit a model that predicts the exposure (`art`) over time. Based on substantive knowledge, we believe that ART is given based on gender, age, baseline CD4 T-cell count, current CD4 T-cell count, baseline viral load, current viral load, and time. We will model age, CD4 count, and time as cubic to impose less restrictive modeling assumptions.\n",
    "\n",
    "Additionally, we are going to specify the optional `restriction` argument. This argument is restrict who is included in the regression model. Specifically, we will be assuming that once as individual is given ART, they remain on ART for all future follow-up visits (intent-to-treat assumption). We specify the restriction argument as `\"g['lag_art']==0\"`. This the `MonteCarloGFormula`, that exposure model should only be estimated to observations where the individual has not been previously treated with ART (i.e. `lag_art == 0`). This option should be used depending on your assumptions of how the natural course proceeds.  \n",
    "\n",
    "*Note*: as you may have noticed, the `restriction` option uses `g`. This `g` is a magic-g. Inside the `MonteCarloGFormula`, it refers to the input data frame as `g`. The restriction argument uses Python's `eval()` to evaulate the input of `restriction` and other arguments. Withouth the magic-g, `MonteCarloGFormula` will NOT recognize the input as the data set. "
   ]
  },
  {
   "cell_type": "code",
   "execution_count": 11,
   "metadata": {},
   "outputs": [
    {
     "name": "stdout",
     "output_type": "stream",
     "text": [
      "                 Generalized Linear Model Regression Results                  \n",
      "==============================================================================\n",
      "Dep. Variable:                    art   No. Observations:                 9647\n",
      "Model:                            GLM   Df Residuals:                     9630\n",
      "Model Family:                Binomial   Df Model:                           16\n",
      "Link Function:                  logit   Scale:                          1.0000\n",
      "Method:                          IRLS   Log-Likelihood:                -1310.4\n",
      "Date:                Sun, 31 Mar 2019   Deviance:                       2620.8\n",
      "Time:                        15:40:30   Pearson chi2:                 7.71e+03\n",
      "No. Iterations:                    10   Covariance Type:             nonrobust\n",
      "==============================================================================\n",
      "                 coef    std err          z      P>|z|      [0.025      0.975]\n",
      "------------------------------------------------------------------------------\n",
      "Intercept      1.8321      1.035      1.771      0.077      -0.196       3.860\n",
      "male           0.3984      0.153      2.598      0.009       0.098       0.699\n",
      "age0          -0.0884      0.040     -2.208      0.027      -0.167      -0.010\n",
      "age_rs0        0.0083      0.003      2.970      0.003       0.003       0.014\n",
      "age_rs1       -0.0174      0.006     -2.862      0.004      -0.029      -0.006\n",
      "age_rs2        0.0115      0.006      1.914      0.056      -0.000       0.023\n",
      "cd40           0.0057      0.004      1.450      0.147      -0.002       0.013\n",
      "cd40_sq    -1.677e-05   1.75e-05     -0.958      0.338   -5.11e-05    1.75e-05\n",
      "cd40_cu     1.442e-08   2.25e-08      0.641      0.521   -2.97e-08    5.85e-08\n",
      "dvl0          -0.0454      0.174     -0.261      0.794      -0.386       0.296\n",
      "cd4           -0.0059      0.002     -3.516      0.000      -0.009      -0.003\n",
      "cd4_sq      5.062e-06   3.69e-06      1.373      0.170   -2.16e-06    1.23e-05\n",
      "cd4_cu     -1.788e-09   2.29e-09     -0.783      0.434   -6.27e-09    2.69e-09\n",
      "dvl           -1.5678      0.216     -7.263      0.000      -1.991      -1.145\n",
      "enter         -0.0929      0.028     -3.295      0.001      -0.148      -0.038\n",
      "enter_sq       0.0004      0.002      0.261      0.794      -0.003       0.004\n",
      "enter_cu    4.426e-06   2.35e-05      0.189      0.850   -4.16e-05    5.04e-05\n",
      "==============================================================================\n"
     ]
    }
   ],
   "source": [
    "exp_m = ('male + age0 + age_rs0 + age_rs1 + age_rs2 + cd40 + cd40_sq + cd40_cu + dvl0 + '\n",
    "         'cd4 + cd4_sq + cd4_cu + dvl + enter + enter_sq + enter_cu')\n",
    "mcgf.exposure_model(exp_m, restriction=\"g['lag_art']==0\")"
   ]
  },
  {
   "cell_type": "markdown",
   "metadata": {},
   "source": [
    "After fitting the above model for ART, we can see the estimate $\\beta$'s from a logistic regression model. Model selection for the Monte Carlo g-formula is still an open issue, so care should be taken when deciding how to build these models. The best course of action is to make the model as flexible as possible\n",
    "\n",
    "## Estimating the Outcome Model\n",
    "The next step is to estimate the outcome model. Based on our substantive knowledge (most likely encoded through a causal graph), we believe our outcome model needs to include ART, gender, age, baseline CD4, current CD4, baseline viral load, current viral load, and time.\n",
    "\n",
    "Again we will use the the `restriction` argument to limit what our model is fit to. Specifically, we will only fit our outcome model to individuals who were not censored during that time period (`drop == 0`). Again, we need to specify the magic-g for this to work correctly."
   ]
  },
  {
   "cell_type": "code",
   "execution_count": 12,
   "metadata": {},
   "outputs": [
    {
     "name": "stdout",
     "output_type": "stream",
     "text": [
      "                 Generalized Linear Model Regression Results                  \n",
      "==============================================================================\n",
      "Dep. Variable:                   dead   No. Observations:                27333\n",
      "Model:                            GLM   Df Residuals:                    27315\n",
      "Model Family:                Binomial   Df Model:                           17\n",
      "Link Function:                  logit   Scale:                          1.0000\n",
      "Method:                          IRLS   Log-Likelihood:                -347.50\n",
      "Date:                Sun, 31 Mar 2019   Deviance:                       694.99\n",
      "Time:                        15:40:30   Pearson chi2:                 1.10e+04\n",
      "No. Iterations:                    19   Covariance Type:             nonrobust\n",
      "==============================================================================\n",
      "                 coef    std err          z      P>|z|      [0.025      0.975]\n",
      "------------------------------------------------------------------------------\n",
      "Intercept     -2.8777      3.025     -0.951      0.341      -8.807       3.052\n",
      "art           -0.0247      0.283     -0.087      0.930      -0.579       0.530\n",
      "male          -0.0231      0.314     -0.074      0.941      -0.638       0.591\n",
      "age0          -0.0196      0.117     -0.167      0.867      -0.249       0.210\n",
      "age_rs0        0.0059      0.008      0.786      0.432      -0.009       0.021\n",
      "age_rs1       -0.0154      0.015     -1.042      0.298      -0.045       0.014\n",
      "age_rs2        0.0187      0.012      1.521      0.128      -0.005       0.043\n",
      "cd40          -0.0005      0.006     -0.078      0.938      -0.013       0.012\n",
      "cd40_sq     9.155e-06   3.11e-05      0.294      0.769   -5.19e-05    7.02e-05\n",
      "cd40_cu    -1.131e-08   4.21e-08     -0.269      0.788   -9.38e-08    7.12e-08\n",
      "dvl0          -0.1078      0.392     -0.275      0.783      -0.876       0.661\n",
      "cd4           -0.0171      0.004     -4.610      0.000      -0.024      -0.010\n",
      "cd4_sq      8.243e-06   1.47e-05      0.560      0.575   -2.06e-05    3.71e-05\n",
      "cd4_cu     -2.259e-09   1.52e-08     -0.149      0.882    -3.2e-08    2.75e-08\n",
      "dvl            1.0250      0.381      2.693      0.007       0.279       1.771\n",
      "enter          0.0727      0.060      1.212      0.226      -0.045       0.190\n",
      "enter_sq      -0.0040      0.003     -1.381      0.167      -0.010       0.002\n",
      "enter_cu    4.932e-05   3.63e-05      1.360      0.174   -2.18e-05       0.000\n",
      "==============================================================================\n"
     ]
    }
   ],
   "source": [
    "out_m = ('art + male + age0 + age_rs0 + age_rs1 + age_rs2 + cd40 + cd40_sq + cd40_cu + dvl0 + '\n",
    "         'cd4 + cd4_sq + cd4_cu + dvl + enter + enter_sq + enter_cu')\n",
    "mcgf.outcome_model(out_m, restriction=\"g['drop']==0\")"
   ]
  },
  {
   "cell_type": "markdown",
   "metadata": {},
   "source": [
    "Again we see the output of the fitted logistic regression model. As mentioned before, user beware during model selection\n",
    "\n",
    "## Time-varying Confounders\n",
    "Now we are at the part where the true magic of the g-formula begins, time-varying confounders. Based on our knowledge (via a causal diagram), we believe there to be two time-varying confounders; detected viral load and CD4 T-cell count. \n",
    "\n",
    "### Detected Viral Load\n",
    "Detectable viral load (`dvl`) is an indicator variable of whether the patient had a detectable viral load. We believe detectable viral load to be predicted by gender, age, baseline CD4, previous time-point CD4, previous ART treatment, and time.\n",
    "\n",
    "To add time-varying confounder models, the `add_covariate_model` function is used. This function can be repeatedly called to add an arbitrary number of time-varying confounder models. The arguments we will specify are as follows; `label`, `covariate`, `model`, and `var_type`. `label` tells the Monte-Carlo procedure what order to fit the time-varying confounder models in. This is necessary since they cannot occur simultaneously in our framework. Based on our knowledge, we set detected viral load to be the first time-varying confounder to be estimated. `covariate` tells `MonteCarloGFormula` which variable we are modeling. `model` is the predictive model we are using to esitimate the `covariate`. Finally, `var_type` tells `MonteCarloGFormula` that the time-varying confounder is a binary variable. Currently only binary (logistic regression) and continuous (linear regression) time-varying confounders are supported"
   ]
  },
  {
   "cell_type": "code",
   "execution_count": 13,
   "metadata": {},
   "outputs": [
    {
     "name": "stdout",
     "output_type": "stream",
     "text": [
      "                 Generalized Linear Model Regression Results                  \n",
      "==============================================================================\n",
      "Dep. Variable:                    dvl   No. Observations:                27382\n",
      "Model:                            GLM   Df Residuals:                    27366\n",
      "Model Family:                Binomial   Df Model:                           15\n",
      "Link Function:                  logit   Scale:                          1.0000\n",
      "Method:                          IRLS   Log-Likelihood:                -2484.3\n",
      "Date:                Sun, 31 Mar 2019   Deviance:                       4968.5\n",
      "Time:                        15:40:31   Pearson chi2:                 3.01e+04\n",
      "No. Iterations:                     8   Covariance Type:             nonrobust\n",
      "==============================================================================\n",
      "                 coef    std err          z      P>|z|      [0.025      0.975]\n",
      "------------------------------------------------------------------------------\n",
      "Intercept     -1.6415      0.789     -2.080      0.038      -3.188      -0.095\n",
      "male           0.2029      0.110      1.843      0.065      -0.013       0.419\n",
      "age0           0.0557      0.031      1.824      0.068      -0.004       0.116\n",
      "age_rs0       -0.0027      0.002     -1.288      0.198      -0.007       0.001\n",
      "age_rs1        0.0047      0.004      1.055      0.291      -0.004       0.013\n",
      "age_rs2       -0.0016      0.004     -0.372      0.710      -0.010       0.007\n",
      "cd40          -0.0040      0.003     -1.321      0.187      -0.010       0.002\n",
      "cd40_sq     1.596e-05   1.35e-05      1.184      0.236   -1.05e-05    4.24e-05\n",
      "cd40_cu     -1.75e-08   1.72e-08     -1.017      0.309   -5.12e-08    1.62e-08\n",
      "dvl0          -0.4564      0.123     -3.713      0.000      -0.697      -0.215\n",
      "lag_cd4     8.502e-06      0.000      0.064      0.949      -0.000       0.000\n",
      "lag_dvl        5.4874      0.091     60.362      0.000       5.309       5.666\n",
      "lag_art       -4.0158      0.105    -38.366      0.000      -4.221      -3.811\n",
      "enter         -0.0442      0.021     -2.149      0.032      -0.085      -0.004\n",
      "enter_sq       0.0019      0.001      2.202      0.028       0.000       0.004\n",
      "enter_cu   -1.937e-05      1e-05     -1.933      0.053    -3.9e-05    2.74e-07\n",
      "==============================================================================\n"
     ]
    }
   ],
   "source": [
    "dvl_m = ('male + age0 + age_rs0 + age_rs1 + age_rs2 + cd40 + cd40_sq + cd40_cu + dvl0 + ' \n",
    "         'lag_cd4 + lag_dvl + lag_art + enter + enter_sq + enter_cu')\n",
    "mcgf.add_covariate_model(label=1, covariate='dvl', model=dvl_m, var_type='binary')"
   ]
  },
  {
   "cell_type": "markdown",
   "metadata": {},
   "source": [
    "We can see our results from the logistic regression model. We can also verify that `MonteCarloGFormula` treated `dvl` as a binary variable through this output.\n",
    "\n",
    "### CD4 T-cell count\n",
    "Our other time-varying confounder is CD4 T-cell count, a continuous variable. In our models, `cd4` is modeled as with cubic terms, so we will need to have `cd4` recoded iteratively throughout the Monte Carlo process. Additionally, there are some restrictions we need to place on this variable. Specifically, CD4 T-cell count cannot be less than 1.\n",
    "\n",
    "Similar to detectable viral load, we will specify the `label` (this time we specify 2, so that this estimation procedure is after `dvl`), `covariate`, `model` and `var_type`. This time we specify `var_type` as continuous to estimate a linear model. \n",
    "\n",
    "We will now detail an additional arguments for the `add_covariate_model` function; `recode`. `recode` is used when we need to iteratively recode variables behind the scenes in the Monte Carlo procedure. The recoding is done through the Python `exec()` function. I did not intend this function to be used as part of enterprise systems, but please note that *this is a security risk if you are allowing outside users to specify this function*. This is currenltly my solution to the sheer flexibility of the g-formula. \n",
    "\n",
    "We need two recoding to occur. First, it is possible that the linear regression will evaluate CD4 to be less than 1, which we don't want to allow (none of our observations are below this level). Our first line in the recode scheme prevents this. It uses the magic-g and ends with a semi-colon, letting Python know that is the end of that line to execute. The next two lines were new squared and cubic terms for the predicted CD4 variables. All these recodings will be used during the Monte Carlo procedure"
   ]
  },
  {
   "cell_type": "code",
   "execution_count": 14,
   "metadata": {},
   "outputs": [
    {
     "name": "stdout",
     "output_type": "stream",
     "text": [
      "                            GLS Regression Results                            \n",
      "==============================================================================\n",
      "Dep. Variable:                    cd4   R-squared:                       0.979\n",
      "Model:                            GLS   Adj. R-squared:                  0.978\n",
      "Method:                 Least Squares   F-statistic:                 8.304e+04\n",
      "Date:                Sun, 31 Mar 2019   Prob (F-statistic):               0.00\n",
      "Time:                        15:40:31   Log-Likelihood:            -1.5467e+05\n",
      "No. Observations:               27382   AIC:                         3.094e+05\n",
      "Df Residuals:                   27366   BIC:                         3.095e+05\n",
      "Df Model:                          15                                         \n",
      "Covariance Type:            nonrobust                                         \n",
      "==============================================================================\n",
      "                 coef    std err          t      P>|t|      [0.025      0.975]\n",
      "------------------------------------------------------------------------------\n",
      "Intercept     27.3891      7.999      3.424      0.001      11.711      43.068\n",
      "male          -0.9530      1.082     -0.881      0.378      -3.074       1.168\n",
      "age0          -0.1073      0.298     -0.361      0.718      -0.691       0.476\n",
      "age_rs0        0.0043      0.021      0.208      0.835      -0.036       0.045\n",
      "age_rs1       -0.0150      0.045     -0.333      0.739      -0.103       0.073\n",
      "age_rs2       -0.0058      0.045     -0.128      0.898      -0.094       0.083\n",
      "cd40           0.0235      0.032      0.741      0.459      -0.039       0.086\n",
      "cd40_sq       -0.0001      0.000     -1.057      0.291      -0.000       0.000\n",
      "cd40_cu     2.166e-07   1.79e-07      1.212      0.225   -1.34e-07    5.67e-07\n",
      "dvl0          -2.3658      1.330     -1.779      0.075      -4.973       0.241\n",
      "lag_cd4        0.9890      0.001    754.804      0.000       0.986       0.992\n",
      "lag_dvl       -7.2532      1.710     -4.242      0.000     -10.605      -3.901\n",
      "lag_art       15.8214      1.735      9.118      0.000      12.420      19.223\n",
      "enter         -0.1778      0.231     -0.771      0.441      -0.630       0.274\n",
      "enter_sq       0.0021      0.009      0.229      0.819      -0.016       0.020\n",
      "enter_cu   -2.535e-06      0.000     -0.025      0.980      -0.000       0.000\n",
      "==============================================================================\n",
      "Omnibus:                        8.424   Durbin-Watson:                   2.013\n",
      "Prob(Omnibus):                  0.015   Jarque-Bera (JB):                8.414\n",
      "Skew:                           0.038   Prob(JB):                       0.0149\n",
      "Kurtosis:                       2.961   Cond. No.                     1.12e+09\n",
      "==============================================================================\n",
      "\n",
      "Warnings:\n",
      "[1] Standard Errors assume that the covariance matrix of the errors is correctly specified.\n",
      "[2] The condition number is large, 1.12e+09. This might indicate that there are\n",
      "strong multicollinearity or other numerical problems.\n"
     ]
    }
   ],
   "source": [
    "cd4_m = ('male + age0 + age_rs0 + age_rs1 + age_rs2 +  cd40 + cd40_sq + cd40_cu + dvl0 + lag_cd4 + '\n",
    "         'lag_dvl + lag_art + enter + enter_sq + enter_cu')\n",
    "cd4_recode_scheme = (\"g['cd4'] = np.maximum(g['cd4'], 1);\"\n",
    "                     \"g['cd4_sq'] = g['cd4']**2;\"\n",
    "                     \"g['cd4_cu'] = g['cd4']**3\")\n",
    "mcgf.add_covariate_model(label=2, \n",
    "                         covariate='cd4', \n",
    "                         model=cd4_m, \n",
    "                         recode=cd4_recode_scheme, \n",
    "                         var_type='continuous')"
   ]
  },
  {
   "cell_type": "markdown",
   "metadata": {},
   "source": [
    "## Informative Censoring\n",
    "To account for informative censoring, we will specify another model. This model will predict censoring based on specified factors. For our implementation, we will assume that censoring is un-informative conditional on our set of confounders and treatment. \n",
    "\n",
    "In the Monte Carlo procedure, the censoring model will be predicted after the time-varying confounders, but before the outcome. Such that individuals would be censored before their outcome"
   ]
  },
  {
   "cell_type": "code",
   "execution_count": 15,
   "metadata": {},
   "outputs": [
    {
     "name": "stdout",
     "output_type": "stream",
     "text": [
      "                 Generalized Linear Model Regression Results                  \n",
      "==============================================================================\n",
      "Dep. Variable:         __uncensored__   No. Observations:                27382\n",
      "Model:                            GLM   Df Residuals:                    27366\n",
      "Model Family:                Binomial   Df Model:                           15\n",
      "Link Function:                  logit   Scale:                          1.0000\n",
      "Method:                          IRLS   Log-Likelihood:                -330.59\n",
      "Date:                Sun, 31 Mar 2019   Deviance:                       661.19\n",
      "Time:                        15:40:31   Pearson chi2:                 2.71e+04\n",
      "No. Iterations:                    11   Covariance Type:             nonrobust\n",
      "==============================================================================\n",
      "                 coef    std err          z      P>|z|      [0.025      0.975]\n",
      "------------------------------------------------------------------------------\n",
      "Intercept      4.9528      2.632      1.882      0.060      -0.207      10.112\n",
      "male          -0.1965      0.380     -0.517      0.605      -0.942       0.549\n",
      "age0           0.1628      0.089      1.836      0.066      -0.011       0.337\n",
      "age_rs0       -0.0112      0.007     -1.691      0.091      -0.024       0.002\n",
      "age_rs1        0.0194      0.015      1.271      0.204      -0.011       0.049\n",
      "age_rs2       -0.0067      0.017     -0.395      0.693      -0.040       0.027\n",
      "cd40           0.0140      0.008      1.650      0.099      -0.003       0.031\n",
      "cd40_sq     -4.18e-05   4.22e-05     -0.992      0.321      -0.000    4.08e-05\n",
      "cd40_cu     4.149e-08   5.61e-08      0.739      0.460   -6.85e-08    1.51e-07\n",
      "dvl0          -0.6333      0.604     -1.049      0.294      -1.816       0.550\n",
      "lag_cd4        0.0006      0.000      1.330      0.183      -0.000       0.001\n",
      "lag_dvl       -0.2739      0.744     -0.368      0.713      -1.732       1.184\n",
      "lag_art        0.9282      0.756      1.228      0.219      -0.553       2.409\n",
      "enter         -0.2793      0.144     -1.941      0.052      -0.561       0.003\n",
      "enter_sq       0.0060      0.005      1.280      0.201      -0.003       0.015\n",
      "enter_cu   -4.463e-05   4.59e-05     -0.973      0.331      -0.000    4.53e-05\n",
      "==============================================================================\n"
     ]
    }
   ],
   "source": [
    "cens_m = (\"male + age0 + age_rs0 + age_rs1 + age_rs2 +  cd40 + cd40_sq + cd40_cu + dvl0 + lag_cd4 + \" + \n",
    "          \"lag_dvl + lag_art + enter + enter_sq + enter_cu\")\n",
    "mcgf.censoring_model(cens_m)"
   ]
  },
  {
   "cell_type": "markdown",
   "metadata": {},
   "source": [
    "Hooray! We are now through all the model fitting parts of the Monte Carlo g-formula. We are now ready to estimate the g-formula under the natural course\n",
    "\n",
    "## Natural Course\n",
    "To predict outcomes under the natural course, we will use `fit` to generate a predicted data set using Monte Carlo simulation under the designated treatment plan (the observed treatment \"plan\" in this case). I will explicitly lay out the Monte Carlo procedure next\n",
    "\n",
    "In general, `MonteCarloGFormula` has a `'natural'` option to estimate the natural course. However, we will be applying the intent-to-treat assumption (once someone is given ART, they remain on ART for the rest of follow-up). So instead, we will be applying a custom treatment. This is done by specifying treatment using the magic-g specification. Specifically, we will make sure individuals have `art` set to one when their previous treatment (`lag_art`) was 1 or their current treatment was predicted to be one.\n",
    "\n",
    "Additionally, we specify a dictionary for lagged variables. This lags variables over each time-step of the g-formula. Basically, we make sure that `art` becomes `lag_art` for the next time period.\n",
    "\n",
    "`in_recode` recodes variables at the start. In this case, we are using it to create square and cubic terms for entrance times. \n",
    "\n",
    "Lastly, we can set the number of resampled (with replacement) individuals to use from our sample. This should be a high number to reduce the extent of simulation error. If we are only interested in a shorter follow-up time than the maximum follow-up time of the data set, we can set `t_max` to be a lower number"
   ]
  },
  {
   "cell_type": "code",
   "execution_count": 16,
   "metadata": {},
   "outputs": [],
   "source": [
    "mcgf.fit(treatment=\"((g['art']==1) | (g['lag_art']==1))\",\n",
    "         lags={'art': 'lag_art',\n",
    "               'cd4': 'lag_cd4',\n",
    "               'dvl': 'lag_dvl'},\n",
    "         in_recode=(\"g['enter_sq'] = g['enter']**2;\"\n",
    "                    \"g['enter_cu'] = g['enter']**3\"),\n",
    "         sample=20000, \n",
    "         t_max=None)"
   ]
  },
  {
   "cell_type": "markdown",
   "metadata": {},
   "source": [
    "Well that took a little while to run... So what was happening. Behind the scenes, `fit` was running the Monte Carlo procedure. But what does that entail?\n",
    "\n",
    "### Monte Carlo Procedure\n",
    "The following is an outline of the Monte Carlo procedure executed *for each time step*.\n",
    "\n",
    "1) Select observations where the outcome has not happened\n",
    "\n",
    "2) Execute any `in_recode` statements\n",
    "\n",
    "3) Predict *each* time-varying covariates based on specified models\n",
    "    - Estimate each following order they are provided. \n",
    "        - Random error is incorporated through binomial distributions or normal\n",
    "    - Execute any `add_covariate_model(recode)` statements provided\n",
    "\n",
    "4) Generate treatment values\n",
    "    - Under `all` everyone is given a treatment of 1\n",
    "    - Under `none` everyone is given a treatment of 0\n",
    "    - Under `natural` exposures are predicted based on `exposure_model`\n",
    "        - Random error is incorporated through binomial distributions\n",
    "    - Under all other specifications, the treatments are \n",
    "        - predicted from `exposure_model`\n",
    "        - passed through `eval()` to determine treatment\n",
    "\n",
    "5) Predict whether indivial was censored (iff `censoring_model()` was specified)\n",
    "\n",
    "6) Predict outcomes based on specified models and predicted covariates\n",
    "\n",
    "7) Execute `out_recode`\n",
    "\n",
    "8) Lag variables specified in `lags`\n",
    "\n",
    "9) Repeat until `t_max` is hit\n",
    "\n",
    "So, the process can be lengthy depending on the maximum time to simulate to and the number of models to predict with. \n",
    "\n",
    "### Natural Course Comparison\n",
    "Now that we have estimate the outcomes under our natural course, we can compare this to the observed data to see if there are any gross model misspecifications. To estimate the risk functions for the natural course and the observed data, we will use the `lifelines` library and `KaplanMeierFitter`\n",
    "\n",
    "We can access the predicted/simulated data through `MonteCarloGFormula.predicted_outcomes` after the fitting procedure is complete. Below is demonstration"
   ]
  },
  {
   "cell_type": "code",
   "execution_count": 17,
   "metadata": {},
   "outputs": [
    {
     "data": {
      "image/png": "[encoded data removed]",
      "text/plain": [
       "<Figure size 432x288 with 1 Axes>"
      ]
     },
     "metadata": {},
     "output_type": "display_data"
    }
   ],
   "source": [
    "# Accessing predicted outcome values\n",
    "gf = mcgf.predicted_outcomes\n",
    "gfs = gf.loc[gf.uid_g_zepid != gf.uid_g_zepid.shift(-1)].copy()  # Only pulling out last observation for each ID\n",
    "\n",
    "# Fitting Kaplan Meier to Natural Course\n",
    "kmn = KaplanMeierFitter()\n",
    "kmn.fit(durations=gfs['out'], event_observed=gfs['dead'])\n",
    "\n",
    "# Fitting Kaplan Meier to Observed Data\n",
    "kmo = KaplanMeierFitter()\n",
    "kmo.fit(durations=df['out'], event_observed=df['dead'], entry=df['enter'])\n",
    "\n",
    "# Plotting risk functions\n",
    "plt.step(kmn.event_table.index, 1 - kmn.survival_function_, c='k', where='post', label='Natural')\n",
    "plt.step(kmo.event_table.index, 1 - kmo.survival_function_, c='gray', where='post', label='True')\n",
    "plt.legend()\n",
    "plt.show()"
   ]
  },
  {
   "cell_type": "markdown",
   "metadata": {},
   "source": [
    "From this we can see that out natural course predictions (black) follow the observed data pretty well (gray). *Note*: this does not mean that our models are correctly specified. *Rather it only means they may not be incorrectly specified*. Sadly, there is no way to know that all our models are correctly specified... We may take some comfort that our curves largely overlap, but do not take this for granted\n",
    "\n",
    "## Treatment: treat-all\n",
    "Now that we are happy with our natural course, we can estimate the risks under different treatment strategies. First, we will predict outcomes under the counterfactual where everyone was treated with ART at baseline. We do this by calling the `fit` function, but this time we set `treatment='all'`"
   ]
  },
  {
   "cell_type": "code",
   "execution_count": 18,
   "metadata": {},
   "outputs": [],
   "source": [
    "mcgf.fit(treatment=\"all\",\n",
    "         lags={'art': 'lag_art',\n",
    "               'cd4': 'lag_cd4',\n",
    "               'dvl': 'lag_dvl'},\n",
    "         in_recode=(\"g['enter_sq'] = g['enter']**2;\"\n",
    "                    \"g['enter_cu'] = g['enter']**3\"),\n",
    "         sample=20000, \n",
    "         t_max=None)\n",
    "g_all = mcgf.predicted_outcomes"
   ]
  },
  {
   "cell_type": "markdown",
   "metadata": {},
   "source": [
    "Before visualizing, we will estimate the scenario where no one is treated\n",
    "\n",
    "## Treatment: treat-none\n",
    "Similarly, we now specify `treament='none'`"
   ]
  },
  {
   "cell_type": "code",
   "execution_count": 19,
   "metadata": {},
   "outputs": [],
   "source": [
    "mcgf.fit(treatment=\"none\",\n",
    "         lags={'art': 'lag_art',\n",
    "               'cd4': 'lag_cd4',\n",
    "               'dvl': 'lag_dvl'},\n",
    "         in_recode=(\"g['enter_sq'] = g['enter']**2;\"\n",
    "                    \"g['enter_cu'] = g['enter']**3\"),\n",
    "         sample=20000, \n",
    "         t_max=None)\n",
    "g_none = mcgf.predicted_outcomes"
   ]
  },
  {
   "cell_type": "markdown",
   "metadata": {},
   "source": [
    "To compare the treatments, we will estimate the risk functions with Kaplan-Meier curves. Then we will display the risk differences over time using `dynamic_risk_plot`"
   ]
  },
  {
   "cell_type": "code",
   "execution_count": 20,
   "metadata": {},
   "outputs": [
    {
     "data": {
      "image/png": "[encoded data removed]",
      "text/plain": [
       "<Figure size 432x288 with 1 Axes>"
      ]
     },
     "metadata": {},
     "output_type": "display_data"
    },
    {
     "data": {
      "image/png": "[encoded data removed]",
      "text/plain": [
       "<Figure size 432x288 with 1 Axes>"
      ]
     },
     "metadata": {},
     "output_type": "display_data"
    }
   ],
   "source": [
    "# Risk curve under treat-all\n",
    "gfs = g_all.loc[g_all['uid_g_zepid'] != g_all['uid_g_zepid'].shift(-1)].copy()\n",
    "kma = KaplanMeierFitter()\n",
    "kma.fit(durations=gfs['out'], event_observed=gfs['dead'])\n",
    "\n",
    "# Risk curve under treat-all\n",
    "gfs = g_none.loc[g_none['uid_g_zepid'] != g_none['uid_g_zepid'].shift(-1)].copy()\n",
    "kmn = KaplanMeierFitter()\n",
    "kmn.fit(durations=gfs['out'], event_observed=gfs['dead'])\n",
    "\n",
    "# Plotting risk functions\n",
    "plt.step(kma.event_table.index, 1 - kma.survival_function_, c='blue', where='post', label='All')\n",
    "plt.step(kmn.event_table.index, 1 - kmn.survival_function_, c='red', where='post', label='None')\n",
    "plt.legend()\n",
    "plt.show()\n",
    "\n",
    "# Plotting Risk Difference over time\n",
    "dynamic_risk_plot(1 - kma.survival_function_, 1 - kmn.survival_function_)\n",
    "plt.show()"
   ]
  },
  {
   "cell_type": "markdown",
   "metadata": {},
   "source": [
    "Based on our plots, we can see that the counterfactual where everyone had been treated with ART at baseline has much lower incidence of death. We can also see this in the plotted risk differences. \n",
    "\n",
    "## Treatment: Custom\n",
    "Before ending the tutorial, let's make one final comparison. For this one, we will compare the counterfactual where we had only given ART to individuals once their CD4 T-cell count was below 200. We do this by specifying the custom treatment"
   ]
  },
  {
   "cell_type": "code",
   "execution_count": 21,
   "metadata": {},
   "outputs": [
    {
     "data": {
      "image/png": "[encoded data removed]",
      "text/plain": [
       "<Figure size 432x288 with 1 Axes>"
      ]
     },
     "metadata": {},
     "output_type": "display_data"
    }
   ],
   "source": [
    "# Estimating risk under the custom treatment\n",
    "mcgf.fit(treatment=\"g['cd4'] <= 200\",\n",
    "         lags={'art': 'lag_art',\n",
    "               'cd4': 'lag_cd4',\n",
    "               'dvl': 'lag_dvl'},\n",
    "         in_recode=(\"g['enter_sq'] = g['enter']**2;\"\n",
    "                    \"g['enter_cu'] = g['enter']**3\"),\n",
    "         sample=20000, \n",
    "         t_max=None)\n",
    "g_cd4 = mcgf.predicted_outcomes\n",
    "\n",
    "# Risk curve under treat-all\n",
    "gfs = g_cd4.loc[g_cd4['uid_g_zepid'] != g_cd4['uid_g_zepid'].shift(-1)].copy()\n",
    "kmc = KaplanMeierFitter()\n",
    "kmc.fit(durations=gfs['out'], event_observed=gfs['dead'])\n",
    "\n",
    "# Plotting risk functions\n",
    "plt.step(kma.event_table.index, 1 - kma.survival_function_, c='blue', where='post', label='All')\n",
    "plt.step(kmn.event_table.index, 1 - kmn.survival_function_, c='red', where='post', label='None')\n",
    "plt.step(kmc.event_table.index, 1 - kmc.survival_function_, c='green', where='post', label='CD4 < 200')\n",
    "plt.legend()\n",
    "plt.show()"
   ]
  },
  {
   "cell_type": "markdown",
   "metadata": {},
   "source": [
    "From this plot, we can see that delaying ART treatment until CD4 T-cell count is below 200 is better than the counterfactual where no one is treated with ART. However, treating everyone prevents many more deaths. Therefore, we would conclude that giving ART immediately after diagnosis should be the current practice (this is current practice due to real studies, which inspired this simulated data set).\n",
    "\n",
    "## Confidence Intervals\n",
    "One remark before closing, confidence intervals can be time consuming to calculate. Specifically, we need to use a bootstrap procedure. I will provide an example of this in a future update (specifically RD 95% CL for each time point comparing treat-all versus treat-none)\n",
    "\n",
    "# Conclusion\n",
    "Through this tutorial, I have demonstrated the usage of `MonteCarloGFormula` with *zEpid*. We want through an example of a time-varying treatment with two different time-varying confounders. For another example, please see the replication of Keil et al. 2014 using `MonteCarloGFormula`. You can follow along with the paper and the SAS code provided with the paper. Please view other tutorials for more information on functions in *zEpid*\n",
    "\n",
    "## Further Readings\n",
    "Keil, A. P., Edwards, J. K., Richardson, D. R., Naimi, A. I., & Cole, S. R. (2014). The parametric G-formula for time-to-event data: towards intuition with a worked example. Epidemiology (Cambridge, Mass.), 25(6), 889.\n",
    "\n",
    "Westreich, D., Cole, S. R., Young, J. G., Palella, F., Tien, P. C., Kingsley, L., ... & Hernán, M. A. (2012). The parametric g‐formula to estimate the effect of highly active antiretroviral therapy on incident AIDS or death. Statistics in medicine, 31(18), 2000-2009.\n",
    "\n",
    "Taubman, S. L., Robins, J. M., Mittleman, M. A., & Hernán, M. A. (2009). Intervening on risk factors for coronary heart disease: an application of the parametric g-formula. International journal of epidemiology, 38(6), 1599-1611.\n",
    "\n",
    "Robins, J. (1986). A new approach to causal inference in mortality studies with a sustained exposure period—application to control of the healthy worker survivor effect. Mathematical modelling, 7(9-12), 1393-1512."
   ]
  }
 ],
 "metadata": {
  "kernelspec": {
   "display_name": "Python 3",
   "language": "python",
   "name": "python3"
  },
  "language_info": {
   "codemirror_mode": {
    "name": "ipython",
    "version": 3
   },
   "file_extension": ".py",
   "mimetype": "text/x-python",
   "name": "python",
   "nbconvert_exporter": "python",
   "pygments_lexer": "ipython3",
   "version": "3.6.3"
  }
 },
 "nbformat": 4,
 "nbformat_minor": 2
}
