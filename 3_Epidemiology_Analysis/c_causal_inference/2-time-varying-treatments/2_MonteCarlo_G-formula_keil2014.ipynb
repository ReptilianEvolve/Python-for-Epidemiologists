{
 "cells": [
  {
   "cell_type": "markdown",
   "metadata": {},
   "source": [
    "# G-formula: Monte Carlo Estimator\n",
    "In this tutorial, we will again review the Monte-Carlo g-formula. In this tutorial, we will replicate the results from Keil AP et al. (2014). The parametric G-formula for time-to-event data: towards intuition with a worked example. *Epidemiology*, 25(6), 889. I highly recommend reading the paper and following along with the paper. Additionally, the original paper has SAS code available for comparison. The paper can be found [HERE](https://www.ncbi.nlm.nih.gov/pmc/articles/PMC4310506/) and the SAS code can be found [HERE](https://github.com/alexpkeil1/Gformula-tutorial)\n",
    "\n",
    "## Estimand\n",
    "In the original paper, the authors were interested in the average causal effect comparing the prevention of all graph-versus-host-disease (GvHD) to the natural course. Due to time-varying confounding, the authors chose to use the g-formula. \n",
    "\n",
    "More generally, all of Robins' g-methods allow for time-varying confounding. Each of the method has various advantages/disadvantages. See the other tutorials for other methods (marginal structural models estimated with inverse-probability-of-treatment-weights and g-estimation of structural nested models)\n",
    "\n",
    "## Parametric G-formula\n",
    "Due to the high dimensional of the data, the authors needed to use the parametric g-formula. Essentially, we specify regression models from our data set. We use the data sets to simulate (or impute) potential outcomes under our treatment strategies. So, which variables need to have regression models specified? We will need to specify regression models for each time-varying confounder. We will use a large resample of population to simulate the potential outcomes. We use a large number to reduce simulation error.\n",
    "\n",
    "## Data\n",
    "Before proceeding, we will load the corresponding data set. The data set comes with *zEpid* and can be loaded by the `load_gvhd_data()` function"
   ]
  },
  {
   "cell_type": "code",
   "execution_count": 1,
   "metadata": {},
   "outputs": [
    {
     "name": "stdout",
     "output_type": "stream",
     "text": [
      "<class 'pandas.core.frame.DataFrame'>\n",
      "Int64Index: 108714 entries, 0 to 108849\n",
      "Data columns (total 30 columns):\n",
      "id                108714 non-null float64\n",
      "age               108714 non-null float64\n",
      "agesq             108714 non-null float64\n",
      "agecurs1          108714 non-null float64\n",
      "agecurs2          108714 non-null float64\n",
      "male              108714 non-null float64\n",
      "cmv               108714 non-null float64\n",
      "all               108714 non-null float64\n",
      "wait              108714 non-null float64\n",
      "yesterday         108714 non-null int64\n",
      "tomorrow          108714 non-null int64\n",
      "day               108714 non-null int64\n",
      "daysq             108714 non-null int64\n",
      "daycu             108714 non-null int64\n",
      "daycurs1          108714 non-null float64\n",
      "daycurs2          108714 non-null float64\n",
      "d                 108714 non-null float64\n",
      "gvhd              108714 non-null int32\n",
      "relapse           108714 non-null int32\n",
      "platnorm          108714 non-null int32\n",
      "gvhdm1            108714 non-null int32\n",
      "relapsem1         108714 non-null int32\n",
      "platnormm1        108714 non-null int32\n",
      "censlost          108714 non-null int32\n",
      "daysnorelapse     108714 non-null float64\n",
      "daysnoplatnorm    108714 non-null float64\n",
      "daysnogvhd        108714 non-null float64\n",
      "daysrelapse       108714 non-null int32\n",
      "daysplatnorm      108714 non-null int32\n",
      "daysgvhd          108714 non-null int32\n",
      "dtypes: float64(15), int32(10), int64(5)\n",
      "memory usage: 21.6 MB\n"
     ]
    }
   ],
   "source": [
    "import numpy as np\n",
    "import pandas as pd\n",
    "from lifelines import KaplanMeierFitter, CoxPHFitter\n",
    "import matplotlib.pyplot as plt\n",
    "% matplotlib inline\n",
    "\n",
    "from zepid import load_gvhd_data\n",
    "\n",
    "df = load_gvhd_data()\n",
    "df['tomorrow'] = df['day']+1\n",
    "df.info()"
   ]
  },
  {
   "cell_type": "markdown",
   "metadata": {},
   "source": [
    "See the information regarding what the variables correspond to. The key variables are `gvhd` (GvHD), `d` (death), and `day` (current time).\n",
    "\n",
    "The data set looks like the following"
   ]
  },
  {
   "cell_type": "code",
   "execution_count": 2,
   "metadata": {},
   "outputs": [
    {
     "name": "stdout",
     "output_type": "stream",
     "text": [
      "     id  day  gvhd    d   age\n",
      "0   1.0    1     0  1.0  42.0\n",
      "2   2.0    1     0  0.0  20.0\n",
      "3   2.0    2     0  1.0  20.0\n",
      "5   3.0    1     0  0.0  34.0\n",
      "6   3.0    2     0  0.0  34.0\n",
      "7   3.0    3     0  0.0  34.0\n",
      "8   3.0    4     0  0.0  34.0\n",
      "9   3.0    5     0  0.0  34.0\n",
      "10  3.0    6     0  0.0  34.0\n",
      "11  3.0    7     0  0.0  34.0\n"
     ]
    }
   ],
   "source": [
    "print(df[['id', 'day', 'gvhd', 'd', 'age']].head(10))"
   ]
  },
  {
   "cell_type": "markdown",
   "metadata": {},
   "source": [
    "The data set has a row for each individual for each time unit (day). The data must be formatted in this long-format for `MonteCarloGFormula`. I will now follow along with the 3-step algorithm described in paper.\n",
    "\n",
    "## Step 0) Initializing the g-formula\n",
    "Before starting the algorithm process, we will load the `MonteCarloGFormula` class. We initialize the class with the data set (`df`), the variable indicating IDs (`id`), the treatment/exposure (`gvhd`), the outcome (`d`), the "
   ]
  },
  {
   "cell_type": "code",
   "execution_count": 3,
   "metadata": {},
   "outputs": [],
   "source": [
    "from zepid.causal.gformula import MonteCarloGFormula\n",
    "\n",
    "g = MonteCarloGFormula(df,  # pandas dataframe object containing data to fit to\n",
    "                       idvar='id',  # unique ID for participants\n",
    "                       exposure='gvhd',  # exposure column label (gvhd)\n",
    "                       outcome='d',  # outcome column label (d)\n",
    "                       time_in='day',  # entry time column label\n",
    "                       time_out='tomorrow')  # exit time column label"
   ]
  },
  {
   "cell_type": "markdown",
   "metadata": {},
   "source": [
    "## Step 1) Probability Modeling\n",
    "The first step described by the authors is to fit pooled logistic regression models for each time-varying variables. In this example, we need models for GvHD (`gvhd`), death (`d`), normal platelet count (`platnorm`), probability of relapse (`relapse`), and censoring. Censoring is automatically detected by `MonteCarloGFormula` and codes a new variable\n",
    "\n",
    "I will break these into pieces. First, let's fit the GvHD model\n",
    "\n",
    "### Step 1a) GvHD model\n",
    "We will model GvHD by cytomegalovirus, age, normal platelet count on previous day, days with a normal platelet count, relapsed on previous day, days without relapsing, time, and wait time to transplant. \n",
    "\n",
    "Additionally, the authors assumes a intent-to-treat (once an individual developed GvHD, they were considered to have GvHD at all future time points). We can estimate the corresponding model by using the optional `restriction` argument. In the background, the `MonteCarloGFormula` refers to the data set as `g`. I refer to this as the 'magic-g'. We make the restriction using *pandas* notation to subset the data, `g['gvhdm1'] == 0`, meaning the model is only being fit to observations where the previous time point did not have a GvHD diagnosis."
   ]
  },
  {
   "cell_type": "code",
   "execution_count": 4,
   "metadata": {},
   "outputs": [
    {
     "name": "stdout",
     "output_type": "stream",
     "text": [
      "                 Generalized Linear Model Regression Results                  \n",
      "==============================================================================\n",
      "Dep. Variable:                   gvhd   No. Observations:                54617\n",
      "Model:                            GLM   Df Residuals:                    54603\n",
      "Model Family:                Binomial   Df Model:                           13\n",
      "Link Function:                  logit   Scale:                          1.0000\n",
      "Method:                          IRLS   Log-Likelihood:                -477.60\n",
      "Date:                Tue, 07 May 2019   Deviance:                       955.20\n",
      "Time:                        08:17:10   Pearson chi2:                 2.30e+04\n",
      "No. Iterations:                    19   Covariance Type:             nonrobust\n",
      "==================================================================================\n",
      "                     coef    std err          z      P>|z|      [0.025      0.975]\n",
      "----------------------------------------------------------------------------------\n",
      "Intercept         -7.2506      1.003     -7.226      0.000      -9.217      -5.284\n",
      "all                0.6005      0.287      2.093      0.036       0.038       1.163\n",
      "cmv                0.1046      0.256      0.408      0.684      -0.398       0.607\n",
      "male              -0.1468      0.271     -0.542      0.588      -0.678       0.384\n",
      "age               -0.0024      0.041     -0.057      0.955      -0.084       0.079\n",
      "agecurs1           0.0001      0.000      0.996      0.319      -0.000       0.000\n",
      "agecurs2          -0.0001      0.000     -1.008      0.314      -0.000       0.000\n",
      "platnormm1         0.4304      0.476      0.904      0.366      -0.503       1.364\n",
      "daysnoplatnorm     0.0099      0.007      1.430      0.153      -0.004       0.023\n",
      "relapsem1          0.0871      1.553      0.056      0.955      -2.957       3.131\n",
      "daysnorelapse      0.0911      0.107      0.850      0.396      -0.119       0.301\n",
      "day               -0.0798      0.107     -0.743      0.457      -0.290       0.131\n",
      "daysq          -4.389e-05   1.59e-05     -2.758      0.006   -7.51e-05   -1.27e-05\n",
      "wait               0.0129      0.010      1.350      0.177      -0.006       0.032\n",
      "==================================================================================\n"
     ]
    }
   ],
   "source": [
    "exp_m = ('all + cmv + male + age + agecurs1 + agecurs2 + platnormm1 + '\n",
    "         'daysnoplatnorm + relapsem1 + daysnorelapse + '\n",
    "         'day + daysq + wait')\n",
    "g.exposure_model(exp_m,  # dependent variable model to predict exposure\n",
    "                 restriction=\"g['gvhdm1']==0\")  # restricting for ITT"
   ]
  },
  {
   "cell_type": "markdown",
   "metadata": {},
   "source": [
    "By default, the regression model results will be printed to the console. These can be surpressed by specifying the optional argument `print_results=False`. \n",
    "\n",
    "### Step 1b) Outcome model\n",
    "Next we will specify the outcome model. We will model death as a function of cytomegalovirus, age, time since study start, GvHD, normal platelet count, number of days with a normal platelet count, relapse, days without relapse, waiting time for transplant. We will include an interaction term between time since study start and treatment. These should be included by using *patsy* magic. Specifically, the `:` operator"
   ]
  },
  {
   "cell_type": "code",
   "execution_count": 5,
   "metadata": {},
   "outputs": [
    {
     "name": "stdout",
     "output_type": "stream",
     "text": [
      "                 Generalized Linear Model Regression Results                  \n",
      "==============================================================================\n",
      "Dep. Variable:                      d   No. Observations:               108714\n",
      "Model:                            GLM   Df Residuals:                   108696\n",
      "Model Family:                Binomial   Df Model:                           17\n",
      "Link Function:                  logit   Scale:                          1.0000\n",
      "Method:                          IRLS   Log-Likelihood:                -565.43\n",
      "Date:                Tue, 07 May 2019   Deviance:                       1130.9\n",
      "Time:                        08:17:14   Pearson chi2:                 8.99e+04\n",
      "No. Iterations:                    13   Covariance Type:             nonrobust\n",
      "==================================================================================\n",
      "                     coef    std err          z      P>|z|      [0.025      0.975]\n",
      "----------------------------------------------------------------------------------\n",
      "Intercept         -7.3353      0.943     -7.777      0.000      -9.184      -5.487\n",
      "gvhd               0.9856      0.676      1.457      0.145      -0.340       2.311\n",
      "cmv               -0.1400      0.241     -0.582      0.560      -0.611       0.331\n",
      "male               0.1410      0.245      0.575      0.566      -0.340       0.622\n",
      "age                0.0447      0.060      0.742      0.458      -0.073       0.163\n",
      "agesq             -0.0003      0.001     -0.327      0.744      -0.002       0.002\n",
      "day               -0.0029      0.004     -0.816      0.414      -0.010       0.004\n",
      "daysq          -7.555e-08   5.83e-06     -0.013      0.990   -1.15e-05    1.13e-05\n",
      "daycu           4.517e-10   2.73e-09      0.166      0.868   -4.89e-09     5.8e-09\n",
      "platnorm          -1.1071      0.420     -2.635      0.008      -1.931      -0.284\n",
      "daysnoplatnorm    -0.0004      0.001     -0.331      0.740      -0.003       0.002\n",
      "relapse            3.1165      0.283     11.027      0.000       2.563       3.670\n",
      "daysnorelapse      0.0003      0.001      0.244      0.808      -0.002       0.003\n",
      "wait               0.0087      0.011      0.772      0.440      -0.013       0.031\n",
      "all               -0.0493      0.291     -0.169      0.866      -0.620       0.522\n",
      "day:gvhd          -0.0022      0.005     -0.442      0.658      -0.012       0.007\n",
      "daysq:gvhd      5.172e-06   9.31e-06      0.556      0.578   -1.31e-05    2.34e-05\n",
      "daycu:gvhd     -2.989e-09   4.75e-09     -0.629      0.529   -1.23e-08    6.32e-09\n",
      "==================================================================================\n"
     ]
    }
   ],
   "source": [
    "out_m = ('gvhd + cmv + male + age  + agesq + day + daysq + daycu + platnorm + '\n",
    "         'daysnoplatnorm + relapse + daysnorelapse + wait + all + '\n",
    "         'day:gvhd + daysq:gvhd + daycu:gvhd')\n",
    "g.outcome_model(out_m)  # dependent variable model to predict outcome"
   ]
  },
  {
   "cell_type": "markdown",
   "metadata": {},
   "source": [
    "### Step 1c) Normal platelet count model\n",
    "Next, we will begin the process of estimating time-varying confounding. Again, we will impose a restriction. Specifically, once an individual's platelet count returns to normal, it remains normal. We do this by using the `restriction` argument again\n",
    "\n",
    "Additionally, we are adding some additional argument. First, we specify `label` which tells `MonteCarloGFormula` when the time-varying confounder should be fit relative to the other time-varying confounders. Second, we specify `recode`. The recode procedure tells the `MonteCarloGFormula` any code it needs to run during the simulation procedure. Specifically, we need to make sure that the days with normal platlet counts is counted correctly. Third, we specify `var_type` indicating whether to use a logitistic regression or linear regression."
   ]
  },
  {
   "cell_type": "code",
   "execution_count": 6,
   "metadata": {},
   "outputs": [
    {
     "name": "stdout",
     "output_type": "stream",
     "text": [
      "                 Generalized Linear Model Regression Results                  \n",
      "==============================================================================\n",
      "Dep. Variable:               platnorm   No. Observations:                 6842\n",
      "Model:                            GLM   Df Residuals:                     6831\n",
      "Model Family:                Binomial   Df Model:                           10\n",
      "Link Function:                  logit   Scale:                          1.0000\n",
      "Method:                          IRLS   Log-Likelihood:                -535.65\n",
      "Date:                Tue, 07 May 2019   Deviance:                       1071.3\n",
      "Time:                        08:17:17   Pearson chi2:                 4.61e+03\n",
      "No. Iterations:                    13   Covariance Type:             nonrobust\n",
      "=================================================================================\n",
      "                    coef    std err          z      P>|z|      [0.025      0.975]\n",
      "---------------------------------------------------------------------------------\n",
      "Intercept        -5.7715      0.640     -9.025      0.000      -7.025      -4.518\n",
      "all              -0.0710      0.233     -0.304      0.761      -0.528       0.386\n",
      "cmv              -0.5991      0.197     -3.042      0.002      -0.985      -0.213\n",
      "male              0.3609      0.206      1.753      0.080      -0.043       0.764\n",
      "age               0.1057      0.027      3.880      0.000       0.052       0.159\n",
      "agecurs1         -0.0002      9e-05     -1.842      0.065      -0.000    1.06e-05\n",
      "agecurs2       2.819e-05   9.69e-05      0.291      0.771      -0.000       0.000\n",
      "gvhdm1           -1.1101      0.813     -1.365      0.172      -2.704       0.484\n",
      "daysgvhd         -0.0138      0.017     -0.832      0.405      -0.046       0.019\n",
      "daysnorelapse    -0.0050      0.004     -1.310      0.190      -0.013       0.002\n",
      "wait              0.0132      0.008      1.603      0.109      -0.003       0.029\n",
      "=================================================================================\n"
     ]
    }
   ],
   "source": [
    "# Model specification\n",
    "prp_m = 'all + cmv + male + age + agecurs1 + agecurs2 + gvhdm1 + daysgvhd + daysnorelapse + wait'\n",
    "\n",
    "# Specifying recoding process during Monte-Carlo procedure\n",
    "prp_recode = (\"g['platnorm'] = np.where(g['platnormm1']==1, 1 ,g['platnorm']);\"\n",
    "              \"g['daysnoplatnorm'] = np.where(g['platnorm']==0, g['daysnoplatnorm']+1, \"\n",
    "                                              \"g['daysnoplatnorm']);\"\n",
    "              \"g['daysplatnorm'] = np.where(g['platnorm']==0, g['daysplatnorm'], \"\n",
    "                                            \"g['daysplatnorm']+1);\")\n",
    "\n",
    "# Adding model\n",
    "g.add_covariate_model(label=1,  # order to fit the covariate model\n",
    "                      covariate='platnorm',  # covariate to predict\n",
    "                      model=prp_m,  # dependent variable model to predict covariate (platnorm)\n",
    "                      recode=prp_recode,  # recoding process to execute each loop\n",
    "                      var_type='binary',  # covariate variable type\n",
    "                      restriction=\"g['platnormm1']==0\")  # restricting for ITT"
   ]
  },
  {
   "cell_type": "markdown",
   "metadata": {},
   "source": [
    "### Step 1d) Relapse model\n",
    "Next, we estimate a model for relapse. We will use a similar process and similar arguments as the previous model. We specify this model to be estimated after normal platelet counts are simulated."
   ]
  },
  {
   "cell_type": "code",
   "execution_count": 7,
   "metadata": {},
   "outputs": [
    {
     "name": "stdout",
     "output_type": "stream",
     "text": [
      "                 Generalized Linear Model Regression Results                  \n",
      "==============================================================================\n",
      "Dep. Variable:                relapse   No. Observations:               100930\n",
      "Model:                            GLM   Df Residuals:                   100916\n",
      "Model Family:                Binomial   Df Model:                           13\n",
      "Link Function:                  logit   Scale:                          1.0000\n",
      "Method:                          IRLS   Log-Likelihood:                -345.76\n",
      "Date:                Tue, 07 May 2019   Deviance:                       691.51\n",
      "Time:                        08:17:21   Pearson chi2:                 7.56e+04\n",
      "No. Iterations:                    15   Covariance Type:             nonrobust\n",
      "==================================================================================\n",
      "                     coef    std err          z      P>|z|      [0.025      0.975]\n",
      "----------------------------------------------------------------------------------\n",
      "Intercept         -6.8681      1.308     -5.250      0.000      -9.432      -4.304\n",
      "all                0.5865      0.391      1.499      0.134      -0.180       1.353\n",
      "cmv                0.5590      0.335      1.671      0.095      -0.097       1.215\n",
      "male              -0.2541      0.351     -0.724      0.469      -0.942       0.434\n",
      "age               -0.0899      0.051     -1.777      0.076      -0.189       0.009\n",
      "agecurs1           0.0004      0.000      2.303      0.021    5.84e-05       0.001\n",
      "agecurs2          -0.0004      0.000     -1.982      0.047      -0.001   -4.51e-06\n",
      "gvhdm1            -0.3029      0.487     -0.622      0.534      -1.257       0.651\n",
      "daysgvhd          -0.0013      0.002     -0.630      0.529      -0.005       0.003\n",
      "platnormm1         1.1732      0.799      1.469      0.142      -0.392       2.739\n",
      "daysnoplatnorm     0.0054      0.002      2.236      0.025       0.001       0.010\n",
      "day                0.0024      0.002      0.965      0.334      -0.002       0.007\n",
      "daysq          -5.933e-06   3.28e-06     -1.807      0.071   -1.24e-05    5.03e-07\n",
      "wait              -0.0086      0.017     -0.505      0.614      -0.042       0.025\n",
      "==================================================================================\n"
     ]
    }
   ],
   "source": [
    "# Model specification for relapse\n",
    "prr_m = ('all + cmv + male + age + agecurs1 + agecurs2 + gvhdm1 +  daysgvhd + platnormm1 + '\n",
    "         'daysnoplatnorm + day + daysq + wait')\n",
    "\n",
    "# Recoding procedure for Monte-Carlo process\n",
    "relapse_recode = (\"g['relapse'] = np.where(g['relapsem1']==1,1,g['relapse']);\"\n",
    "                  \"g['daysnorelapse'] = np.where(g['relapse']==0, g['daysnorelapse']+1,\"\n",
    "                                                 \"g['daysnorelapse']);\"\n",
    "                  \"g['daysrelapse'] = np.where(g['relapse']==0, g['daysrelapse'],\"\n",
    "                                              \"g['daysrelapse']+1);\")\n",
    "\n",
    "# Estimating model in g-formula\n",
    "g.add_covariate_model(label=2,  # order to fit the covariate model\n",
    "                      covariate='relapse',  # covariate to predict\n",
    "                      model=prr_m,  # dependent variable model to predict covariate (relapse)\n",
    "                      recode=relapse_recode,  # recoding process to execute each loop\n",
    "                      var_type='binary',  # covariate variable type\n",
    "                      restriction=\"g['relapsem1']==0\")  # restricting for ITT"
   ]
  },
  {
   "cell_type": "markdown",
   "metadata": {},
   "source": [
    "### Step 1e) Censoring model\n",
    "Lastly, we will specify a model for censoring. By doing this, we relax the assumption of un-informative censoring to un-informative censoring conditional on cytomegalovirus, gender, age, days of normal platelets, days of no relapse, time since origin, and time waiting for a transplant"
   ]
  },
  {
   "cell_type": "code",
   "execution_count": 8,
   "metadata": {},
   "outputs": [
    {
     "name": "stdout",
     "output_type": "stream",
     "text": [
      "                 Generalized Linear Model Regression Results                  \n",
      "==============================================================================\n",
      "Dep. Variable:         __uncensored__   No. Observations:               108714\n",
      "Model:                            GLM   Df Residuals:                   108701\n",
      "Model Family:                Binomial   Df Model:                           12\n",
      "Link Function:                  logit   Scale:                          1.0000\n",
      "Method:                          IRLS   Log-Likelihood:                -309.40\n",
      "Date:                Tue, 07 May 2019   Deviance:                       618.80\n",
      "Time:                        08:17:25   Pearson chi2:                 8.77e+04\n",
      "No. Iterations:                    14   Covariance Type:             nonrobust\n",
      "==================================================================================\n",
      "                     coef    std err          z      P>|z|      [0.025      0.975]\n",
      "----------------------------------------------------------------------------------\n",
      "Intercept          9.8879      2.242      4.409      0.000       5.493      14.283\n",
      "all               -0.7590      0.448     -1.695      0.090      -1.637       0.119\n",
      "cmv                0.4335      0.348      1.247      0.212      -0.248       1.115\n",
      "male              -0.2234      0.370     -0.604      0.546      -0.949       0.502\n",
      "age                0.0797      0.107      0.747      0.455      -0.129       0.289\n",
      "agesq             -0.0011      0.002     -0.631      0.528      -0.005       0.002\n",
      "daysgvhd          -0.0006      0.000     -1.561      0.119      -0.001       0.000\n",
      "daysnoplatnorm    -0.0006      0.001     -0.586      0.558      -0.003       0.002\n",
      "daysnorelapse      0.0002      0.001      0.263      0.793      -0.002       0.002\n",
      "day                0.0006      0.006      0.108      0.914      -0.011       0.012\n",
      "daysq          -6.625e-06   6.23e-06     -1.064      0.288   -1.88e-05    5.58e-06\n",
      "daycu           2.772e-09   2.02e-09      1.375      0.169   -1.18e-09    6.73e-09\n",
      "wait               0.0040      0.012      0.343      0.732      -0.019       0.027\n",
      "==================================================================================\n"
     ]
    }
   ],
   "source": [
    "cen_m = ('all + cmv + male + age + agesq + daysgvhd + daysnoplatnorm + '\n",
    "         'daysnorelapse + day + daysq + daycu + wait')\n",
    "g.censoring_model(model=cen_m)"
   ]
  },
  {
   "cell_type": "markdown",
   "metadata": {},
   "source": [
    "## Step 2) Monte Carlo sampling\n"
   ]
  },
  {
   "cell_type": "code",
   "execution_count": 9,
   "metadata": {},
   "outputs": [],
   "source": [
    "g.fit(treatment=\"((g['gvhd']==1) | (g['gvhdm1']==1))\",  # treatment strategy (ITT natural course)\n",
    "      lags={'platnorm': 'platnormm1',  # lagging certain variables at end of each loop\n",
    "            'relapse': 'relapsem1',\n",
    "            'gvhd': 'gvhdm1'},\n",
    "      sample=13700,  # number to resample of population for Monte Carlo\n",
    "      t_max=1825,  # maximum time to simulate to\n",
    "      in_recode=(\"g = g.loc[g['censlost'] == 0].copy();\"  # variable recoding to execute at start of loops\n",
    "                 \"g['daysq'] = g['day']**2;\"\n",
    "                 \"g['daycu'] = g['day']**3;\"),\n",
    "      out_recode=(\"g['daysnogvhd'] = np.where(g['gvhd'] == 0, g['daysnogvhd']+1, g['daysnogvhd']);\"\n",
    "                  \"g['daysgvhd'] = np.where(g['gvhd'] == 0, g['daysgvhd'], g['daysgvhd']+1);\")\n",
    "     )  # Recoding variables at end of loops"
   ]
  },
  {
   "cell_type": "markdown",
   "metadata": {},
   "source": [
    "We will now generate a plot comparing the observed risk curve to the natural course predictions from the Monte-Carlo g-formula. Below is code to generate a plot"
   ]
  },
  {
   "cell_type": "code",
   "execution_count": 15,
   "metadata": {},
   "outputs": [
    {
     "data": {
      "image/png": "[encoded data removed]",
      "text/plain": [
       "<Figure size 432x288 with 1 Axes>"
      ]
     },
     "metadata": {},
     "output_type": "display_data"
    }
   ],
   "source": [
    "# Fitting Kaplan Meier to Natural Course\n",
    "gf = g.predicted_outcomes\n",
    "\n",
    "kmn = KaplanMeierFitter()\n",
    "kmn.fit(durations=gf['day'], event_observed=gf['d'])\n",
    "\n",
    "# Fitting Kaplan Meier to Observed Data\n",
    "df.sort_values(by=['id', 'day'])\n",
    "dfs = df.loc[df.id != df.id.shift(-1)].copy()\n",
    "kmo = KaplanMeierFitter()\n",
    "kmo.fit(durations=dfs['day'], event_observed=dfs['d'])\n",
    "\n",
    "# Plotting risk functions\n",
    "plt.step(kmn.event_table.index, 1 - kmn.survival_function_, c='k', \n",
    "         where='post', label='Natural')\n",
    "plt.step(kmo.event_table.index, 1 - kmo.survival_function_, c='gray', \n",
    "         where='post', label='Observed')\n",
    "plt.legend()\n",
    "plt.show()"
   ]
  },
  {
   "cell_type": "markdown",
   "metadata": {},
   "source": [
    "As in the original paper, our results align fairly close between the observed risk curve and the natural-course predicted risk. We can now proceed to step 3"
   ]
  },
  {
   "cell_type": "markdown",
   "metadata": {},
   "source": [
    "## Step 3) Effect Estimation\n",
    "As in the original paper, we will now estimate the risk under the scenario where all GvHD is prevented. Below is code to estimate predictions under this treatment plan"
   ]
  },
  {
   "cell_type": "code",
   "execution_count": 16,
   "metadata": {},
   "outputs": [],
   "source": [
    "g.fit(treatment=\"none\",\n",
    "      lags={'platnorm': 'platnormm1',\n",
    "            'relapse': 'relapsem1',\n",
    "            'gvhd': 'gvhdm1'},\n",
    "      sample=13700,  # number to resample from the population for Monte Carlo\n",
    "      t_max=1825,  # maximum time to simulate until (5 years)\n",
    "      in_recode=(\"g['daysq'] = g['day']**2;\"\n",
    "                 \"g['daycu'] = g['day']**3;\"),\n",
    "      out_recode=(\"g['daysnogvhd'] = np.where(g['gvhd']==0,g['daysnogvhd']+1,g['daysnogvhd']);\"\n",
    "                  \"g['daysgvhd'] = np.where(g['gvhd']==0,g['daysgvhd'],g['daysgvhd']+1);\"))"
   ]
  },
  {
   "cell_type": "markdown",
   "metadata": {},
   "source": [
    "We can now generate a plot of the risk functions for the observed data, the natural course, and the prevent-all GvHD results"
   ]
  },
  {
   "cell_type": "code",
   "execution_count": 19,
   "metadata": {
    "scrolled": false
   },
   "outputs": [
    {
     "data": {
      "image/png": "[encoded data removed]",
      "text/plain": [
       "<Figure size 504x432 with 1 Axes>"
      ]
     },
     "metadata": {},
     "output_type": "display_data"
    }
   ],
   "source": [
    "# Fitting Kaplan Meier for the prevent all GvHD data\n",
    "gfn = g.predicted_outcomes.copy()\n",
    "kmp = KaplanMeierFitter()\n",
    "kmp.fit(durations=gfn['day'], event_observed=gfn['d'])\n",
    "\n",
    "# Generating plot\n",
    "plt.figure(figsize=(7,6))\n",
    "plt.step(kmo.event_table.index, 1 - kmo.survival_function_, c='gray', \n",
    "         where='post', label='Observed')\n",
    "plt.step(kmn.event_table.index, 1 - kmn.survival_function_, c='firebrick', \n",
    "         where='post', label='Natural')\n",
    "plt.step(kmp.event_table.index, 1 - kmp.survival_function_, c='blue', \n",
    "         where='post', label='Prevent GvHD')\n",
    "plt.xlabel('Time (days)')\n",
    "plt.ylabel('Pr(death)')\n",
    "plt.legend()\n",
    "plt.show()"
   ]
  },
  {
   "cell_type": "markdown",
   "metadata": {},
   "source": [
    "Finally, we can estimate the hazard ratio comparing our natural course results to the prevent-all GvHD counterfactual"
   ]
  },
  {
   "cell_type": "code",
   "execution_count": 22,
   "metadata": {},
   "outputs": [
    {
     "name": "stdout",
     "output_type": "stream",
     "text": [
      "<lifelines.CoxPHFitter: fitted with 27400 observations, 11413 censored>\n",
      "      duration col = 'time'\n",
      "         event col = 'event'\n",
      "number of subjects = 27400\n",
      "  number of events = 15987\n",
      "    log-likelihood = -157110.08\n",
      "  time fit was run = 2019-05-07 12:30:15 UTC\n",
      "\n",
      "---\n",
      "     coef exp(coef)  se(coef)    z      p  -log2(p)  lower 0.95  upper 0.95\n",
      "exp  0.06      1.06      0.02 3.74 <0.005     12.43        0.03        0.09\n",
      "---\n",
      "Concordance = 0.51\n",
      "Log-likelihood ratio test = 14.01 on 1 df, -log2(p)=12.43\n"
     ]
    }
   ],
   "source": [
    "# Setting up pandas dataframe for lifelines.CoxPHFitter\n",
    "rfn = pd.DataFrame()  # Natural course data\n",
    "rfn['event'] = gf['d']\n",
    "rfn['time'] = gf['day']\n",
    "rfn['exp'] = 1\n",
    "\n",
    "rfp = pd.DataFrame()  # Creating df for CoxPHFitter\n",
    "rfp['event'] = gfn['d']\n",
    "rfp['time'] = gfn['day']\n",
    "rfp['exp'] = 0\n",
    "rf = rfn.append(rfp, ignore_index=True, sort=False)\n",
    "\n",
    "cph = CoxPHFitter()\n",
    "cph.fit(rf, duration_col='time', event_col='event')\n",
    "cph.print_summary()"
   ]
  },
  {
   "cell_type": "markdown",
   "metadata": {},
   "source": [
    "Our results match the ones shown in Keil et al. 2014. Due to time contrainsts, I will not bootstrap the confidence intervals here, but a bootstrapping procedure should be used for confidence intervals. The confidence intervals in the above output are invalid for the Monte-Carlo g-formula\n",
    "\n",
    "# Conclusion\n",
    "In this tutorial, we went piece-by-piece through the Monte-Carlo g-formula as described by Keil et al. 2014. With the papers details and available SAS code, this tutorial will hopefully serve as a useful Rosetta stone to `MonteCarloGFormula` in Python. \n",
    "\n",
    "## Further Reading\n",
    "Keil AP et al. (2014). The parametric G-formula for time-to-event data: towards intuition with a worked example. *Epidemiology*, 25(6), 889."
   ]
  }
 ],
 "metadata": {
  "kernelspec": {
   "display_name": "Python 3",
   "language": "python",
   "name": "python3"
  },
  "language_info": {
   "codemirror_mode": {
    "name": "ipython",
    "version": 3
   },
   "file_extension": ".py",
   "mimetype": "text/x-python",
   "name": "python",
   "nbconvert_exporter": "python",
   "pygments_lexer": "ipython3",
   "version": "3.6.3"
  }
 },
 "nbformat": 4,
 "nbformat_minor": 2
}
