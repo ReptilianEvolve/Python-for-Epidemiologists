{
 "cells": [
  {
   "cell_type": "markdown",
   "metadata": {},
   "source": [
    "# Parametric g-formula\n",
    "The g-formula is a general equation to obtain the marginal causal effect of a treatment plan. Similar to the other estimators, we assume exchangeability, positivity, and causal consistency. Additionally, if we use the parametric g-formula, we assume that our model is correctly specified. The g-formula has always fascinated me and I believe is the fundamental method for causal inference.\n",
    "\n",
    "This tutorial details how to use the g-formula to estimate risks under a fixed regime for a single time point. To estimate the marginal risk, we will predict the outcomes under different treatment plans. For a more detailed introduction, please refer to the listed references.\n",
    "\n",
    "To start, I will provide some intuition on how the g-formula works. There are two basic views of the g-formula that we can adopt; the standardization view versus the imputation view\n",
    "\n",
    "### Standardization\n",
    "Under the identifiability assumptions, the g-formula allows us to identify the marginal value of the potential outcome ($Y^a$) for the outcome $Y$ under treatment $A=a$. Below is the derivation\n",
    "$$E[Y^a] = \\sum_l E[Y^a|L=l] \\Pr(L=l)$$\n",
    "$$ = \\sum_l E[Y^a|A=a, L=l] \\Pr(L=l)$$\n",
    "$$ = \\sum_l E[Y|A=aL=l] \\Pr(L=l)$$\n",
    "where the first step uses the law of total probability, the next uses conditional exchangeability ($Y^a \\amalg A|L$), and the last uses causal consistency ($Y = Y^{a=1}\\times A + Y^{a=0} \\times (1-A)$).\n",
    "\n",
    "Under these assumptions, we are able to identify the average potential outcome $Y^a$ using only the observed. This is huge progress! If you look at the above formula long enough, you will notice that the g-formula is just the standardized mean. So, this is our first viewpoint of the g-formula\n",
    "\n",
    "### Imputation\n",
    "Alternatively, we can view the g-formula as an imputation procedure. Under causal consistency, we see that we only observed one of the potential outcomes. With this view, the g-formula becomes a way we can impute the missing outcomes. \n",
    "\n",
    "## g-computation procedure\n",
    "Now that we have some intuition, what is happening behind the scenes? When $A$ and $L$ are binary, it is trivial to solve the g-formula. However, it becomes difficult to solve with many confounders (like most scenarios). The way we can get around this difficult is using parametric regression models, referred to as the g-computation algorithm in the literature. \n",
    "\n",
    "The process works like this:\n",
    "\n",
    "1. Fit a regression model for the outcome as a function of the exposure and confounding variables\n",
    "\n",
    "2. Predict outcomes $\\widehat{Y_i^a}$ under the treatment plan of interest\n",
    "\n",
    "3. Take the mean of the predicted outcomes to get $E[Y^a]$\n",
    "\n",
    "This process is all done by `TimeFixedGFormula`. \n",
    "\n",
    "## Applied Example\n",
    "\n",
    "### Binary Outcome\n",
    "In the following example, use a simulated data set that comes with zEpid. For our example, we are interested in the 45-week risk of death under several different treatment strategies. Specifically, our cohort is of HIV-infected individuals and we are interested in different anti-retroviral treatment (ART) strategies. First we will load the data set and create spline terms for age and CD4"
   ]
  },
  {
   "cell_type": "code",
   "execution_count": 1,
   "metadata": {},
   "outputs": [
    {
     "name": "stdout",
     "output_type": "stream",
     "text": [
      "<class 'pandas.core.frame.DataFrame'>\n",
      "Int64Index: 547 entries, 0 to 546\n",
      "Data columns (total 9 columns):\n",
      "id          547 non-null int64\n",
      "male        547 non-null int64\n",
      "age0        547 non-null int64\n",
      "cd40        547 non-null int64\n",
      "dvl0        547 non-null int64\n",
      "art         547 non-null int64\n",
      "dead        517 non-null float64\n",
      "t           547 non-null float64\n",
      "cd4_wk45    460 non-null float64\n",
      "dtypes: float64(3), int64(6)\n",
      "memory usage: 42.7 KB\n"
     ]
    }
   ],
   "source": [
    "import numpy as np\n",
    "import pandas as pd\n",
    "\n",
    "from zepid import load_sample_data, spline\n",
    "from zepid.causal.gformula import TimeFixedGFormula\n",
    "\n",
    "df = load_sample_data(timevary=False)\n",
    "df.info()\n",
    "\n",
    "df[['cd4_rs1', 'cd4_rs2']] = spline(df, 'cd40', n_knots=3, term=2, restricted=True)\n",
    "df[['age_rs1', 'age_rs2']] = spline(df, 'age0', n_knots=3, term=2, restricted=True)"
   ]
  },
  {
   "cell_type": "markdown",
   "metadata": {},
   "source": [
    "So, there are a individuals with missing outcome data (`dead`). For now, we will assume that all missing outcome data is missing-at-random by our adjustment set. \n",
    "\n",
    "Through a causal diagram, we determined the sufficient adjustment set for the ART-death relationship includes; age (`age0`), baseline CD4 (`cd40`), gender (`male`), and detectable viral load (`dvl0`). We start with initializing `TimeFixedGFormula` with our data set, treatment, and outcome. Then we specify the `outcome_model()` function with our regression model specification"
   ]
  },
  {
   "cell_type": "code",
   "execution_count": 2,
   "metadata": {},
   "outputs": [
    {
     "name": "stdout",
     "output_type": "stream",
     "text": [
      "                 Generalized Linear Model Regression Results                  \n",
      "==============================================================================\n",
      "Dep. Variable:                   dead   No. Observations:                  517\n",
      "Model:                            GLM   Df Residuals:                      507\n",
      "Model Family:                Binomial   Df Model:                            9\n",
      "Link Function:                  logit   Scale:                          1.0000\n",
      "Method:                          IRLS   Log-Likelihood:                -202.85\n",
      "Date:                Wed, 17 Jul 2019   Deviance:                       405.71\n",
      "Time:                        12:29:38   Pearson chi2:                     535.\n",
      "No. Iterations:                     6   Covariance Type:             nonrobust\n",
      "==============================================================================\n",
      "                 coef    std err          z      P>|z|      [0.025      0.975]\n",
      "------------------------------------------------------------------------------\n",
      "Intercept     -4.0961      2.713     -1.510      0.131      -9.413       1.220\n",
      "art           -0.7274      0.392     -1.853      0.064      -1.497       0.042\n",
      "male          -0.0774      0.334     -0.232      0.817      -0.732       0.577\n",
      "age0           0.1605      0.096      1.670      0.095      -0.028       0.349\n",
      "age_rs1       -0.0058      0.004     -1.481      0.139      -0.013       0.002\n",
      "age_rs2        0.0128      0.006      2.026      0.043       0.000       0.025\n",
      "cd40          -0.0123      0.004     -2.987      0.003      -0.020      -0.004\n",
      "cd4_rs1     1.872e-05   1.18e-05      1.584      0.113   -4.45e-06    4.19e-05\n",
      "cd4_rs2    -3.868e-05   4.59e-05     -0.842      0.400      -0.000    5.13e-05\n",
      "dvl0          -0.1261      0.398     -0.317      0.751      -0.906       0.653\n",
      "==============================================================================\n"
     ]
    }
   ],
   "source": [
    "g = TimeFixedGFormula(df, exposure='art', outcome='dead')\n",
    "g.outcome_model(model='art + male + age0 + age_rs1 + age_rs2 + cd40 + cd4_rs1 + cd4_rs2 + dvl0')"
   ]
  },
  {
   "cell_type": "markdown",
   "metadata": {},
   "source": [
    "By default, `TimeFixedGFormula` outputs the regression models results. This can be suppressed by setting `print_results=False` in the `outcome_model()` function.\n",
    "\n",
    "In most analyses that report conditional logistic regression results, we would stop here and interpret `art` as the conditional odds ratio. However, we want to make a marginal comparison comparing if we treated everyone versus treated no one with ART. To make that comparison, we will use the g-formula. The next step is to use the `fit()` function, which estimates the marginal outcome under our treatment of interest. First, we will calculate the g-formula under the scenario where everyone was treated. To do this, we will use the keyword `'all'` so that the g-formula is calculated under the scenario where everyone is treated.\n",
    "\n",
    "After `fit()` is called, `TimeFixedGFormula` gains the attribute `marginal_outcome` which is the average of the predicted values (step 3 as above). Let's look at an example"
   ]
  },
  {
   "cell_type": "code",
   "execution_count": 3,
   "metadata": {},
   "outputs": [
    {
     "name": "stdout",
     "output_type": "stream",
     "text": [
      "Treat-all: 0.10702812052677532\n"
     ]
    }
   ],
   "source": [
    "g.fit(treatment='all')\n",
    "r_all = g.marginal_outcome\n",
    "print('Treat-all:', r_all)"
   ]
  },
  {
   "cell_type": "markdown",
   "metadata": {},
   "source": [
    "Under the scenario where everyone is treated, the risk of death would have been 10.6%. We can repeat the above process for the scenario where no one is treated. To do this, we use the keyword `'none'`"
   ]
  },
  {
   "cell_type": "code",
   "execution_count": 4,
   "metadata": {},
   "outputs": [
    {
     "name": "stdout",
     "output_type": "stream",
     "text": [
      "Treat-none: 0.1830498597420999\n",
      "RD: -0.07602173921532457\n"
     ]
    }
   ],
   "source": [
    "g.fit(treatment='none')\n",
    "r_none = g.marginal_outcome\n",
    "print('Treat-none:', r_none)\n",
    "print('RD:', r_all - r_none)"
   ]
  },
  {
   "cell_type": "markdown",
   "metadata": {},
   "source": [
    "From these results we would conclude that the 45-week risk of death when everyone was treated with ART was 7.6% points lower than if no one had been treatd with ART. \n",
    "\n",
    "#### Diagnostics\n",
    "Diagnostics for the performance of the outcome model are available. All available diagnostics can be ran by using the function `run_diagnostics()`."
   ]
  },
  {
   "cell_type": "code",
   "execution_count": 5,
   "metadata": {},
   "outputs": [
    {
     "name": "stdout",
     "output_type": "stream",
     "text": [
      "======================================================================\n",
      "                 Natural Course Prediction Accuracy\n",
      "======================================================================\n",
      "Outcome model accuracy summary statistics. Defined as the predicted\n",
      "outcome value minus the observed outcome value\n",
      "----------------------------------------------------------------------\n",
      "Mean value:            0.0\n",
      "Standard Deviation:     0.348\n",
      "Minimum value:         -0.986\n",
      "Maximum value:         0.611\n",
      "======================================================================\n"
     ]
    },
    {
     "data": {
      "image/png": "[encoded data removed]",
      "text/plain": [
       "<Figure size 432x288 with 1 Axes>"
      ]
     },
     "metadata": {},
     "output_type": "display_data"
    }
   ],
   "source": [
    "g.run_diagnostics()"
   ]
  },
  {
   "cell_type": "markdown",
   "metadata": {},
   "source": [
    "But what about our confidence intervals? How do we get those?\n",
    "\n",
    "#### Confidence Intervals\n",
    "Unfortunately, confidence interval calculations for the g-formula are not straightforward. To get around this problem, we will use a non-parametric bootstrap. Below is some example code to show how to implement a nonparametric bootstrap with `TimeFixedGFormula` with 1000 resamplings"
   ]
  },
  {
   "cell_type": "code",
   "execution_count": 6,
   "metadata": {},
   "outputs": [
    {
     "name": "stdout",
     "output_type": "stream",
     "text": [
      "95% LCL -0.147226782498276\n",
      "95% UCL -0.008072303245937516\n"
     ]
    }
   ],
   "source": [
    "rd_results = []\n",
    "\n",
    "for i in range(1000):\n",
    "    s = df.sample(n=df.shape[0],replace=True)\n",
    "    g = TimeFixedGFormula(s,exposure='art',outcome='dead')\n",
    "    g.outcome_model(model='art + male + age0 + age_rs1 + age_rs2 + cd40 + cd4_rs1 + cd4_rs2 + dvl0',\n",
    "                    print_results=False)\n",
    "    g.fit(treatment='all')\n",
    "    r_all = g.marginal_outcome\n",
    "    g.fit(treatment='none')\n",
    "    r_none = g.marginal_outcome\n",
    "    rd_results.append(r_all - r_none)\n",
    "\n",
    "\n",
    "print('95% LCL', np.percentile(rd_results,q=2.5))\n",
    "print('95% UCL', np.percentile(rd_results,q=97.5))"
   ]
  },
  {
   "cell_type": "markdown",
   "metadata": {},
   "source": [
    "Adding to our previous conclusion; the 45-week risk of death when everyone was treated with ART was 7.5% points (95% CL: -0.14, 0.00) lower than if no one had been treatd with ART.\n",
    "\n",
    "#### Custom Treatments\n",
    "One of the nice features of the g-formula is we can customize the treatment plans easily. For example, say we wanted to compare a potential world where all the women were treated with ART versus a world where no one is treated. We can do this by specifying custom treatments.\n",
    "\n",
    "We specify custom treatments in `TimeFixedGFormula` by setting `treatment` equal to a specific condition. In the background, `TimeFixedGFormula` uses `eval()` to determine who is treated under the plan. You will notice that the treatment looks like how the inside of `loc[]` is specified. In this case, the `g` refers to the dataframe in the g-formula. For custom treatments, this \"magic-g\" must be used for treatments to evaluate correctly"
   ]
  },
  {
   "cell_type": "code",
   "execution_count": 7,
   "metadata": {},
   "outputs": [
    {
     "name": "stdout",
     "output_type": "stream",
     "text": [
      "Treat-women 0.16939655798998102\n",
      "RD: -0.021894178631267885\n"
     ]
    }
   ],
   "source": [
    "g = TimeFixedGFormula(df, exposure='art', outcome='dead')\n",
    "g.outcome_model(model='art + male + age0 + age_rs1 + age_rs2 + cd40 + cd4_rs1 + cd4_rs2 + dvl0',\n",
    "                print_results=False)\n",
    "g.fit(treatment=\"g['male'] == 0\")\n",
    "r_women = g.marginal_outcome\n",
    "\n",
    "print('Treat-women', r_women)\n",
    "print('RD:', r_women - r_none)"
   ]
  },
  {
   "cell_type": "markdown",
   "metadata": {},
   "source": [
    "From these results, we see that treating only women is better than treating no one. However, it isn't as good as treating everyone with ART. For another demonstration, let's look at a treatment strategy where we only treat individuals younger than 50 that have a CD4 T-cell count below 250"
   ]
  },
  {
   "cell_type": "code",
   "execution_count": 8,
   "metadata": {},
   "outputs": [
    {
     "name": "stdout",
     "output_type": "stream",
     "text": [
      "Treat-CD4 0.15347553305970812\n",
      "RD: -0.03781520356154078\n"
     ]
    }
   ],
   "source": [
    "g = TimeFixedGFormula(df, exposure='art', outcome='dead')\n",
    "g.outcome_model(model='art + male + age0 + age_rs1 + age_rs2 + cd40 + cd4_rs1 + cd4_rs2 + dvl0',\n",
    "                print_results=False)\n",
    "g.fit(treatment=\"(g['age0'] < 50) & (g['cd40'] < 250)\")\n",
    "r_custom = g.marginal_outcome\n",
    "\n",
    "print('Treat-CD4', r_custom)\n",
    "print('RD:', r_custom - r_none)"
   ]
  },
  {
   "cell_type": "markdown",
   "metadata": {},
   "source": [
    "Again, this narrow treatment regime is better than not treating anyone but is markedly worse than if we had treated everyone with ART. \n",
    "\n",
    "### Continuous Outcomes\n",
    "In the previous example, we focused on a binary outcome. We can also estimate the effect of ART on the 45-week CD4 T-cell count (continuous variable). We will reload the data, again assuming any missing CD4 T-cell data is missing-at-random conditional on our adjustment set. Additionally, we will ignore the implications of competing risks (not recommended). \n",
    "\n",
    "There are two options for the distributions of continuous outcome data; normal and Poisson\n",
    "\n",
    "\n",
    "#### Normal Distribution\n",
    "To estimate `TimeFixedGFormula` for continuous outcome data under the assumption that it is normally distributed, we specify the optional argument `outcome_type='normal'` when initializing the g-formula"
   ]
  },
  {
   "cell_type": "code",
   "execution_count": 9,
   "metadata": {},
   "outputs": [
    {
     "name": "stdout",
     "output_type": "stream",
     "text": [
      "                 Generalized Linear Model Regression Results                  \n",
      "==============================================================================\n",
      "Dep. Variable:               cd4_wk45   No. Observations:                  460\n",
      "Model:                            GLM   Df Residuals:                      450\n",
      "Model Family:                Gaussian   Df Model:                            9\n",
      "Link Function:               identity   Scale:                      1.8845e+05\n",
      "Method:                          IRLS   Log-Likelihood:                -3441.4\n",
      "Date:                Wed, 17 Jul 2019   Deviance:                   8.4805e+07\n",
      "Time:                        12:30:12   Pearson chi2:                 8.48e+07\n",
      "No. Iterations:                     3   Covariance Type:             nonrobust\n",
      "==============================================================================\n",
      "                 coef    std err          z      P>|z|      [0.025      0.975]\n",
      "------------------------------------------------------------------------------\n",
      "Intercept   1046.0635    288.476      3.626      0.000     480.661    1611.466\n",
      "art          247.4765     58.209      4.252      0.000     133.389     361.564\n",
      "male          14.1290     52.670      0.268      0.789     -89.102     117.359\n",
      "age0          -2.7258     10.034     -0.272      0.786     -22.392      16.940\n",
      "age_rs1        0.3295      0.469      0.702      0.483      -0.590       1.249\n",
      "age_rs2       -1.2525      0.965     -1.298      0.194      -3.144       0.639\n",
      "dvl0         -62.4180     65.485     -0.953      0.341    -190.765      65.929\n",
      "cd40           0.9603      0.832      1.154      0.248      -0.670       2.591\n",
      "cd4_rs1       -0.0022      0.002     -1.015      0.310      -0.006       0.002\n",
      "cd4_rs2        0.0046      0.007      0.666      0.505      -0.009       0.018\n",
      "==============================================================================\n"
     ]
    }
   ],
   "source": [
    "g = TimeFixedGFormula(df, exposure='art', outcome='cd4_wk45', outcome_type='normal')\n",
    "g.outcome_model(model='art + male + age0 + age_rs1 + age_rs2 + dvl0  + cd40 + cd4_rs1 + cd4_rs2')"
   ]
  },
  {
   "cell_type": "markdown",
   "metadata": {},
   "source": [
    "To estimate the average treatment effect (treat-all vs. treat-none), we repeat the same process as described above. Similarly, custom treatments are ran in the same way"
   ]
  },
  {
   "cell_type": "code",
   "execution_count": 10,
   "metadata": {},
   "outputs": [
    {
     "name": "stdout",
     "output_type": "stream",
     "text": [
      "ATE: 247.4764697290907\n"
     ]
    }
   ],
   "source": [
    "g.fit(treatment='all')\n",
    "r_all = g.marginal_outcome\n",
    "\n",
    "g.fit(treatment='none')\n",
    "r_none = g.marginal_outcome\n",
    "\n",
    "print('ATE:', r_all - r_none)"
   ]
  },
  {
   "cell_type": "markdown",
   "metadata": {},
   "source": [
    "So, the 45-week CD4 T-cell count is 247.5 cells higher in the world where everyone is treated with ART compared to no one receiving ART (ignoring competing risks)\n",
    "\n",
    "#### Poisson Distribution\n",
    "We may be unwilling to assume that CD4 T-cell counts are normally distributed. Instead we can specify `outcome_type='poisson'` to use a Poisson regression model instead. Below is an example of the previous but with a Poisson model instead"
   ]
  },
  {
   "cell_type": "code",
   "execution_count": 11,
   "metadata": {},
   "outputs": [
    {
     "name": "stdout",
     "output_type": "stream",
     "text": [
      "ATE: 246.9362145680459\n"
     ]
    }
   ],
   "source": [
    "g = TimeFixedGFormula(df, exposure='art', outcome='cd4_wk45', outcome_type='poisson')\n",
    "g.outcome_model(model='art + male + age0 + age_rs1 + age_rs2 + dvl0  + cd40 + cd4_rs1 + cd4_rs2',\n",
    "               print_results=False)\n",
    "\n",
    "g.fit(treatment='all')\n",
    "r_all = g.marginal_outcome\n",
    "\n",
    "g.fit(treatment='none')\n",
    "r_none = g.marginal_outcome\n",
    "\n",
    "print('ATE:', r_all - r_none)"
   ]
  },
  {
   "cell_type": "markdown",
   "metadata": {},
   "source": [
    "Our results are fairly similar. Overall, ART treatment increases CD4 T-cell count marginally, as we would expect *a priori*\n",
    "\n",
    "# Conclusion\n",
    "In this tutorial, I discussed two ways to view the g-formula. I detailed the use of `TimeFixedGFormula` for binary treatments for both binary and continuous outcomes. I demonstrated obtaining confidence intervals through a bootstrap procedure. Lastly, I showed how to specify custom treatment plans. Please view other tutorials for further information on the functionality of `TimeFixedGFormula` and other functions in *zEpid*\n",
    "\n",
    "## Further Readings\n",
    "Snowden et al. (2011) \"Implementation of G-computation on a simulated data set: demonstration of a causal inference technique.\" *AJE* 173.7: 731-738.\n",
    "\n",
    "Robins. (1986) \"A new approach to causal inference in mortality studies with a sustained exposure period—application to control of the healthy worker survivor effect.\" *Mathematical modelling* 7.9-12: 1393-1512"
   ]
  }
 ],
 "metadata": {
  "kernelspec": {
   "display_name": "Python 3",
   "language": "python",
   "name": "python3"
  },
  "language_info": {
   "codemirror_mode": {
    "name": "ipython",
    "version": 3
   },
   "file_extension": ".py",
   "mimetype": "text/x-python",
   "name": "python",
   "nbconvert_exporter": "python",
   "pygments_lexer": "ipython3",
   "version": "3.6.3"
  }
 },
 "nbformat": 4,
 "nbformat_minor": 2
}
