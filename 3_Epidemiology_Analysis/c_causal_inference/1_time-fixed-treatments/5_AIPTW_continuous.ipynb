{
 "cells": [
  {
   "cell_type": "markdown",
   "metadata": {},
   "source": [
    "# Augmented Inverse Probability of Treatment Weights\n",
    "In the last tutorial, use used the AIPTW estimator to calculate the average treatment effect for a binary outcome. In this tutorial, we will instead calculate the average treatment effect for a continuous outcome.\n",
    "\n",
    "## AIPTW\n",
    "\n",
    "As a reminder, AIPTW takes the following form\n",
    "$$E[Y^a] = \\frac{1}{n} \\sum_i^n \\left(\\frac{Y \\times I(A=a)}{\\widehat{\\Pr}(A=a|L)} - \\frac{\\hat{E}[Y|A=a, L] \\times (I(A=a) - \\widehat{\\Pr}(A=a|L))}{1 - \\widehat{\\Pr}(A=a|L)}\\right)$$\n",
    "where $\\widehat{\\Pr}(A=a|L)$ comes from the IPTW model and $\\hat{E}[Y|A=a,L]$ comes from the g-formula\n",
    "\n",
    "## Continuous Outcome example\n",
    "To motivate our example, we will use a simulated data set included with *zEpid*. In the data set, we have a cohort of HIV-positive individuals. We are interested in the sample average treatment effect of antiretroviral therapy (ART) on CD4 T-cell count at 45-weeks. We will ignore competing risks and their implications in this example. Based on substantive background knowledge, we believe that the treated and untreated population are exchangeable based gender, age, baseline CD4 T-cell count, and detectable viral load. \n",
    "\n",
    "In this tutorial, we will focus on a complete case analysis. Therefore, we will drop the `dead` column and all the missing data in `cd4_wk45`. This will leave 460 observations with no missing data"
   ]
  },
  {
   "cell_type": "code",
   "execution_count": 1,
   "metadata": {},
   "outputs": [
    {
     "name": "stdout",
     "output_type": "stream",
     "text": [
      "<class 'pandas.core.frame.DataFrame'>\n",
      "Int64Index: 460 entries, 1 to 546\n",
      "Data columns (total 12 columns):\n",
      "id          460 non-null int64\n",
      "male        460 non-null int64\n",
      "age0        460 non-null int64\n",
      "cd40        460 non-null int64\n",
      "dvl0        460 non-null int64\n",
      "art         460 non-null int64\n",
      "t           460 non-null float64\n",
      "cd4_wk45    460 non-null float64\n",
      "age_rs1     460 non-null float64\n",
      "age_rs2     460 non-null float64\n",
      "cd4_rs1     460 non-null float64\n",
      "cd4_rs2     460 non-null float64\n",
      "dtypes: float64(6), int64(6)\n",
      "memory usage: 46.7 KB\n"
     ]
    }
   ],
   "source": [
    "import numpy as np\n",
    "import pandas as pd\n",
    "\n",
    "from zepid import load_sample_data, spline\n",
    "from zepid.causal.doublyrobust import AIPTW\n",
    "\n",
    "df = load_sample_data(False)\n",
    "df[['age_rs1', 'age_rs2']] = spline(df, 'age0', n_knots=3, term=2, restricted=True)\n",
    "df[['cd4_rs1', 'cd4_rs2']] = spline(df, 'cd40', n_knots=3, term=2, restricted=True)\n",
    "\n",
    "dfcc = df.drop(columns=['dead']).dropna()\n",
    "dfcc.info()"
   ]
  },
  {
   "cell_type": "markdown",
   "metadata": {},
   "source": [
    "Our data is now ready to conduct a complete case analysis using AIPTW. First, we initialize AIPTW with our complete-case data (`dfcc`), the treatment (`art`), and the outcome (`cd4_wk45`). In the background, `AIPTW` will automatically recognize that `cd4_wk45` is not a binary variable and will consider it as a continuous outcome"
   ]
  },
  {
   "cell_type": "code",
   "execution_count": 2,
   "metadata": {},
   "outputs": [],
   "source": [
    "aipw = AIPTW(dfcc, exposure='art', outcome='cd4_wk45')"
   ]
  },
  {
   "cell_type": "markdown",
   "metadata": {},
   "source": [
    "We now repeat the process of fitting the treatment model and outcome models, then estimate the average treatment effect."
   ]
  },
  {
   "cell_type": "code",
   "execution_count": 4,
   "metadata": {},
   "outputs": [
    {
     "name": "stdout",
     "output_type": "stream",
     "text": [
      "======================================================================\n",
      "           Augment Inverse Probability of Treatment Weights           \n",
      "======================================================================\n",
      "Average Treatment Effect:    225.138\n",
      "95.0% two-sided CI: (118.647 , 331.629)\n",
      "======================================================================\n"
     ]
    }
   ],
   "source": [
    "aipw.exposure_model('male + age0 + age_rs1 + age_rs2 + cd40 + cd4_rs1 + cd4_rs2 + dvl0', print_results=False)\n",
    "aipw.outcome_model('art + male + age0 + age_rs1 + age_rs2 + cd40 + cd4_rs1 + cd4_rs2 + dvl0', print_results=False)\n",
    "aipw.fit()\n",
    "aipw.summary()"
   ]
  },
  {
   "cell_type": "markdown",
   "metadata": {},
   "source": [
    "Our results indicate that ART increased CD4 T-cell count by week 45. This results are similar to the other methods.\n",
    "\n",
    "## Poisson Distribution\n",
    "While the default of `AIPTW` is to assume the outcome follows a normal distribution and uses ordinary least squares to estimate the effect, we can also specify to use Poisson regression. To do that, we specify `continuous_distribution='poisson'` in the `outcome_model()` function. Let's look at an example"
   ]
  },
  {
   "cell_type": "code",
   "execution_count": 6,
   "metadata": {},
   "outputs": [
    {
     "name": "stdout",
     "output_type": "stream",
     "text": [
      "======================================================================\n",
      "           Augment Inverse Probability of Treatment Weights           \n",
      "======================================================================\n",
      "Average Treatment Effect:    225.234\n",
      "95.0% two-sided CI: (118.663 , 331.805)\n",
      "======================================================================\n"
     ]
    }
   ],
   "source": [
    "aipw = AIPTW(dfcc, exposure='art', outcome='cd4_wk45')\n",
    "aipw.exposure_model('male + age0 + age_rs1 + age_rs2 + cd40 + cd4_rs1 + cd4_rs2 + dvl0', print_results=False)\n",
    "aipw.outcome_model('art + male + age0 + age_rs1 + age_rs2 + cd40 + cd4_rs1 + cd4_rs2 + dvl0',\n",
    "                   continuous_distribution='poisson', print_results=False)\n",
    "aipw.fit()\n",
    "aipw.summary()"
   ]
  },
  {
   "cell_type": "markdown",
   "metadata": {},
   "source": [
    "# Conclusion\n",
    "In this tutorial, I demonstrated augmented-IPTW for continuous outcomes with `AIPTW` using *zEpid*. Please view other tutorials for information on other functionality within *zEpid*\n",
    "\n",
    "## References\n",
    "Funk MJ, Westreich D, Wiesen C, Stürmer T, Brookhart MA, Davidian M. (2011). Doubly robust estimation of causal effects. *AJE*, 173(7), 761-767.\n",
    "\n",
    "Lunceford JK, Davidian M. (2004). Stratification and weighting via the propensity score in estimation of causal treatment effects: a comparative study. *SiM*, 23(19), 2937-2960.\n",
    "\n",
    "Keil AP et al. (2018). Resolving an apparent paradox in doubly robust estimators. *AJE*, 187(4), 891-892.\n",
    "\n",
    "Robins JM, Rotnitzky A, Zhao LP. (1994). Estimation of regression coefficients when some regressors are not always observed. *JASA*, 89(427), 846-866."
   ]
  }
 ],
 "metadata": {
  "kernelspec": {
   "display_name": "Python 3",
   "language": "python",
   "name": "python3"
  },
  "language_info": {
   "codemirror_mode": {
    "name": "ipython",
    "version": 3
   },
   "file_extension": ".py",
   "mimetype": "text/x-python",
   "name": "python",
   "nbconvert_exporter": "python",
   "pygments_lexer": "ipython3",
   "version": "3.6.3"
  }
 },
 "nbformat": 4,
 "nbformat_minor": 2
}
