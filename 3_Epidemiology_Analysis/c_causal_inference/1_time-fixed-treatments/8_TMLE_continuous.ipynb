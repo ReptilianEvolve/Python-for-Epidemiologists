{
 "cells": [
  {
   "cell_type": "markdown",
   "metadata": {},
   "source": [
    "# Targeted Maximum Likelihood Estimator\n",
    "The targeted maximum likelihood estimator (TMLE) is a doubly robust estimator. What distinguishes it from other doubly robust estimators (augmented-IPTW) is that it uses a secondary targeting (hence the name) step that optimizes the bias-variance tradeoff for the target parameter. A common target parameter is the sample average treatment effect, which compares to counterfactual where all individuals in the study sample were treated versus the counterfactual where no individual was treated. Throughout this section, I will use the notation that is common in the TMLE literature. This is a little different from the notation in other documents.\n",
    "\n",
    "The target parameter is defined as\n",
    "$$\\psi = E_L\\left[E\\left[Y^{a=1}|L\\right] - E\\left[Y^{a=0}|L\\right]\\right]$$\n",
    "For continuous outcomes, this is the only parameter provided\n",
    "\n",
    "This tutorial focuses on estimating TMLE with a continuous outcome. Behind the scenes, TMLE converts the outcome to be bounded between 0 and 1. This allows TMLE to be correctly estimated. This bounding will not impact the user results since `TMLE` bounds the outcome data and unbounds the results, $\\psi$. Unlike binary outcomes, `TMLE` only provides the averge treatment effect, as defined above. I will demonstrate with both the default regression models and machine learning algorithms.\n",
    "\n",
    "We will also build on the previous tutorial and account for missing at random data using IPMW\n",
    "\n",
    "## Continuous Outcomes\n",
    "To motivate our example, we will use a simulated data set included with *zEpid*. In the data set, we have a cohort of HIV-positive individuals. We are interested in the sample average treatment effect of antiretroviral therapy (ART) on CD4 T-cell count at 45 weeks. We will ignore competing risks for this example demonstration. Based on substantive background knowledge, we believe that the treated and untreated population are exchangeable based gender, age, CD4 T-cell count, and detectable viral load. \n",
    "\n",
    "If no custom model is specified, users can request either Normal or Poisson distributions for continuous outcomes. We will first demonstrate with an assumed normal distribution for the outcome model.\n",
    "\n",
    "`TMLE` detects whether the outcome is continuous in the background, so you don't have to specify anything special for continuous outcome data"
   ]
  },
  {
   "cell_type": "code",
   "execution_count": 1,
   "metadata": {},
   "outputs": [
    {
     "name": "stdout",
     "output_type": "stream",
     "text": [
      "<class 'pandas.core.frame.DataFrame'>\n",
      "Int64Index: 547 entries, 0 to 546\n",
      "Data columns (total 12 columns):\n",
      "id          547 non-null int64\n",
      "male        547 non-null int64\n",
      "age0        547 non-null int64\n",
      "cd40        547 non-null int64\n",
      "dvl0        547 non-null int64\n",
      "art         547 non-null int64\n",
      "t           547 non-null float64\n",
      "cd4_wk45    460 non-null float64\n",
      "age_rs1     547 non-null float64\n",
      "age_rs2     547 non-null float64\n",
      "cd4_rs1     547 non-null float64\n",
      "cd4_rs2     547 non-null float64\n",
      "dtypes: float64(6), int64(6)\n",
      "memory usage: 55.6 KB\n"
     ]
    }
   ],
   "source": [
    "from zepid import load_sample_data, spline\n",
    "from zepid.causal.doublyrobust import TMLE\n",
    "\n",
    "df = load_sample_data(False)\n",
    "df[['age_rs1', 'age_rs2']] = spline(df, 'age0', n_knots=3, term=2, restricted=True)\n",
    "df[['cd4_rs1', 'cd4_rs2']] = spline(df, 'cd40', n_knots=3, term=2, restricted=True)\n",
    "\n",
    "df = df.drop(columns=['dead'])\n",
    "df.info()"
   ]
  },
  {
   "cell_type": "markdown",
   "metadata": {},
   "source": [
    "We are now ready to estimate TMLE with a continuous outcome. We will specify `missing_model()` to account for missing `cd4_wk45` data. We will use the default option, which assumes a Normal model for continuous outcomes"
   ]
  },
  {
   "cell_type": "code",
   "execution_count": 2,
   "metadata": {},
   "outputs": [
    {
     "name": "stderr",
     "output_type": "stream",
     "text": [
      "c:\\users\\zivic\\python programs\\development\\zepid\\zepid\\causal\\doublyrobust\\TMLE.py:676: RuntimeWarning: invalid value encountered in less\n",
      "  v = np.where(np.less(v, bound), bound, v)\n",
      "c:\\users\\zivic\\python programs\\development\\zepid\\zepid\\causal\\doublyrobust\\TMLE.py:677: RuntimeWarning: invalid value encountered in greater\n",
      "  v = np.where(np.greater(v, 1-bound), 1-bound, v)\n"
     ]
    },
    {
     "name": "stdout",
     "output_type": "stream",
     "text": [
      "======================================================================\n",
      "                Targeted Maximum Likelihood Estimator                 \n",
      "======================================================================\n",
      "Treatment:        art             No. Observations:     547                 \n",
      "Outcome:          cd4_wk45        No. Missing Outcome:  87                  \n",
      "g-Model:          Logistic        Missing Model:        Logistic            \n",
      "Q-Model:          gaussian       \n",
      "======================================================================\n",
      "Average Treatment Effect:  213.884\n",
      "95.0% two-sided CI: (111.858 , 315.91)\n",
      "======================================================================\n"
     ]
    }
   ],
   "source": [
    "tml = TMLE(df, exposure='art', outcome='cd4_wk45')\n",
    "tml.exposure_model('male + age0 + cd40 + cd4_rs1 + cd4_rs2 + dvl0', print_results=False)\n",
    "tml.missing_model('art + male + age0 + cd40 + cd4_rs1 + cd4_rs2 + dvl0', print_results=False)\n",
    "tml.outcome_model('art + male + age0 + cd40 + cd4_rs1 + cd4_rs2 + dvl0', print_results=False)\n",
    "tml.fit()\n",
    "tml.summary()"
   ]
  },
  {
   "cell_type": "markdown",
   "metadata": {},
   "source": [
    "The results indicate that ART increased CD4 T-cell count. \n",
    "\n",
    "## Poisson Distribution\n",
    "We can also specify that the outcome data follows a Poisson distribution rather than Normally distributed outcomes"
   ]
  },
  {
   "cell_type": "code",
   "execution_count": 3,
   "metadata": {},
   "outputs": [
    {
     "name": "stdout",
     "output_type": "stream",
     "text": [
      "======================================================================\n",
      "                Targeted Maximum Likelihood Estimator                 \n",
      "======================================================================\n",
      "Treatment:        art             No. Observations:     547                 \n",
      "Outcome:          cd4_wk45        No. Missing Outcome:  87                  \n",
      "g-Model:          Logistic        Missing Model:        Logistic            \n",
      "Q-Model:          poisson        \n",
      "======================================================================\n",
      "Average Treatment Effect:  213.877\n",
      "95.0% two-sided CI: (111.88 , 315.874)\n",
      "======================================================================\n"
     ]
    },
    {
     "name": "stderr",
     "output_type": "stream",
     "text": [
      "c:\\users\\zivic\\python programs\\development\\zepid\\zepid\\causal\\doublyrobust\\TMLE.py:676: RuntimeWarning: invalid value encountered in less\n",
      "  v = np.where(np.less(v, bound), bound, v)\n",
      "c:\\users\\zivic\\python programs\\development\\zepid\\zepid\\causal\\doublyrobust\\TMLE.py:677: RuntimeWarning: invalid value encountered in greater\n",
      "  v = np.where(np.greater(v, 1-bound), 1-bound, v)\n"
     ]
    }
   ],
   "source": [
    "tml = TMLE(df, exposure='art', outcome='cd4_wk45')\n",
    "tml.exposure_model('male + age0 + cd40 + cd4_rs1 + cd4_rs2 + dvl0', print_results=False)\n",
    "tml.missing_model('art + male + age0 + cd40 + cd4_rs1 + cd4_rs2 + dvl0', print_results=False)\n",
    "tml.outcome_model('art + male + age0 + cd40 + cd4_rs1 + cd4_rs2 + dvl0', \n",
    "                  continuous_distribution='poisson', print_results=False)\n",
    "tml.fit()\n",
    "tml.summary()"
   ]
  },
  {
   "cell_type": "markdown",
   "metadata": {},
   "source": [
    "Overall, similar results are obtained between assuming Normal vs Poisson distributed outcomes\n",
    "\n",
    "## Machine Learning\n",
    "Similarly to the previous tutorials, we can also estimate `TMLE` using machine learning. Again, we will use super learner with neural network, naive Bayes, L1-penalized linear regression, L2- penalized linear regression, and random forest. This will differ from previous examples, in that classifier models will be specified for ... and regression models for the outcome. Note that `TMLE` does not check this. The user should be careful regaring model specification"
   ]
  },
  {
   "cell_type": "code",
   "execution_count": 4,
   "metadata": {},
   "outputs": [
    {
     "name": "stderr",
     "output_type": "stream",
     "text": [
      "c:\\users\\zivic\\python programs\\development\\zepid\\zepid\\causal\\doublyrobust\\TMLE.py:676: RuntimeWarning: invalid value encountered in less\n",
      "  v = np.where(np.less(v, bound), bound, v)\n",
      "c:\\users\\zivic\\python programs\\development\\zepid\\zepid\\causal\\doublyrobust\\TMLE.py:677: RuntimeWarning: invalid value encountered in greater\n",
      "  v = np.where(np.greater(v, 1-bound), 1-bound, v)\n"
     ]
    },
    {
     "name": "stdout",
     "output_type": "stream",
     "text": [
      "======================================================================\n",
      "                Targeted Maximum Likelihood Estimator                 \n",
      "======================================================================\n",
      "Treatment:        art             No. Observations:     547                 \n",
      "Outcome:          cd4_wk45        No. Missing Outcome:  87                  \n",
      "g-Model:          User-specified  Missing Model:        User-specified      \n",
      "Q-Model:          User-specified \n",
      "======================================================================\n",
      "Average Treatment Effect:  218.781\n",
      "95.0% two-sided CI: (121.127 , 316.436)\n",
      "======================================================================\n"
     ]
    }
   ],
   "source": [
    "import supylearner\n",
    "from sklearn.neural_network import MLPClassifier, MLPRegressor\n",
    "from sklearn.linear_model import LogisticRegression, LinearRegression\n",
    "from sklearn.ensemble import RandomForestClassifier, AdaBoostClassifier, RandomForestRegressor\n",
    "from sklearn.naive_bayes import GaussianNB\n",
    "from sklearn.svm import SVR\n",
    "\n",
    "\n",
    "# Initializing the ML algorithms for treatment / outcome\n",
    "neural = MLPClassifier(hidden_layer_sizes=(8,), random_state=1463)\n",
    "log1 = LogisticRegression(penalty='l1', random_state=201)\n",
    "log2 = LogisticRegression(penalty='l2', random_state=103)\n",
    "randf = RandomForestClassifier(random_state=141)\n",
    "adaboost = AdaBoostClassifier(random_state=505)\n",
    "bayes = GaussianNB()\n",
    "\n",
    "# Initializing the ML algorithms for treatment / outcome\n",
    "lin = LinearRegression()\n",
    "rrandf = RandomForestRegressor(random_state=4141)\n",
    "\n",
    "# Initializing SuPyLearner with the above algorithms\n",
    "lib = [neural, log1, log2, randf, adaboost, bayes]\n",
    "libnames = [\"Neural-Net\", \"Log_L1\", \"Log_L2\", \"Random Forest\", \"AdaBoost\", \"Bayes\"]\n",
    "sl = supylearner.SuperLearner(lib, libnames, loss=\"nloglik\", K=10, print_results=False)\n",
    "\n",
    "lib = [lin, rrandf]\n",
    "libnames = [\"Linear\", \"Random Forest\"]\n",
    "csl = supylearner.SuperLearner(lib, libnames, K=10, print_results=False)\n",
    "\n",
    "# Estimating TMLE with ML algorithms\n",
    "tmle = TMLE(df, exposure='art', outcome='cd4_wk45')  # Step 1) Initialize TMLE class\n",
    "tmle.exposure_model('male + age0 + age_rs1 + age_rs2 + cd40 + cd4_rs1 + cd4_rs2 + dvl0',\n",
    "                    custom_model=sl, print_results=False)  # Step 2) Specify exposure model\n",
    "tmle.missing_model('art + male + age0 + age_rs1 + age_rs2 + cd40 + cd4_rs1 + cd4_rs2 + dvl0',\n",
    "                    custom_model=sl, print_results=False)  # Step 3) Specify exposure model\n",
    "tmle.outcome_model('art + male + age0 + age_rs1 + age_rs2 + cd40 + cd4_rs1 + cd4_rs2 + dvl0',\n",
    "                   custom_model=csl, print_results=False)  # Step 4) Specify outcome model\n",
    "tmle.fit()  # Step 5) Targeting step\n",
    "tmle.summary()"
   ]
  },
  {
   "cell_type": "markdown",
   "metadata": {},
   "source": [
    "In our example, similar results are obtained for the TMLE with super learner. However, we could improve super learner by adding more algorithms to the outcome prediction (I did not add SVM since I wanted this to run in less than a minute).\n",
    "\n",
    "# Conclusion\n",
    "In this tutorial, I have described how TMLE can be estimated for continuous outcomes with *zEpid*. I demonstrated for parametric models with normal and Poisson distributed outcomes. Additionally, I demonstrated the usage of machine learning regressors with super learner.\n",
    "\n",
    "## References\n",
    "\n",
    "Schuler, Megan S., and Sherri Rose. \"Targeted maximum likelihood estimation for causal inference in observational studies.\" American Journal of Epidemiology 185.1 (2017): 65-73.\n",
    "\n",
    "van der Laan, Mark J., and Sherri Rose. Targeted learning: causal inference for observational and experimental data. Springer Science & Business Media, 2011.\n",
    "\n",
    "van Der Laan, Mark J., and Daniel Rubin. \"Targeted maximum likelihood learning.\" The International Journal of Biostatistics 2.1 (2006).\n",
    "\n",
    "Gruber, S., & van der Laan, M. J. (2011). tmle: An R package for targeted maximum likelihood estimation."
   ]
  }
 ],
 "metadata": {
  "kernelspec": {
   "display_name": "Python 3",
   "language": "python",
   "name": "python3"
  },
  "language_info": {
   "codemirror_mode": {
    "name": "ipython",
    "version": 3
   },
   "file_extension": ".py",
   "mimetype": "text/x-python",
   "name": "python",
   "nbconvert_exporter": "python",
   "pygments_lexer": "ipython3",
   "version": "3.6.3"
  }
 },
 "nbformat": 4,
 "nbformat_minor": 2
}
