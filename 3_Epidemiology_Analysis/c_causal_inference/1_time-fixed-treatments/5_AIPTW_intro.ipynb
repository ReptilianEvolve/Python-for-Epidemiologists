{
 "cells": [
  {
   "cell_type": "markdown",
   "metadata": {},
   "source": [
    "# Augmented Inverse Probability of Treatment Weights\n",
    "Augmented-IPTW (AIPTW) is a doubly robust estimator. Essentially, AIPTW combines the IPTW estimator and g-formula into a single estimate. Before continuing, I will briefly outline what a doubly-robust estimator is and why you would want to use one. In observational research with high-dimensional data, we (generally) are forced to use parametric models to adjust for many confounders. In this scenario, we assume that our parametric models are correctly specified. Our statistical model, $\\mathcal{M}$, must include the distribution that the data came from. \n",
    "\n",
    "With other estimators, like IPTW or g-formula, we have one chance to specify $\\mathcal{M}$ correctly. Doubly-robust estimators use a model to predict the treatment (like IPTW) and another model to predict the outcome (like g-formula). The estimator then combines the estimates, such that if either is correct, then our estimate will be consistent. Essentially, we get two chances to get the statistical model correct.\n",
    "\n",
    "A more in-depth description of doubly robust estimators is available in [this pre-print](https://statnav.files.wordpress.com/2017/10/doublerobustness-preprint.pdf)\n",
    "\n",
    "## AIPTW\n",
    "\n",
    "AIPTW takes the following form\n",
    "$$E[Y^a] = \\frac{1}{n} \\sum_i^n \\left(\\frac{Y \\times I(A=a)}{\\widehat{\\Pr}(A=a|L)} - \\frac{\\hat{E}[Y|A=a, L] \\times (I(A=a) - \\widehat{\\Pr}(A=a|L))}{1 - \\widehat{\\Pr}(A=a|L)}\\right)$$\n",
    "where $\\widehat{\\Pr}(A=a|L)$ comes from the IPTW model and $\\hat{E}[Y|A=a,L]$ comes from the g-formula\n",
    "\n",
    "## An example\n",
    "To motivate our example, we will use a simulated data set included with *zEpid*. In the data set, we have a cohort of HIV-positive individuals. We are interested in the sample average treatment effect of antiretroviral therapy (ART) on all-cause mortality at 45-weeks. Based on substantive background knowledge, we believe that the treated and untreated population are exchangeable based gender, age, CD4 T-cell count, and detectable viral load. "
   ]
  },
  {
   "cell_type": "code",
   "execution_count": 1,
   "metadata": {},
   "outputs": [
    {
     "name": "stdout",
     "output_type": "stream",
     "text": [
      "<class 'pandas.core.frame.DataFrame'>\n",
      "Int64Index: 547 entries, 0 to 546\n",
      "Data columns (total 12 columns):\n",
      "id         547 non-null int64\n",
      "male       547 non-null int64\n",
      "age0       547 non-null int64\n",
      "cd40       547 non-null int64\n",
      "dvl0       547 non-null int64\n",
      "art        547 non-null int64\n",
      "dead       517 non-null float64\n",
      "t          547 non-null float64\n",
      "age_rs1    547 non-null float64\n",
      "age_rs2    547 non-null float64\n",
      "cd4_rs1    547 non-null float64\n",
      "cd4_rs2    547 non-null float64\n",
      "dtypes: float64(6), int64(6)\n",
      "memory usage: 55.6 KB\n"
     ]
    }
   ],
   "source": [
    "import warnings\n",
    "import numpy as np\n",
    "import pandas as pd\n",
    "\n",
    "from zepid import load_sample_data, spline\n",
    "from zepid.causal.doublyrobust import AIPTW\n",
    "\n",
    "df = load_sample_data(False)\n",
    "df[['age_rs1', 'age_rs2']] = spline(df, 'age0', n_knots=3, term=2, restricted=True)\n",
    "df[['cd4_rs1', 'cd4_rs2']] = spline(df, 'cd40', n_knots=3, term=2, restricted=True)\n",
    "\n",
    "df = df.drop(columns=['cd4_wk45'])\n",
    "df.info()"
   ]
  },
  {
   "cell_type": "markdown",
   "metadata": {},
   "source": [
    "Our data is now ready to conduct a complete case analysis using AIPTW. First, we initialize AIPTW with our complete-case data (`dfcc`), the treatment (`art`), and the outcome (`dead`)"
   ]
  },
  {
   "cell_type": "code",
   "execution_count": 2,
   "metadata": {},
   "outputs": [],
   "source": [
    "aipw = AIPTW(df, exposure='art', outcome='dead')"
   ]
  },
  {
   "cell_type": "markdown",
   "metadata": {},
   "source": [
    "### Treatment Model\n",
    "First, we will specify our treatment model. We believe the sufficient set for the treatment model is gender (`male`), age (`age0`), CD4 T-cell (`cd40`) and detectable viral load (`dvl0`). To relax the functional for assumptions, we will model age and CD4 using restricted quadratic splines"
   ]
  },
  {
   "cell_type": "code",
   "execution_count": 3,
   "metadata": {},
   "outputs": [
    {
     "name": "stdout",
     "output_type": "stream",
     "text": [
      "\n",
      "----------------------------------------------------------------\n",
      "MODEL: art ~ male + age0 + age_rs1 + age_rs2 + cd40 + cd4_rs1 + cd4_rs2 + dvl0\n",
      "-----------------------------------------------------------------\n",
      "                 Generalized Linear Model Regression Results                  \n",
      "==============================================================================\n",
      "Dep. Variable:                    art   No. Observations:                  547\n",
      "Model:                            GLM   Df Residuals:                      538\n",
      "Model Family:                Binomial   Df Model:                            8\n",
      "Link Function:                  logit   Scale:                          1.0000\n",
      "Method:                          IRLS   Log-Likelihood:                -214.63\n",
      "Date:                Wed, 17 Jul 2019   Deviance:                       429.26\n",
      "Time:                        12:32:16   Pearson chi2:                     539.\n",
      "No. Iterations:                     5   Covariance Type:             nonrobust\n",
      "==============================================================================\n",
      "                 coef    std err          z      P>|z|      [0.025      0.975]\n",
      "------------------------------------------------------------------------------\n",
      "Intercept      1.2095      1.656      0.730      0.465      -2.037       4.456\n",
      "male          -0.0916      0.318     -0.288      0.773      -0.715       0.532\n",
      "age0          -0.0945      0.059     -1.612      0.107      -0.209       0.020\n",
      "age_rs1        0.0044      0.003      1.599      0.110      -0.001       0.010\n",
      "age_rs2       -0.0069      0.006     -1.259      0.208      -0.018       0.004\n",
      "cd40           0.0037      0.004      0.932      0.351      -0.004       0.012\n",
      "cd4_rs1    -2.271e-05   1.15e-05     -1.967      0.049   -4.53e-05   -8.38e-08\n",
      "cd4_rs2     8.049e-05   4.46e-05      1.806      0.071   -6.87e-06       0.000\n",
      "dvl0          -0.0494      0.397     -0.125      0.901      -0.827       0.728\n",
      "==============================================================================\n"
     ]
    }
   ],
   "source": [
    "aipw.exposure_model('male + age0 + age_rs1 + age_rs2 + cd40 + cd4_rs1 + cd4_rs2 + dvl0')"
   ]
  },
  {
   "cell_type": "markdown",
   "metadata": {},
   "source": [
    "`AIPTW` uses a logistic regression model to estimate the probabilities of treatment and the corresponding summary of the model fit are printed to the console. \n",
    "\n",
    "### Outcome Model\n",
    "Now, we will estimate the outcome model. We will model the outcomes as ART (`art`), gender (`male`), age (`age0`), CD4 T-cell (`cd40`) and detectable viral load (`dvl0`). Again, we will model age and CD4 using restricted quadratic splines "
   ]
  },
  {
   "cell_type": "code",
   "execution_count": 4,
   "metadata": {},
   "outputs": [
    {
     "name": "stdout",
     "output_type": "stream",
     "text": [
      "\n",
      "----------------------------------------------------------------\n",
      "MODEL: dead ~ art + male + age0 + age_rs1 + age_rs2 + cd40 + cd4_rs1 + cd4_rs2 + dvl0\n",
      "-----------------------------------------------------------------\n",
      "                 Generalized Linear Model Regression Results                  \n",
      "==============================================================================\n",
      "Dep. Variable:                   dead   No. Observations:                  517\n",
      "Model:                            GLM   Df Residuals:                      507\n",
      "Model Family:                Binomial   Df Model:                            9\n",
      "Link Function:                  logit   Scale:                          1.0000\n",
      "Method:                          IRLS   Log-Likelihood:                -202.85\n",
      "Date:                Wed, 17 Jul 2019   Deviance:                       405.71\n",
      "Time:                        12:32:16   Pearson chi2:                     535.\n",
      "No. Iterations:                     6   Covariance Type:             nonrobust\n",
      "==============================================================================\n",
      "                 coef    std err          z      P>|z|      [0.025      0.975]\n",
      "------------------------------------------------------------------------------\n",
      "Intercept     -4.0961      2.713     -1.510      0.131      -9.413       1.220\n",
      "art           -0.7274      0.392     -1.853      0.064      -1.497       0.042\n",
      "male          -0.0774      0.334     -0.232      0.817      -0.732       0.577\n",
      "age0           0.1605      0.096      1.670      0.095      -0.028       0.349\n",
      "age_rs1       -0.0058      0.004     -1.481      0.139      -0.013       0.002\n",
      "age_rs2        0.0128      0.006      2.026      0.043       0.000       0.025\n",
      "cd40          -0.0123      0.004     -2.987      0.003      -0.020      -0.004\n",
      "cd4_rs1     1.872e-05   1.18e-05      1.584      0.113   -4.45e-06    4.19e-05\n",
      "cd4_rs2    -3.868e-05   4.59e-05     -0.842      0.400      -0.000    5.13e-05\n",
      "dvl0          -0.1261      0.398     -0.317      0.751      -0.906       0.653\n",
      "==============================================================================\n"
     ]
    }
   ],
   "source": [
    "aipw.outcome_model('art + male + age0 + age_rs1 + age_rs2 + cd40 + cd4_rs1 + cd4_rs2 + dvl0')"
   ]
  },
  {
   "cell_type": "markdown",
   "metadata": {},
   "source": [
    "Again, logistic regression is used to predict the outcome data\n",
    "\n",
    "### Estimation\n",
    "To estimate the risk difference and risk ratio, we will now call the `fit()` function. After this, `AIPTW` gains the attributes `risk_difference` and `risk_ratio`. Additionally, results can be printed to the console using the `summary()` function"
   ]
  },
  {
   "cell_type": "code",
   "execution_count": 5,
   "metadata": {},
   "outputs": [
    {
     "name": "stdout",
     "output_type": "stream",
     "text": [
      "======================================================================\n",
      "          Augmented Inverse Probability of Treatment Weights          \n",
      "======================================================================\n",
      "Treatment:        art             No. Observations:     547                 \n",
      "Outcome:          dead            No. Missing Outcome:  30                  \n",
      "g-Model:          Logistic        Q-model:              Logistic            \n",
      "Missing model:    None           \n",
      "======================================================================\n",
      "Risk Difference:     -0.084\n",
      "95.0% two-sided CI: (-0.153 , -0.014)\n",
      "----------------------------------------------------------------------\n",
      "Risk Ratio:         0.54\n",
      "95.0% two-sided CI: -\n",
      "======================================================================\n"
     ]
    },
    {
     "name": "stderr",
     "output_type": "stream",
     "text": [
      "c:\\users\\zivic\\python programs\\development\\zepid\\zepid\\causal\\doublyrobust\\AIPW.py:337: UserWarning: All missing outcome data is assumed to be missing completely at random. To relax this assumption to outcome data is missing at random please use the `missing_model()` function\n",
      "  \"function\", UserWarning)\n"
     ]
    }
   ],
   "source": [
    "aipw.fit()\n",
    "aipw.summary()"
   ]
  },
  {
   "cell_type": "markdown",
   "metadata": {},
   "source": [
    "Interpreting the risk difference, we would conclude that had everyone in our cohort been treated with ART, the risk of all-cause mortality would have been 8.4% (95% CL: -0.153, -0.014) points lower than had no one been treated.\n",
    "\n",
    "Confidence intervals come for influence curves. They are currently only available for the risk difference\n",
    "\n",
    "### Diagnostics\n",
    "`AIPTW` supports diagnostics for both the pi-model (IPTW) and the Q-model (g-formula). All available diagnostics can easily be ran using `run_diagnostics()`"
   ]
  },
  {
   "cell_type": "code",
   "execution_count": 6,
   "metadata": {},
   "outputs": [
    {
     "name": "stdout",
     "output_type": "stream",
     "text": [
      "\tExposure Model Diagnostics\n",
      "======================================================================\n",
      "                      Weight Positivity Diagnostics\n",
      "======================================================================\n",
      "If the mean of the weights is far from either the min or max, this may\n",
      " indicate the model is incorrect or positivity is violated\n",
      "Average weight should be 2\n",
      "----------------------------------------------------------------------\n",
      "Mean weight:            1.986\n",
      "Standard Deviation:     2.366\n",
      "Minimum weight:         1.06\n",
      "Maximum weight:         16.919\n",
      "======================================================================\n",
      "\n",
      "\n",
      "======================================================================\n",
      "                  Standardized Mean Differences\n",
      "======================================================================\n",
      "            smd_w     smd_u\n",
      "labels                     \n",
      "male    -0.088567 -0.015684\n",
      "age0     0.053929  0.022311\n",
      "age_rs1  0.072832  0.062384\n",
      "age_rs2  0.071245  0.057444\n",
      "cd40    -0.022283 -0.486700\n",
      "cd4_rs1 -0.016827 -0.487005\n",
      "cd4_rs2 -0.008080 -0.297140\n",
      "dvl0     0.047828 -0.015729\n",
      "======================================================================\n",
      "\n",
      "\tOutcome Model Diagnostics\n",
      "======================================================================\n",
      "                 Natural Course Prediction Accuracy\n",
      "======================================================================\n",
      "Outcome model accuracy summary statistics. Defined as the predicted\n",
      "outcome value minus the observed outcome value\n",
      "----------------------------------------------------------------------\n",
      "Mean value:            0.0\n",
      "Standard Deviation:     0.348\n",
      "Minimum value:         -0.986\n",
      "Maximum value:         0.611\n",
      "======================================================================\n"
     ]
    },
    {
     "data": {
      "image/png": "[encoded data removed]",
      "text/plain": [
       "<Figure size 576x432 with 3 Axes>"
      ]
     },
     "metadata": {},
     "output_type": "display_data"
    }
   ],
   "source": [
    "aipw.run_diagnostics()"
   ]
  },
  {
   "cell_type": "markdown",
   "metadata": {},
   "source": [
    "\n",
    "\n",
    "### Confidence Intervals\n",
    "To obtain correct confidence intervals, we can alternatively use a bootstrap procedure. For the risk ratio, you will have to use the bootstrap procedure at this point"
   ]
  },
  {
   "cell_type": "code",
   "execution_count": 7,
   "metadata": {},
   "outputs": [],
   "source": [
    "rr_results = []\n",
    "\n",
    "with warnings.catch_warnings():  # Ignoring warnings for censored data\n",
    "    warnings.simplefilter(\"ignore\")\n",
    "    for i in range(1000):\n",
    "        dfs = df.sample(n=df.shape[0],replace=True)\n",
    "        s = AIPTW(dfs, exposure='art', outcome='dead')\n",
    "        s.exposure_model('male + age0 + age_rs1 + age_rs2 + cd40 + cd4_rs1 + cd4_rs2 + dvl0',\n",
    "                         print_results=False)\n",
    "        s.outcome_model('art + male + age0 + age_rs1 + age_rs2 + cd40 + cd4_rs1 + cd4_rs2 + dvl0',\n",
    "                        print_results=False)\n",
    "        s.fit()\n",
    "        rr_results.append(s.risk_ratio)\n"
   ]
  },
  {
   "cell_type": "code",
   "execution_count": 8,
   "metadata": {},
   "outputs": [
    {
     "name": "stdout",
     "output_type": "stream",
     "text": [
      "\n",
      "Risk Ratio\n",
      "95% LCL 0.23567701608882596\n",
      "95% UCL 0.9536056438173632\n"
     ]
    }
   ],
   "source": [
    "print('\\nRisk Ratio')\n",
    "print('95% LCL', np.percentile(rr_results, q=2.5))\n",
    "print('95% UCL', np.percentile(rr_results, q=97.5))"
   ]
  },
  {
   "cell_type": "markdown",
   "metadata": {},
   "source": [
    "Once I know the influence curve confidence intervals for the risk ratio, I will add them.\n",
    "\n",
    "## Missing Data\n",
    "For censored observations (missing outcome data), an optional function can be used to generate inverse probability weights to account for informative censoring by observed variables. Below is an example where we assume censoring is non-informative conditional on the available confounders."
   ]
  },
  {
   "cell_type": "code",
   "execution_count": 9,
   "metadata": {},
   "outputs": [
    {
     "name": "stdout",
     "output_type": "stream",
     "text": [
      "======================================================================\n",
      "          Augmented Inverse Probability of Treatment Weights          \n",
      "======================================================================\n",
      "Treatment:        art             No. Observations:     547                 \n",
      "Outcome:          dead            No. Missing Outcome:  30                  \n",
      "g-Model:          Logistic        Q-model:              Logistic            \n",
      "Missing model:    Logistic       \n",
      "======================================================================\n",
      "Risk Difference:     -0.087\n",
      "95.0% two-sided CI: (-0.16 , -0.015)\n",
      "----------------------------------------------------------------------\n",
      "Risk Ratio:         0.547\n",
      "95.0% two-sided CI: -\n",
      "======================================================================\n"
     ]
    }
   ],
   "source": [
    "aipw = AIPTW(df, exposure='art', outcome='dead')\n",
    "aipw.exposure_model('male + age0 + age_rs1 + age_rs2 + cd40 + cd4_rs1 + cd4_rs2 + dvl0', \n",
    "                   print_results=False)\n",
    "aipw.missing_model('art + male + age0 + age_rs1 + age_rs2 + cd40 + cd4_rs1 + cd4_rs2 + dvl0',\n",
    "                  print_results=False)\n",
    "aipw.outcome_model('art + male + age0 + age_rs1 + age_rs2 + cd40 + cd4_rs1 + cd4_rs2 + dvl0',\n",
    "                  print_results=False)\n",
    "aipw.fit()\n",
    "aipw.summary()"
   ]
  },
  {
   "cell_type": "markdown",
   "metadata": {},
   "source": [
    "Our results are fairly similar to the previous results. This indicates (given the assumption that our model is sufficiently flexible) that there doesn't seem to be substantial informative censoring by the observed variables.\n",
    "\n",
    "# Conclusion\n",
    "In this tutorial, I introduced the concept of doubly-robust estimators and detailed augmented-IPTW. I demonstrated estimation with `AIPTW` using *zEpid* and how to obtain confidence intervals. Please view other tutorials for information on other functionality within *zEpid*\n",
    "\n",
    "## References\n",
    "Funk MJ, Westreich D, Wiesen C, Stürmer T, Brookhart MA, Davidian M. (2011). Doubly robust estimation of causal effects. *AJE*, 173(7), 761-767.\n",
    "\n",
    "Lunceford JK, Davidian M. (2004). Stratification and weighting via the propensity score in estimation of causal treatment effects: a comparative study. *SiM*, 23(19), 2937-2960.\n",
    "\n",
    "Keil AP et al. (2018). Resolving an apparent paradox in doubly robust estimators. *AJE*, 187(4), 891-892.\n",
    "\n",
    "Robins JM, Rotnitzky A, Zhao LP. (1994). Estimation of regression coefficients when some regressors are not always observed. *JASA*, 89(427), 846-866."
   ]
  }
 ],
 "metadata": {
  "kernelspec": {
   "display_name": "Python 3",
   "language": "python",
   "name": "python3"
  },
  "language_info": {
   "codemirror_mode": {
    "name": "ipython",
    "version": 3
   },
   "file_extension": ".py",
   "mimetype": "text/x-python",
   "name": "python",
   "nbconvert_exporter": "python",
   "pygments_lexer": "ipython3",
   "version": "3.6.3"
  }
 },
 "nbformat": 4,
 "nbformat_minor": 2
}
