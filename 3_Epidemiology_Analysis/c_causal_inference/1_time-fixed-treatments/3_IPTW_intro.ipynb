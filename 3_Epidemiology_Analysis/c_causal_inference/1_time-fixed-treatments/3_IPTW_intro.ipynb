{
 "cells": [
  {
   "cell_type": "markdown",
   "metadata": {},
   "source": [
    "# Inverse Probability of Treatment Weights\n",
    "In the previous tutorial, we used the g-formula (or g-computation algorithm) to estimate the causal effect of ART on the 45-week all cause mortality. That approach required the correct specification of the $\\widehat{E}[Y|A,L]$ regression model. That means we had to have all the interaction terms between treatment ($A$) and all confounders ($L$) correctly specified. In this tutorial we will use inverse probability of treatment weights (IPTW). This approach no longer requires us to estimate all the $A$-with-$L$ interaction correctly (in fact, we no longer need to model any of those). We only need to modeling $\\widehat{\\Pr}(A=a|L)$ instead. \n",
    "\n",
    "The unstabilized weights take the following form\n",
    "$$\\widehat{W_i} = \\frac{1}{\\widehat{\\Pr}(A=a|L)}$$\n",
    "where if an individual was treated ($A=1$), their weight is $\\widehat{W_i} = \\frac{1}{\\widehat{\\Pr}(A=1|L)}$ and if untreated ($A=0$), $\\widehat{W_i} = \\frac{1}{\\widehat{\\Pr}(A=0|L)}$\n",
    "\n",
    "To stabilize weights, we modify the numerator. This modification often has little consequence for time-fixed scenarios (infact, unstabilized and stabilized weights should give the same answer) but only stabilized weights are recommended for time-varying weights. Stabilized weights take the following form\n",
    "$$\\widehat{SW_i} = \\frac{\\widehat{\\Pr}(A=a)}{\\widehat{\\Pr}(A=a|L)}$$\n",
    "\n",
    "After estimating weights, we then estimate a marginal structural model. The marginal structural model takes the following form\n",
    "$$\\widehat{Y} = \\beta_0 + \\beta_1 A$$\n",
    "and the average treatment effect of $A$ on $Y$ is $\\beta_1$. \n",
    "\n",
    "## Why it works\n",
    "Before continuing, a brief aside on why this approach works. For the g-formula, we saw how we directly estimated potential outcomes and filled them in. IPTW is not as readily transparent (at least not to me). What this approach does is construct a pseudo-population. In our new pseudo-population the average causal effect of $A$ on $Y$ is the same as the average causal effect in our observed population. However, in our pseudo-population our set of confounders, $L$, are no longer related to $A$. \n",
    "\n",
    "Specifically, our probabilities of treatment weight individuals to their treatment. So, if individuals with $L=1$ are less likely to be treated with $A$, those who with $L=1$ and $A=1$ are up-weighted in our pseudo-population. A similar process applies for down-weighting. For further discussion and intuition, I recommend reading through the references listed below\n",
    "\n",
    "## An example\n",
    "To motivate our example, we will use a simulated data set included with *zEpid*. In the data set, we have a cohort of HIV-positive individuals. We are interested in the sample average treatment effect of antiretroviral therapy (ART) on all-cause mortality at 45-weeks. Based on substantive background knowledge, we believe that the treated and untreated population are exchangeable based gender, age, CD4 T-cell count, and detectable viral load. "
   ]
  },
  {
   "cell_type": "code",
   "execution_count": 24,
   "metadata": {},
   "outputs": [
    {
     "name": "stdout",
     "output_type": "stream",
     "text": [
      "<class 'pandas.core.frame.DataFrame'>\n",
      "Int64Index: 547 entries, 0 to 546\n",
      "Data columns (total 13 columns):\n",
      "id          547 non-null int64\n",
      "male        547 non-null int64\n",
      "age0        547 non-null int64\n",
      "cd40        547 non-null int64\n",
      "dvl0        547 non-null int64\n",
      "art         547 non-null int64\n",
      "dead        517 non-null float64\n",
      "t           547 non-null float64\n",
      "cd4_wk45    460 non-null float64\n",
      "age_rs1     547 non-null float64\n",
      "age_rs2     547 non-null float64\n",
      "cd4_rs1     547 non-null float64\n",
      "cd4_rs2     547 non-null float64\n",
      "dtypes: float64(7), int64(6)\n",
      "memory usage: 59.8 KB\n"
     ]
    }
   ],
   "source": [
    "%matplotlib inline\n",
    "\n",
    "import numpy as np\n",
    "import pandas as pd\n",
    "import matplotlib.pyplot as plt\n",
    "\n",
    "from zepid import load_sample_data, spline\n",
    "\n",
    "df = load_sample_data(False)\n",
    "df[['age_rs1', 'age_rs2']] = spline(df, 'age0', n_knots=3, term=2, restricted=True)\n",
    "df[['cd4_rs1', 'cd4_rs2']] = spline(df, 'cd40', n_knots=3, term=2, restricted=True)\n",
    "df.info()"
   ]
  },
  {
   "cell_type": "markdown",
   "metadata": {},
   "source": [
    "With our data loaded, we are now ready to estimate the inverse probability of treatment weights. We can do this by using the `IPTW` class in *zEpid*. This class is initialized with our data set and the column name for the treatment.\n",
    "\n",
    "### Unstabilized Weights\n",
    "We will start with estimation with unstabilized weights. We will specify the optional argument `stabilized=False` to generate the unstabilized weights"
   ]
  },
  {
   "cell_type": "code",
   "execution_count": 25,
   "metadata": {},
   "outputs": [],
   "source": [
    "from zepid.causal.ipw import IPTW\n",
    "\n",
    "iptw = IPTW(df, treatment='art', stabilized=False)"
   ]
  },
  {
   "cell_type": "markdown",
   "metadata": {},
   "source": [
    "With the specified `IPTW` class, we will now use the `regression_models()` function. In this model, we will specify $L$. Based on substantive background knowledge, we believe that the treated and untreated population are exchangeable based gender, age, CD4 T-cell count, and detectable viral load. Additionally, we will use spline terms for age and baseline CD4 T-cell count"
   ]
  },
  {
   "cell_type": "code",
   "execution_count": 26,
   "metadata": {},
   "outputs": [
    {
     "name": "stdout",
     "output_type": "stream",
     "text": [
      "\n",
      "----------------------------------------------------------------\n",
      "MODEL: art ~ male + age0 + age_rs1 + age_rs2 + cd40 + cd4_rs1 + cd4_rs2 + dvl0\n",
      "-----------------------------------------------------------------\n",
      "                 Generalized Linear Model Regression Results                  \n",
      "==============================================================================\n",
      "Dep. Variable:                    art   No. Observations:                  547\n",
      "Model:                            GLM   Df Residuals:                      538\n",
      "Model Family:                Binomial   Df Model:                            8\n",
      "Link Function:                  logit   Scale:                          1.0000\n",
      "Method:                          IRLS   Log-Likelihood:                -214.63\n",
      "Date:                Thu, 04 Apr 2019   Deviance:                       429.26\n",
      "Time:                        17:23:31   Pearson chi2:                     539.\n",
      "No. Iterations:                     5   Covariance Type:             nonrobust\n",
      "==============================================================================\n",
      "                 coef    std err          z      P>|z|      [0.025      0.975]\n",
      "------------------------------------------------------------------------------\n",
      "Intercept      1.2095      1.656      0.730      0.465      -2.037       4.456\n",
      "male          -0.0916      0.318     -0.288      0.773      -0.715       0.532\n",
      "age0          -0.0945      0.059     -1.612      0.107      -0.209       0.020\n",
      "age_rs1        0.0044      0.003      1.599      0.110      -0.001       0.010\n",
      "age_rs2       -0.0069      0.006     -1.259      0.208      -0.018       0.004\n",
      "cd40           0.0037      0.004      0.932      0.351      -0.004       0.012\n",
      "cd4_rs1    -2.271e-05   1.15e-05     -1.967      0.049   -4.53e-05   -8.38e-08\n",
      "cd4_rs2     8.049e-05   4.46e-05      1.806      0.071   -6.87e-06       0.000\n",
      "dvl0          -0.0494      0.397     -0.125      0.901      -0.827       0.728\n",
      "==============================================================================\n"
     ]
    }
   ],
   "source": [
    "iptw.regression_models('male + age0 + age_rs1 + age_rs2 + cd40 + cd4_rs1 + cd4_rs2 + dvl0')"
   ]
  },
  {
   "cell_type": "markdown",
   "metadata": {},
   "source": [
    "After specifying and fitting our regression model, the weights can be calculated by calling the `fit()` function. This will calculate the corresponding weights. Afterwards, we can access the `Weights` attribute to return our vector of weights. We will add these to our data set in a new column labeled 'uw' for unstabilized weights"
   ]
  },
  {
   "cell_type": "code",
   "execution_count": 29,
   "metadata": {},
   "outputs": [],
   "source": [
    "iptw.fit()\n",
    "df['uw'] = iptw.Weight"
   ]
  },
  {
   "cell_type": "markdown",
   "metadata": {},
   "source": [
    "### Diagnostics\n",
    "Before going further, let's go through some diagnostics for our weights. All diagnostics can be ran after calling the `fit()` function. Current diagnostics include; distributions of predicted probabilities, Love plots (for confounder balance), and weight behavior\n",
    "\n",
    "First, we will look at the predicted probability distributions. We will stratify by treatment and compare the probability of receiving treatment based on an individual's covariates. We expect these distributions to overlap with each other. If they do not, that is indicative of positivity issues. \n",
    "\n",
    "There are two options in *zEpid*; we can look at density plot or a box plot. Let's look at both"
   ]
  },
  {
   "cell_type": "code",
   "execution_count": 30,
   "metadata": {},
   "outputs": [
    {
     "data": {
      "image/png": "[encoded data removed]",
      "text/plain": [
       "<Figure size 432x288 with 1 Axes>"
      ]
     },
     "metadata": {},
     "output_type": "display_data"
    },
    {
     "data": {
      "image/png": "[encoded data removed]",
      "text/plain": [
       "<Figure size 432x288 with 1 Axes>"
      ]
     },
     "metadata": {},
     "output_type": "display_data"
    }
   ],
   "source": [
    "# Density plot\n",
    "iptw.plot_kde()\n",
    "plt.title('Density plot of Pr(A=1|L)')\n",
    "plt.show()\n",
    "\n",
    "# Box plot\n",
    "iptw.plot_boxplot()\n",
    "plt.title('Box plot of Pr(A=1|L)')\n",
    "plt.ylim([0, 1])\n",
    "plt.show()"
   ]
  },
  {
   "cell_type": "markdown",
   "metadata": {},
   "source": [
    "Based on these plots, it doesn't look like we have any gross positivity violations. This would suggest our weights aren't doing anything weird and that everyone in the sample has some counterpart who was treated/treated. \n",
    "\n",
    "Next, we can look to see how well our covariates are balanced. We can do this by using a Love plot. A Love plot displays the absolute values of the standardized mean differences for all covariates. It will present the standardized mean differences for the unweighted and weighted data. Let's look at our example"
   ]
  },
  {
   "cell_type": "code",
   "execution_count": 31,
   "metadata": {},
   "outputs": [
    {
     "data": {
      "image/png": "[encoded data removed]",
      "text/plain": [
       "<Figure size 432x288 with 1 Axes>"
      ]
     },
     "metadata": {},
     "output_type": "display_data"
    }
   ],
   "source": [
    "iptw.plot_love()\n",
    "plt.title('Love plot')\n",
    "plt.show()"
   ]
  },
  {
   "cell_type": "markdown",
   "metadata": {},
   "source": [
    "Based on the above Love plot, we have pretty good balance of our confounders in the weighted population. As a general rule of thumb, all covariates should be below a standardized mean difference of 0.10. So, this suggests we are accounting for the measured confounders adequately. If there was still imbalance, we might consider adding interaction terms or different splines for continuous covariates.\n",
    "\n",
    "Lastly, we will assess the behavior of the weights. We can do this with `positivity()`. Let's take a look"
   ]
  },
  {
   "cell_type": "code",
   "execution_count": 32,
   "metadata": {},
   "outputs": [
    {
     "name": "stdout",
     "output_type": "stream",
     "text": [
      "======================================================================\n",
      "          Inverse Probability of Treatment Weight Diagnostics\n",
      "======================================================================\n",
      "If the mean of the weights is far from either the min or max, this may\n",
      " indicate the model is incorrect or positivity is violated\n",
      "Average weight should be\n",
      "\t1.0 for stabilized\n",
      "\t2.0 for unstabilized\n",
      "Standard deviation can help in IPTW model selection\n",
      "----------------------------------------------------------------------\n",
      "Mean weight:            1.986\n",
      "Standard Deviation:     2.366\n",
      "Minimum weight:         1.06\n",
      "Maximum weight:         16.919\n",
      "======================================================================\n"
     ]
    }
   ],
   "source": [
    "iptw.positivity()"
   ]
  },
  {
   "cell_type": "markdown",
   "metadata": {},
   "source": [
    "From this, we get some summary statistics for our weights. As the above documentation suggests, the average weight fr unstabilized weights should be 2. Our mean weight is 1.986, which is fairly close. Additionally, the maximum and minimum weights are not too crazy (if maximum weight was 100+, there might be some concerns regarding positivity). \n",
    "\n",
    "I am happy with our weight specification. So, let's estimate our marginal structural model.\n",
    "\n",
    "### Marginal Structural Model\n",
    "*zEpid* does not naturally specify the marginal structural model. The reason being I am unable to allow for sufficient flexibility of this model (when doing assessment of effect measure modification). To estimate the parameters of the marginal structural model, we will use *statsmodels* GEE. There are two reasons for using GEE; *statsmodels* GLM does not allow weights, and confidence intervals. \n",
    "\n",
    "For the confidence intervals of the marginal structural model, we need to use robust standard errors (sandwich estimator of variance). For some intuition as to why, remember that we are up-weighting some individuals to count for more than one person. However, we are creating exact replicas of them. The replicas are correlated with each other and we need to account for that replication.\n",
    "\n",
    "The confidence intervals can also be calculated using a non-parametric bootstrapping procedure. Confidence intervals from bootstrapping will likely be narrower than the GEE confidence intervals. I wont' demonstrate it, but you can easily adapt other code for bootstrapping and the code below.\n",
    "\n",
    "Alright, let's estimate the marginal structural model"
   ]
  },
  {
   "cell_type": "code",
   "execution_count": 33,
   "metadata": {},
   "outputs": [
    {
     "name": "stdout",
     "output_type": "stream",
     "text": [
      "RD =  -0.082\n",
      "95% CL: -0.156 -0.007\n"
     ]
    },
    {
     "name": "stderr",
     "output_type": "stream",
     "text": [
      "c:\\users\\zivic\\appdata\\local\\programs\\python\\python36\\lib\\site-packages\\statsmodels\\genmod\\generalized_estimating_equations.py:472: DomainWarning: The identity link function does not respect the domain of the Binomial family.\n",
      "  DomainWarning)\n"
     ]
    }
   ],
   "source": [
    "import statsmodels.api as sm\n",
    "import statsmodels.formula.api as smf\n",
    "from statsmodels.genmod.families import family,links\n",
    "\n",
    "ind = sm.cov_struct.Independence()\n",
    "f = sm.families.family.Binomial(sm.families.links.identity)\n",
    "linrisk = smf.gee('dead ~ art', df['id'], df, cov_struct=ind, family=f, weights=df['uw']).fit()\n",
    "\n",
    "print('RD = ', np.round(linrisk.params[1], 3))\n",
    "print('95% CL:', np.round(linrisk.conf_int().iloc[1][0], 3), \n",
    "      np.round(linrisk.conf_int().iloc[1][1], 3))"
   ]
  },
  {
   "cell_type": "markdown",
   "metadata": {},
   "source": [
    "*statsmodels* will generate a warning about the specific link-family specification, but this is alright. This combination will estimate the risk difference. From these results we would conclude that the 45-week risk of death when everyone was treated with ART was 8.2% points lower (95% CL: -0.15.6, -0.7) than if no one had been treatd with ART.\n",
    "\n",
    "These results are fairly close to the `TimeFixedGFormula` results. The results are not the same because we have model misspecification for (at least one of) our parametric regression models. If you are worried about model misspecification (you should be), I would recommend fitting both. If the results are fairly similar, you can rest easy. If they are different (and even if they are not), then I would recommend using a doubly robust estimator (like `AIPTW`).\n",
    "\n",
    "## Stabilized Weights\n",
    "Below is code to generate the stabilized weights. The process is largely the same. I will also run `positivity()` to show the difference in the weight distribution"
   ]
  },
  {
   "cell_type": "code",
   "execution_count": 34,
   "metadata": {},
   "outputs": [
    {
     "name": "stdout",
     "output_type": "stream",
     "text": [
      "======================================================================\n",
      "          Inverse Probability of Treatment Weight Diagnostics\n",
      "======================================================================\n",
      "If the mean of the weights is far from either the min or max, this may\n",
      " indicate the model is incorrect or positivity is violated\n",
      "Average weight should be\n",
      "\t1.0 for stabilized\n",
      "\t2.0 for unstabilized\n",
      "Standard deviation can help in IPTW model selection\n",
      "----------------------------------------------------------------------\n",
      "Mean weight:            0.998\n",
      "Standard Deviation:     0.203\n",
      "Minimum weight:         0.416\n",
      "Maximum weight:         2.444\n",
      "======================================================================\n"
     ]
    }
   ],
   "source": [
    "# Calculating stabilized weights\n",
    "iptw = IPTW(df, treatment='art', stabilized=True)\n",
    "iptw.regression_models('male + age0 + age_rs1 + age_rs2 + cd40 + cd4_rs1 + cd4_rs2 + dvl0', print_results=False)\n",
    "iptw.fit()\n",
    "\n",
    "# Positivity diagnostic\n",
    "iptw.positivity()"
   ]
  },
  {
   "cell_type": "code",
   "execution_count": 37,
   "metadata": {},
   "outputs": [
    {
     "name": "stdout",
     "output_type": "stream",
     "text": [
      "RD =  -0.082\n",
      "95% CL: -0.156 -0.007\n"
     ]
    }
   ],
   "source": [
    "df['sw'] = iptw.Weight\n",
    "\n",
    "linrisk = smf.gee('dead ~ art', df['id'], df, cov_struct=ind, family=f, weights=df['sw']).fit()\n",
    "\n",
    "print('RD = ', np.round(linrisk.params[1], 3))\n",
    "print('95% CL:', np.round(linrisk.conf_int().iloc[1][0], 3), \n",
    "      np.round(linrisk.conf_int().iloc[1][1], 3))"
   ]
  },
  {
   "cell_type": "markdown",
   "metadata": {},
   "source": [
    "which gives us the same estimate of the risk difference, but has a different distribution for the weights. You can also estimate the risk ratio by specifying `f = sm.families.family.Binomial(sm.families.links.log)`. \n",
    "\n",
    "## Continuous Outcomes\n",
    "Estimating the average treatment effect for continuous outcomes is easy. We don't need to do anything with `IPTW`. Rather, we change the marginal structural model. To motivate this example, we will assess the causal effect of ART on CD4 T-cell count at 45 weeks (we will ignore the implications of competing risk for now)\n",
    "\n",
    "Let's go through the example with stabilized weights"
   ]
  },
  {
   "cell_type": "code",
   "execution_count": 38,
   "metadata": {},
   "outputs": [
    {
     "name": "stdout",
     "output_type": "stream",
     "text": [
      "ATE =  209.904\n",
      "95% CL: 101.187 318.62\n"
     ]
    }
   ],
   "source": [
    "f = sm.families.family.Gaussian()\n",
    "ate = smf.gee('cd4_wk45 ~ art', df['id'], df, cov_struct=ind, family=f, weights=df['sw']).fit()\n",
    "\n",
    "print('ATE = ', np.round(ate.params[1], 1))\n",
    "print('95% CL:', np.round(ate.conf_int().iloc[1][0], 1), \n",
    "      np.round(ate.conf_int().iloc[1][1], 1))"
   ]
  },
  {
   "cell_type": "markdown",
   "metadata": {},
   "source": [
    "Therefore, under the counterfactual where everyone had been treated with ART, the mean CD4 T-cell count of study participants would be 209.9 (95% CL: 101.2, 318.8) higher compared to the counterfactual where no one was treated. However, we have been making a strong assumption throughout (that is easy to miss). Do you know what it is?\n",
    "\n",
    "## Missing Data\n",
    "Both `dead` (n=517) and `cd4_wk45` (n=460) have missing data. While these may be referred to as censoring (and inverse probability of censoring weights to relax some assumptions), we will use `IPMW` to calculate these. For more details on how these weights are calculated, see the missing data guide\n",
    "\n",
    "We will generate separate missing weights for `dead` and `cd4_wk45`. Additionally, we will assume outcome data is missing completely at random conditional on our confounders and ART."
   ]
  },
  {
   "cell_type": "code",
   "execution_count": 42,
   "metadata": {},
   "outputs": [],
   "source": [
    "from zepid.causal.ipw import IPMW\n",
    "\n",
    "# Estimating IPMW for `dead`\n",
    "ipmw = IPMW(df, missing_variable='dead', stabilized=True)\n",
    "ipmw.regression_models(model_denominator='art + male + age0 + age_rs1 + age_rs2 + cd40 + cd4_rs1 + cd4_rs2 + dvl0',\n",
    "                       model_numerator='art', print_results=False)\n",
    "ipmw.fit()\n",
    "\n",
    "df['mw_dead'] = ipmw.Weight"
   ]
  },
  {
   "cell_type": "code",
   "execution_count": 43,
   "metadata": {},
   "outputs": [],
   "source": [
    "# Estimating IPMW for `dead`\n",
    "ipmw = IPMW(df, missing_variable='cd4_wk45', stabilized=True)\n",
    "ipmw.regression_models(model_denominator='art + male + age0 + age_rs1 + age_rs2 + cd40 + cd4_rs1 + cd4_rs2 + dvl0',\n",
    "                       model_numerator='art', print_results=False)\n",
    "ipmw.fit()\n",
    "\n",
    "df['mw_cd4'] = ipmw.Weight"
   ]
  },
  {
   "cell_type": "markdown",
   "metadata": {},
   "source": [
    "To get the final weights, we multiply the estimate IPMW by the IPTW. We then fit our marginal structural model with these new weights. Let's fit our models again"
   ]
  },
  {
   "cell_type": "code",
   "execution_count": 47,
   "metadata": {},
   "outputs": [
    {
     "name": "stdout",
     "output_type": "stream",
     "text": [
      "RD =  -0.081\n",
      "95% CL: -0.156 -0.005\n"
     ]
    },
    {
     "name": "stderr",
     "output_type": "stream",
     "text": [
      "c:\\users\\zivic\\appdata\\local\\programs\\python\\python36\\lib\\site-packages\\statsmodels\\genmod\\generalized_estimating_equations.py:472: DomainWarning: The identity link function does not respect the domain of the Binomial family.\n",
      "  DomainWarning)\n"
     ]
    }
   ],
   "source": [
    "# Estimating Effect of ART on CD T-cell count at week 45 with IPTW and IPMW\n",
    "df['msw_dead'] = df['sw'] * df['mw_dead']\n",
    "\n",
    "f = sm.families.family.Binomial(sm.families.links.identity)\n",
    "linrisk = smf.gee('dead ~ art', df['id'], df, cov_struct=ind, family=f, weights=df['msw_dead']).fit()\n",
    "\n",
    "print('RD = ', np.round(linrisk.params[1], 3))\n",
    "print('95% CL:', np.round(linrisk.conf_int().iloc[1][0], 3), \n",
    "      np.round(linrisk.conf_int().iloc[1][1], 3))"
   ]
  },
  {
   "cell_type": "code",
   "execution_count": 44,
   "metadata": {},
   "outputs": [
    {
     "name": "stdout",
     "output_type": "stream",
     "text": [
      "ATE =  205.1\n",
      "95% CL: 96.9 313.3\n"
     ]
    }
   ],
   "source": [
    "# Estimating Effect of ART on CD T-cell count at week 45 with IPTW and IPMW\n",
    "df['msw_cd4'] = df['sw'] * df['mw_cd4']\n",
    "\n",
    "f = sm.families.family.Gaussian()\n",
    "ate = smf.gee('cd4_wk45 ~ art', df['id'], df, cov_struct=ind, family=f, weights=df['msw_cd4']).fit()\n",
    "\n",
    "print('ATE = ', np.round(ate.params[1], 1))\n",
    "print('95% CL:', np.round(ate.conf_int().iloc[1][0], 1), \n",
    "      np.round(ate.conf_int().iloc[1][1], 1))"
   ]
  },
  {
   "cell_type": "markdown",
   "metadata": {},
   "source": [
    "Our results are fairly similar when adding IPMW. This approach has the advantage of making less restrictive assumptions than the previous model. \n",
    "\n",
    "# Conclusions\n",
    "In this tutorial, I have went through the basics of inverse probability of treatment weights and using them to estimate marginal structural models. I demonstrated how to estimate a marginal structural model using *zEpid* to estimate the risk difference and average treatment effect. Lastly, I demonstrated how to make less restrictive assumptions regarding missing data with inverse probability of missing weights. In the next tutorial, we will go through a version of IPTW to estimate the average treatment effect in the (un)treated.\n",
    "\n",
    "## References\n",
    "Robins JM, Hernan MA, Brumback B. (2000). Marginal structural models and causal inference in epidemiology.\n",
    "\n",
    "Hernán MÁ, Brumback B, Robins JM. (2000). Marginal structural models to estimate the causal effect of zidovudine on the survival of HIV-positive men. Epidemiology, 561-570.\n",
    "\n",
    "Cole SR, Hernán MA. (2008). Constructing inverse probability weights for marginal structural models. American journal of epidemiology, 168(6), 656-664.\n",
    "\n",
    "Austin PC, Stuart EA. (2015). Moving towards best practice when using inverse probability of treatment weighting (IPTW) using the propensity score to estimate causal treatment effects in observational studies. Statistics in medicine, 34(28), 3661-3679.\n",
    "\n",
    "Love T. (2004). Graphical Display of Covariate Balance. Presentation, See http://chrp.org/love/JSM2004RoundTableHandout. pdf, 1364."
   ]
  }
 ],
 "metadata": {
  "kernelspec": {
   "display_name": "Python 3",
   "language": "python",
   "name": "python3"
  },
  "language_info": {
   "codemirror_mode": {
    "name": "ipython",
    "version": 3
   },
   "file_extension": ".py",
   "mimetype": "text/x-python",
   "name": "python",
   "nbconvert_exporter": "python",
   "pygments_lexer": "ipython3",
   "version": "3.6.3"
  }
 },
 "nbformat": 4,
 "nbformat_minor": 2
}
