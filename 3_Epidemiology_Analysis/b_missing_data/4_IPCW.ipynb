{
 "cells": [
  {
   "cell_type": "markdown",
   "metadata": {},
   "source": [
    "# Inverse Probability of Censoring Weights\n",
    "Your colleague bursts into your office and asks for your help. They are trying to estimate the overall risk of their cohort. They are using Kaplan-Meier but recently read that Kaplan-Meier assumes non-informative censoring (i.e. censoring is unrelated to any causes of the event). They are worried about this assumption and wanted to ask you if there was any way around it or to relax that assumption. You tell them yes, you can use inverse probability of censoring weights.\n",
    "\n",
    "Inverse probability of censoring weights (IPCW) are inherently linked to inverse probability of missing weights for monotone missing data. Specifically, if you are censored at time $t$, you will also be censored at time $t+1$ (we are operating under the assumption you can't return). Additionally, censoring is only a specific type of missing data pattern. With that in mind, let's look at how IPCW are calculated. The formula is \n",
    "$$\\widehat{W_i} = \\frac{1}{\\widehat{\\Pr}(C_i > t | L)}$$\n",
    "where $C_i$ indicates censoring. So, our weights are the inverse of the conditional probability of not being censored at time $t$. To stabilize the weights, we often use the marginal probability of censoring.\n",
    "$$\\widehat{SW_i} = \\frac{\\widehat{\\Pr}(C_i > t)}{\\widehat{\\Pr}(C_i > t | L)}$$\n",
    "\n",
    "What does $L$ include? $L$ should include anything we believe is related to drop out and related to the outcome. If you use a directed acyclic graph approach (see the references for further details), you can look for d-separation of the censor node and the outcome node. Under this framework, conditioning on uncensored individuals can be viewed as 'intervening' to prevent drop-out and the usual identifiability criteria fall out.\n",
    "\n",
    "To estimate the conditional probabilities required for censoring weights, we use pooled logistic regression. We will also use pooled logistic regression to estimate time-varying treatment causal effects (see the corresponding tutorials). In low-dimensional $L$, we can use stratified Kaplan-Meier to estimate these conditional probabilities. However, this is not easy for high-dimensional $L$ or when $L$ is continuous. Therefore, generally pooled logistic regression is used. \n",
    "\n",
    "## Pooled Logistic Regression\n",
    "First, we make our data set to have multiple rows per individual. Specifically, every row corresponds to one individual observed for (one) unit of time. To this data, we fit a logistic regression model (and don't worry about accounting for the correlation between observations since we are not making inference). From this fitted model, we estimate the corresponding probabilities for not being censored at that time. To estimate the above probabilities, we take the cumulative probability until that time point. For stabilized weights, this looks like\n",
    "$$\\widehat{SW_i} = \\prod_{R_k \\le t} \\frac{\\widehat{\\Pr}(C_i > R_k)}{\\widehat{\\Pr}(C_i > R_k | \\bar{L}=l, C_i > R_{k-1})}$$\n",
    "One other important note is event order in survival analysis. For survival methods like Kaplan-Meier, if an event and censoring event have the same time, the event occurs *right before* the censoring event. We need to remember this when constructing our weights. Censoring events (that item we are estimating our pooled model to) occur *right after* the events. This changes the denominator slightly\n",
    "\n",
    "## An Example\n",
    "Returning to our colleague, let's solve their problem. After some further discussion, you explain that IPCW assumes non-informative censoring conditional on observed covariates. They say they believe that assumption to be approximately true based on gender and age."
   ]
  },
  {
   "cell_type": "code",
   "execution_count": 1,
   "metadata": {},
   "outputs": [
    {
     "name": "stdout",
     "output_type": "stream",
     "text": [
      "<class 'pandas.core.frame.DataFrame'>\n",
      "Int64Index: 27382 entries, 0 to 27381\n",
      "Data columns (total 16 columns):\n",
      "id           27382 non-null int64\n",
      "enter        27382 non-null int64\n",
      "out          27382 non-null float64\n",
      "male         27382 non-null int64\n",
      "age0         27382 non-null int64\n",
      "cd40         27382 non-null int64\n",
      "dvl0         27382 non-null int64\n",
      "cd4          27382 non-null int64\n",
      "dvl          27382 non-null int64\n",
      "art          27382 non-null int64\n",
      "drop         27382 non-null int64\n",
      "dead         27382 non-null int64\n",
      "age_rs1      27382 non-null float64\n",
      "age_rs2      27382 non-null float64\n",
      "enter_rs1    27382 non-null float64\n",
      "enter_rs2    27382 non-null float64\n",
      "dtypes: float64(5), int64(11)\n",
      "memory usage: 3.6 MB\n"
     ]
    }
   ],
   "source": [
    "%matplotlib inline\n",
    "\n",
    "import numpy as np\n",
    "import pandas as pd\n",
    "import matplotlib.pyplot as plt\n",
    "from lifelines import KaplanMeierFitter\n",
    "\n",
    "from zepid import load_sample_data, spline\n",
    "\n",
    "df = load_sample_data(True)\n",
    "df[['age_rs1', 'age_rs2']] = spline(df, 'age0', n_knots=3, term=2, restricted=True)\n",
    "df[['enter_rs1', 'enter_rs2']] = spline(df, 'enter', n_knots=3, term=2, restricted=True)\n",
    "df.info()"
   ]
  },
  {
   "cell_type": "markdown",
   "metadata": {},
   "source": [
    "To construct IPCW, we will use the `IPCW` class. We initialize this class with the data set (`df`), the ID variable (`id`), the time variable (`enter`), and the event (`dead`). "
   ]
  },
  {
   "cell_type": "code",
   "execution_count": 2,
   "metadata": {},
   "outputs": [],
   "source": [
    "from zepid.causal.ipw import IPCW\n",
    "\n",
    "ipcw = IPCW(df, idvar='id', time='enter', event='dead')"
   ]
  },
  {
   "cell_type": "markdown",
   "metadata": {},
   "source": [
    "Next, we specify our regression model. We will model time and age using restricted quadratic splines. The more fleixble the form of the continuous variables, the less restrictive parametric assumptions we are making.\n",
    "\n",
    "The specified model numerator is for stabilized weights. For unstabilized weights, we can replace this with `'1'`. Generally, I would recommend stabilized weights over unstabilized"
   ]
  },
  {
   "cell_type": "code",
   "execution_count": 3,
   "metadata": {},
   "outputs": [],
   "source": [
    "ipcw.regression_models('enter + enter_rs1 + enter_rs2 + male + age0 + age_rs1 + age_rs2',\n",
    "                      model_numerator='enter + enter_rs1 + enter_rs2',\n",
    "                      print_results=False)"
   ]
  },
  {
   "cell_type": "markdown",
   "metadata": {},
   "source": [
    "Finally, we call the `fit()` function to estimate the weights. We then can extract our censoring weights from the `Weight` attribute"
   ]
  },
  {
   "cell_type": "code",
   "execution_count": 4,
   "metadata": {},
   "outputs": [],
   "source": [
    "ipcw.fit()\n",
    "\n",
    "df['cw'] = ipcw.Weight"
   ]
  },
  {
   "cell_type": "markdown",
   "metadata": {},
   "source": [
    "### Estimation\n",
    "For estimation with Kaplan-Meier, I will use `KaplanMeierFitter` from *lifelines*. I will also plot the results for the unweighted risk curve versus the weighted risk curve"
   ]
  },
  {
   "cell_type": "code",
   "execution_count": 5,
   "metadata": {},
   "outputs": [
    {
     "data": {
      "text/plain": [
       "<lifelines.KaplanMeierFitter: fitted with 27382 observations, 27290 censored>"
      ]
     },
     "execution_count": 5,
     "metadata": {},
     "output_type": "execute_result"
    }
   ],
   "source": [
    "# Calculating unweighted (Naive) Kaplan-Meier\n",
    "km_n = KaplanMeierFitter()\n",
    "km_n.fit(df['out'], event_observed=df['dead'], entry=df['enter'])"
   ]
  },
  {
   "cell_type": "code",
   "execution_count": 6,
   "metadata": {},
   "outputs": [
    {
     "name": "stderr",
     "output_type": "stream",
     "text": [
      "c:\\users\\zivic\\appdata\\local\\programs\\python\\python36\\lib\\site-packages\\lifelines\\fitters\\kaplan_meier_fitter.py:129: StatisticalWarning: It looks like your weights are not integers, possibly propensity scores then?\n",
      "  It's important to know that the naive variance estimates of the coefficients are biased. Instead use Monte Carlo to\n",
      "  estimate the variances. See paper \"Variance estimation when using inverse probability of treatment weighting (IPTW) with survival analysis\"\n",
      "  or \"Adjusted Kaplan-Meier estimator and log-rank test with inverse probability of treatment weighting for survival data.\"\n",
      "                  \n",
      "  StatisticalWarning,\n"
     ]
    },
    {
     "data": {
      "text/plain": [
       "<lifelines.KaplanMeierFitter: fitted with 27382 observations, 27290 censored>"
      ]
     },
     "execution_count": 6,
     "metadata": {},
     "output_type": "execute_result"
    }
   ],
   "source": [
    "# Calculating IPCW-weighted Kaplan-Meier\n",
    "km_c = KaplanMeierFitter()\n",
    "km_c.fit(df['out'], event_observed=df['dead'], entry=df['enter'],weights=df['cw'])"
   ]
  },
  {
   "cell_type": "code",
   "execution_count": 18,
   "metadata": {},
   "outputs": [
    {
     "data": {
      "image/png": "[encoded data removed]",
      "text/plain": [
       "<Figure size 432x288 with 1 Axes>"
      ]
     },
     "metadata": {},
     "output_type": "display_data"
    }
   ],
   "source": [
    "# Plotting risk functions\n",
    "plt.step(km_n.event_table.index, 1 - km_n.survival_function_, where='post', c='r', label='Naive')\n",
    "plt.step(km_c.event_table.index, 1 - km_c.survival_function_, where='post', c='b', label='IPCW')\n",
    "plt.title('Weighted Risk Curves')\n",
    "plt.xlabel('Time')\n",
    "plt.ylabel('Probability of Death')\n",
    "plt.legend()\n",
    "plt.ylim([0,0.2])\n",
    "plt.show()"
   ]
  },
  {
   "cell_type": "markdown",
   "metadata": {},
   "source": [
    "While we see some slight differences, our two curves are largely overlapping. This suggests that there is not really a substantial extent of informative censoring by age and gender. \n",
    "\n",
    "### Bounds\n",
    "For further sensitivity analysis, we can also generate the bounds. These bounds are extreme scenarios of censoring. Basically, the worst case. To create the bounds, we copy two data sets. One in which the censored individuals never have the event (the lower bound) and another in which the event happens right as the person is censored (the upper bound). \n",
    "\n",
    "Between these bounds are where all possible values for censored individuals must be between. They are useful for understanding the assumption of non-informative censoring and how strong that assumption is. Let's look at an example"
   ]
  },
  {
   "cell_type": "code",
   "execution_count": 8,
   "metadata": {},
   "outputs": [],
   "source": [
    "# Restricting data to the last observation for each individual\n",
    "dfr = df.loc[df['id'] != df['id'].shift(-1)].copy()"
   ]
  },
  {
   "cell_type": "code",
   "execution_count": 9,
   "metadata": {},
   "outputs": [
    {
     "data": {
      "text/plain": [
       "<lifelines.KaplanMeierFitter: fitted with 547 observations, 406 censored>"
      ]
     },
     "execution_count": 9,
     "metadata": {},
     "output_type": "execute_result"
    }
   ],
   "source": [
    "# Calculating Upper Bound\n",
    "dfu = dfr.copy()\n",
    "dfu.loc[dfu['drop'] == 1, 'dead'] = 1\n",
    "\n",
    "km_u = KaplanMeierFitter()\n",
    "km_u.fit(dfu['out'], event_observed=dfu['dead'])"
   ]
  },
  {
   "cell_type": "code",
   "execution_count": 10,
   "metadata": {},
   "outputs": [
    {
     "data": {
      "text/plain": [
       "<lifelines.KaplanMeierFitter: fitted with 547 observations, 455 censored>"
      ]
     },
     "execution_count": 10,
     "metadata": {},
     "output_type": "execute_result"
    }
   ],
   "source": [
    "# Calculating Lower Bound\n",
    "dfl = dfr.copy()\n",
    "dfl.loc[dfl['drop'] == 1, 'out'] = 60\n",
    "\n",
    "km_l = KaplanMeierFitter()\n",
    "km_l.fit(dfl['out'], event_observed=dfl['dead'])"
   ]
  },
  {
   "cell_type": "code",
   "execution_count": 19,
   "metadata": {},
   "outputs": [
    {
     "data": {
      "image/png": "[encoded data removed]",
      "text/plain": [
       "<Figure size 432x288 with 1 Axes>"
      ]
     },
     "metadata": {},
     "output_type": "display_data"
    }
   ],
   "source": [
    "# Adding bounds to our previous plot\n",
    "plt.step(km_u.event_table.index, 1 - km_u.survival_function_, where='post', c='gray', label=None)\n",
    "plt.step(km_l.event_table.index, 1 - km_l.survival_function_, where='post', c='gray', label=None)\n",
    "\n",
    "# previous plot\n",
    "plt.step(km_n.event_table.index, 1 - km_n.survival_function_, where='post', c='r', label='Naive')\n",
    "plt.step(km_c.event_table.index, 1 - km_c.survival_function_, where='post', c='b', label='IPCW')\n",
    "plt.title('Weighted Risk Curves')\n",
    "plt.xlabel('Time')\n",
    "plt.ylabel('Probability of Death')\n",
    "plt.legend()\n",
    "plt.show()"
   ]
  },
  {
   "cell_type": "markdown",
   "metadata": {},
   "source": [
    "As seen above, our estimate sits pretty close to one of the bounds (the lower bound). Additionally, the bounds don't spread out too far until censoring starts occurring.\n",
    "\n",
    "## Time-Varying Covariates\n",
    "Your colleague talked to some clinicians and they expressed concern that informative censoring may have been occurring by ART therapy and CD4 T-cell count. They are concerned since these are time-varying variables. Not a problem for IPCW via pooled logistic models. The time-varying variables are easily incorporate into this framework. In fact, we have mostly everything prepared. Let's re-estimate our IPCW but include ART, baseline CD4, and CD4 at that visit. Additionally, we will lag ART by one time unit and add that into our model as well. We will model CD4 with a quadratic and cubic terms\n",
    "\n",
    "Below is code to do all of that"
   ]
  },
  {
   "cell_type": "code",
   "execution_count": 24,
   "metadata": {},
   "outputs": [
    {
     "name": "stderr",
     "output_type": "stream",
     "text": [
      "c:\\users\\zivic\\appdata\\local\\programs\\python\\python36\\lib\\site-packages\\lifelines\\fitters\\kaplan_meier_fitter.py:129: StatisticalWarning: It looks like your weights are not integers, possibly propensity scores then?\n",
      "  It's important to know that the naive variance estimates of the coefficients are biased. Instead use Monte Carlo to\n",
      "  estimate the variances. See paper \"Variance estimation when using inverse probability of treatment weighting (IPTW) with survival analysis\"\n",
      "  or \"Adjusted Kaplan-Meier estimator and log-rank test with inverse probability of treatment weighting for survival data.\"\n",
      "                  \n",
      "  StatisticalWarning,\n"
     ]
    },
    {
     "data": {
      "image/png": "[encoded data removed]",
      "text/plain": [
       "<Figure size 432x288 with 1 Axes>"
      ]
     },
     "metadata": {},
     "output_type": "display_data"
    }
   ],
   "source": [
    "# Creating new variables\n",
    "df['cd40_q'] = df['cd40']**2\n",
    "df['cd40_c'] = df['cd40']**3\n",
    "df['cd4_q'] = df['cd4']**2\n",
    "df['cd4_c'] = df['cd4']**3\n",
    "\n",
    "# Estimating new IPCW\n",
    "ipcw = IPCW(df, idvar='id', time='enter', event='dead')\n",
    "ipcw.regression_models('enter + enter_rs1 + enter_rs2 + male + age0 + age_rs1 + age_rs2 + ' + \n",
    "                       'art + cd40 + cd40_q + cd40_c + cd4 + cd4_q + cd4_c',\n",
    "                      model_numerator='enter + enter_rs1 + enter_rs2',\n",
    "                      print_results=False)\n",
    "ipcw.fit()\n",
    "\n",
    "df['cw_'] = ipcw.Weight\n",
    "\n",
    "# Estimating Kaplan-Meier\n",
    "km_c2 = KaplanMeierFitter()\n",
    "km_c2.fit(df['out'], event_observed=df['dead'], entry=df['enter'],weights=df['cw_'])\n",
    "\n",
    "# Plotting Results with others\n",
    "plt.step(km_n.event_table.index, 1 - km_n.survival_function_, where='post', c='r', label='Naive')\n",
    "plt.step(km_c.event_table.index, 1 - km_c.survival_function_, where='post', c='b', label='IPCW')\n",
    "# adding new IPCW risk curve\n",
    "plt.step(km_c2.event_table.index, 1 - km_c2.survival_function_, where='post', c='g', label='IPCW2')\n",
    "plt.title('Weighted Risk Curves')\n",
    "plt.xlabel('Time')\n",
    "plt.ylabel('Probability of Death')\n",
    "plt.legend()\n",
    "plt.show()"
   ]
  },
  {
   "cell_type": "markdown",
   "metadata": {},
   "source": [
    "We see a slight difference in our results when accounting for these additional variables. So, does this mean we can tell our colleague there is no informative censoring occurring? No. Rather it does not seem to be much informative censoring by *the selected variables, assuming no model misspecification*. We can never definitively claim no informative censoring (unless there is no censoring). \n",
    "\n",
    "What we can do is allow for some informative censoring to occur by measured variables. Essentially, we have weaked the assumption from no informative by *any variables* to no informative censoring *conditional on some set of variables*. This is progress. See the references for further details, explanations, and when bias can occur\n",
    "\n",
    "## Conclusion\n",
    "In this tutorial, I introduced inverse probability of censoring weights and how to calculate them using *zEpid*. While we focused on estimation of the overall risk function, these weights can be combined with IPTW to estimate marginal structural models for time-varying covariates. We will return to IPCW in the tutorials for causal inference with time-varying treatments\n",
    "\n",
    "### References\n",
    "Howe, CJ et al. (2016). Selection bias due to loss to follow up in cohort studies. *Epidemiology*, 27(1), 91."
   ]
  }
 ],
 "metadata": {
  "kernelspec": {
   "display_name": "Python 3",
   "language": "python",
   "name": "python3"
  },
  "language_info": {
   "codemirror_mode": {
    "name": "ipython",
    "version": 3
   },
   "file_extension": ".py",
   "mimetype": "text/x-python",
   "name": "python",
   "nbconvert_exporter": "python",
   "pygments_lexer": "ipython3",
   "version": "3.6.3"
  }
 },
 "nbformat": 4,
 "nbformat_minor": 2
}
